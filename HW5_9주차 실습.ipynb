{
 "cells": [
  {
   "cell_type": "markdown",
   "metadata": {},
   "source": [
    "# 201721510 김수현\n",
    "# 9주차 텍스트마이닝 실습2\n",
    "# 01. 토픽모델링"
   ]
  },
  {
   "cell_type": "markdown",
   "metadata": {},
   "source": [
    "## Topic Modeling with Sklearn\n",
    "\n",
    "영화 리뷰 데이터를 이용하여 topic modeling을 학습"
   ]
  },
  {
   "cell_type": "markdown",
   "metadata": {},
   "source": [
    "### Topic Modeling이란?\n",
    "\n",
    "참조: https://ratsgo.github.io/from%20frequency%20to%20semantics/2017/06/01/LDA/\n",
    "\n",
    "토픽모델링은 텍스트 형태로 되어 있는 다수의 문서들로부터 공통적으로 내재되어 있는 주제들을 추출하기 위한 방법론이다. <br>\n",
    "토픽모델링의 기본적인 가정은, 저자들이 문서를 작성할 때 먼저 특정한 주제들을 정하고 나서 그러한 주제들로부터 문장을 구성한다는 것이다. 따라서 문서를 구성하는 단어들은 그 주제들로부터 파생되어진 것으로 볼 수 있으며, 토픽모델링은 문서와 단어들에 대해 통계적인 추론을 수행하여 본래의 주제들을 찾아내는 방법이라고 할 수 있다.  <br>\n",
    "이러한 작업을 하기 위해서는 먼저 자연어로 기술되어 있는 문서들에 대해 형태소 분석을 함으로써 문장들을 개별 단어로 분리해야 한다. \n",
    " <br>\n",
    "토픽모델링의 가장 대표적인 알고리즘은 LDA(Latent Dirichlet Allocation)로 알려져 있다.  <br>\n",
    "LDA는 Blei et al. (2003)에 의해 제안된 알고리즘으로, 앞서 설명한 바와 같이, 확률기법을 기반으로 하여 문서의 토픽 분포를 추론한다.  <br>\n",
    "LDA에서 토픽은 주제를 의미하는 용어로 사용되며, 각 문서들이 특정한 주제에 속할 확률분포와 주제로부터 특정 단어들이 파생되어 나올 확률분포가 주어졌을 때, 이 두 확률분포를 조합하여 각 문서들에 들어가는 단어들의 확률분포를 계산해낸다.  <br>\n",
    "아래 그림에서 θ는 문서들이 각 주제들에 속할 확률분포를 나타내며 디리클레분포의 매개변수인 α에 의해 결정된다.  <br>\n",
    "그림에서 N은 특정 문서에 속한 단어의 집합이며, M은 전체 문서의 집합을 나타낸다. z는 문서 내의 단어들이 주제들에 속할 확률분포를 나타내며, 이는 θ에 의한 다항분포로 선택된다.  <br>\n",
    "β는 각 주제가 특정 단어를 생성할 확률을 나타내는 확률분포이며, 결국 z와 β에 의해 실제 문서들의 단어분포인 w가 결정된다.  <br>\n",
    "이 모형에서 w만이 실제로 문서들을 통해 주어진 분포이고 나머지는 모두 잠재변수이다.  <br>\n",
    "LDA 알고리즘에서는 주어진 문서와 토픽들의 사전확률 분포인 α와 토픽 내에서 단어의 사전확률분포인 β의 파라미터 값을 활용해 반복적인 시뮬레이션을 통해 z와 θ를 추정한다. \n",
    "\n",
    "![topic.png](topic.png)"
   ]
  },
  {
   "cell_type": "markdown",
   "metadata": {},
   "source": [
    "다음무비에서 추출한 영화 리뷰를 불러온다."
   ]
  },
  {
   "cell_type": "code",
   "execution_count": 6,
   "metadata": {},
   "outputs": [],
   "source": [
    "import csv\n",
    "text = []\n",
    "y = []\n",
    "\n",
    "with open('movie_data_new(1).csv', encoding='utf-8') as csvfile:\n",
    "    csvreader = csv.reader(csvfile)\n",
    "    for row in csvreader:\n",
    "        #print(row)\n",
    "        if row and len(row[0]) > 10: #review 길이가 10자 이상인 경우만\n",
    "#        if row: #그 줄에 내용이 있는 경우에만\n",
    "            text.append(row[0]) #영화 리뷰를 text 리스트에 추가\n",
    "            y.append(row[2]) #영화이름을 text 리스트에 추가"
   ]
  },
  {
   "cell_type": "code",
   "execution_count": 7,
   "metadata": {},
   "outputs": [
    {
     "name": "stdout",
     "output_type": "stream",
     "text": [
      "리뷰 수: 12445\n",
      "리뷰영화: {'신과함께', '라라랜드', '인피니티 워', '곤지암', '범죄도시', '택시운전사', '코코'}\n"
     ]
    }
   ],
   "source": [
    "print('리뷰 수:', len(text))\n",
    "print('리뷰영화:', set(y))"
   ]
  },
  {
   "cell_type": "code",
   "execution_count": 8,
   "metadata": {},
   "outputs": [
    {
     "data": {
      "text/plain": [
       "['헐..다 죽었어....나중에 앤트맨 보다가도 깜놀...',\n",
       " '개연성은 무시해라 액션을 즐겨라 스타로드가 이끌어준다 각각의 영웅들을 즐겨라 그리고 단적인 신념이 얼마나 부질없는지 보셔라',\n",
       " '정말 지루할틈없이 넘잘만들었다 역시 대단하다',\n",
       " '마지막에 누구한테 연락한거지? 궁금',\n",
       " '다음 편이 궁굼해지네요^^',\n",
       " '안잼있는사람 있음???????????',\n",
       " '잘 만들었다! 지루할 틈이 없네...',\n",
       " '이제는 지겨워서 못보겠다',\n",
       " '롱턱 타노스의  장갑이 참 맘에 듬.  아이언 맨과 토르 닥터만 생고생하고..  가디언즈 오브 갤럭시 들 때문에  손해가 크다고 봄  들짐승 하고 칡뿌리 같은 캐릭이  재미를 더해줄줄 알았으나  아쉬움 . 분노의 상징 헐크가 겁을 먹다니..로키의 초반 출연뿐이 서운하지만  본 영화에 이어질 내용에 적합하지 않은지 서두에  죽는부분으로 마무리 됨은 심섬한 충격임 .  다음편에 헬라가 다시 나올까?',\n",
       " '와~~~~~진짜 개쪄는 인피니티워!!몇번을 봐도 개지린다.너무잼있다.어벤져스4도 너무 기대된다.빨리 2019년이왔으면 좋겠다.']"
      ]
     },
     "execution_count": 8,
     "metadata": {},
     "output_type": "execute_result"
    }
   ],
   "source": [
    "text[:10]"
   ]
  },
  {
   "cell_type": "markdown",
   "metadata": {},
   "source": [
    "#### 한글 처리를 위해서는 konlpy가 필요\n",
    "\n",
    "topic modeling은 count vector를 사용하므로 sklearn의 CountVectorizer를 사용"
   ]
  },
  {
   "cell_type": "code",
   "execution_count": 9,
   "metadata": {},
   "outputs": [],
   "source": [
    "from konlpy.tag import Okt #konlpy에서 Twitter 형태소 분석기를 import\n",
    "twitter_tag = Okt()\n",
    "\n",
    "from sklearn.feature_extraction.text import CountVectorizer\n",
    "\n",
    "vec = CountVectorizer(tokenizer=twitter_tag.nouns, #우선은 명사만 사용\n",
    "                      decode_error ='ignore', \n",
    "                      max_df=0.5, #너무 자주 나타나는 단어는 제외, 책에서는 0.15를 사용\n",
    "                      #min_df = 3, #3개 미만의 문서에서 나타난 단어는 제외, 여기서는 max_features를 1000으로 제한하므로 별 필요 없음\n",
    "                      max_features = 1000) #적당한 대상 단어 수를 선택\n",
    "review_cv = vec.fit_transform(text)"
   ]
  },
  {
   "cell_type": "code",
   "execution_count": 10,
   "metadata": {},
   "outputs": [
    {
     "data": {
      "text/plain": [
       "(12445, 1000)"
      ]
     },
     "execution_count": 10,
     "metadata": {},
     "output_type": "execute_result"
    }
   ],
   "source": [
    "review_cv.shape"
   ]
  },
  {
   "cell_type": "markdown",
   "metadata": {},
   "source": [
    "#### sklearn의 LatentDirichletAllocation을 이용하여 topic modeling 수행\n",
    "다양한 argument를 적절히 이용하는 것이 중요"
   ]
  },
  {
   "cell_type": "code",
   "execution_count": 11,
   "metadata": {},
   "outputs": [],
   "source": [
    "from sklearn.decomposition import LatentDirichletAllocation\n",
    "\n",
    "lda = LatentDirichletAllocation(n_components = 10, #추출할 topic의 수를 지정\n",
    "                                max_iter=25, #max_iter는 최종 모형에서는 5,000~10,000번 시도한다고 알려져 있음\n",
    "                                topic_word_prior= 0.1, doc_topic_prior=1.0,\n",
    "                                #topic_word_prior: beta, doc_topic_prior: alpha\n",
    "                                #일반적으로 beta는 0.1로 고정하고 alpha를 50/topic의 수 근처의 값을 시도\n",
    "                                #alpha와 beta는 낮은 값을 사용할수록 특정 토픽들이 두드러지도록 하는 효과가 있다고 합\n",
    "                                learning_method='batch', #'batch'는 'online'에 비해 더 성능이 좋고 느림, 현재는 default\n",
    "                                n_jobs= -1, #사용 processor 수, None이면 1, -1이면 모두 사용\n",
    "                                random_state=0)\n",
    "\n",
    "review_topics = lda.fit_transform(review_cv)"
   ]
  },
  {
   "cell_type": "code",
   "execution_count": 12,
   "metadata": {},
   "outputs": [
    {
     "name": "stdout",
     "output_type": "stream",
     "text": [
      "topic-word distribution dimension: (10, 1000)\n",
      "document-topic distribution dimenstion (12445, 10)\n"
     ]
    }
   ],
   "source": [
    "print('topic-word distribution dimension:', lda.components_.shape)\n",
    "print('document-topic distribution dimenstion', review_topics.shape)"
   ]
  },
  {
   "cell_type": "markdown",
   "metadata": {},
   "source": [
    "#### topic을 보기 쉽게 출력하는 함수를 작성"
   ]
  },
  {
   "cell_type": "code",
   "execution_count": 14,
   "metadata": {},
   "outputs": [],
   "source": [
    "def print_top_words(model, feature_names, n_top_words):\n",
    "    for topic_idx, topic in enumerate(model.components_):\n",
    "        print(\"Topic #%d: \" % topic_idx, end='')\n",
    "        print(\", \".join([feature_names[i] for i in topic.argsort()[:-n_top_words - 1:-1]]))\n",
    "        #print(\", \".join([feature_names[i]+'('+str(topic[i])+')' for i in topic.argsort()[:-n_top_words - 1:-1]]))\n",
    "        # 위 slicing에서 맨 뒤 -1은 역순을 의미, 역순으로 했을 때 처음부터 n_top_words까지\n",
    "    print()"
   ]
  },
  {
   "cell_type": "code",
   "execution_count": 15,
   "metadata": {},
   "outputs": [
    {
     "name": "stdout",
     "output_type": "stream",
     "text": [
      "Topic #0: 사람, 보고, 내용, 원작, 편, 마블, 이해, 노스, 다음, 결말\n",
      "Topic #1: 더, 말, 듯, 그, 사랑, 이야기, 것, 현실, 조금, 대한\n",
      "Topic #2: 좀, 수, 볼, 것, 부분, 끝, 함, 눈, 느낌, 소재\n",
      "Topic #3: 점, 정말, 꼭, 내, 때, 음악, 영화, 때문, 중, 신\n",
      "Topic #4: 이, 정도, 왜, 신파, 그냥, 한국, 영화, 작품, 감독, 관객\n",
      "Topic #5: 연기, 배우, 최고, 마동석, 윤계상, 액션, 송강호, 역시, 연기력, 조연\n",
      "Topic #6: 스토리, 진짜, 눈물, 감동, 기대, 마지막, 재미, 또, 웹툰, 모두\n",
      "Topic #7: 영화, 생각, 감동, 가족, 다시, 한번, 보기, 처음, 아이, 추천\n",
      "Topic #8: 광주, 장면, 중간, 그, 역사, 우리, 가슴, 번, 분, 택시\n",
      "Topic #9: 시간, 돈, 나, 평점, 거, 뭐, 공포영화, 공포, 별로, 애\n",
      "\n"
     ]
    }
   ],
   "source": [
    "print_top_words(lda,vec.get_feature_names(), 10)"
   ]
  },
  {
   "cell_type": "markdown",
   "metadata": {},
   "source": [
    "#### 한 자로 구성된 명사들은 의미파악이 어려우므로 삭제할 필요가 있음\n",
    "두 자 이상만 반환하는 함수를 작성"
   ]
  },
  {
   "cell_type": "code",
   "execution_count": 16,
   "metadata": {},
   "outputs": [
    {
     "data": {
      "text/plain": [
       "['개연', '성은', '무시', '액션', '스타로드', '각각', '영웅', '적', '신념', '얼마나']"
      ]
     },
     "execution_count": 16,
     "metadata": {},
     "output_type": "execute_result"
    }
   ],
   "source": [
    "twitter_tag.nouns(text[1])"
   ]
  },
  {
   "cell_type": "code",
   "execution_count": 17,
   "metadata": {},
   "outputs": [],
   "source": [
    "def tokenizer(str):\n",
    "    return [token for token in twitter_tag.nouns(str) if len(token) > 1]"
   ]
  },
  {
   "cell_type": "code",
   "execution_count": 18,
   "metadata": {},
   "outputs": [
    {
     "data": {
      "text/plain": [
       "['개연', '성은', '무시', '액션', '스타로드', '각각', '영웅', '신념', '얼마나']"
      ]
     },
     "execution_count": 18,
     "metadata": {},
     "output_type": "execute_result"
    }
   ],
   "source": [
    "tokenizer(text[1])"
   ]
  },
  {
   "cell_type": "markdown",
   "metadata": {},
   "source": [
    "'적'과 같이 한 자로 된 단어를 제거하고 count vector 생성"
   ]
  },
  {
   "cell_type": "code",
   "execution_count": 19,
   "metadata": {},
   "outputs": [],
   "source": [
    "#count vector 새로 생성\n",
    "vec = CountVectorizer(tokenizer=tokenizer, decode_error ='ignore', \n",
    "                      max_df=0.5, max_features = 1000) #너무 자주 나타나는 단어는 제외\n",
    "review_cv = vec.fit_transform(text)"
   ]
  },
  {
   "cell_type": "code",
   "execution_count": 20,
   "metadata": {},
   "outputs": [
    {
     "name": "stdout",
     "output_type": "stream",
     "text": [
      "Topic #0: 느낌, 관객, 공포, 얘기, 영화, 갈수록, 상상, 노잼, 스트레스, 내년\n",
      "Topic #1: 가족, 지옥, 대한, 설정, 저승, 부모님, 점수, 영화, 생각, 점도\n",
      "Topic #2: 영화, 눈물, 이건, 진짜, 댓글, 시나리오, 억지로, 라라, 랜드, 인생\n",
      "Topic #3: 연기, 차태현, 김동욱, 주지훈, 이후, 대해, 여자, 진짜, 김향기, 막판\n",
      "Topic #4: 송강호, 택시, 가슴, 계속, 기자, 운전사, 정신, 해도, 영화, 한마디\n",
      "Topic #5: 아이, 영화, 강철, 보고, 세상, 설명, 생각, 아주, 마음, 부모\n",
      "Topic #6: 영화관, 영화, 편이, 가지, 인상, 유머, 또한, 도대체, 재즈, 장첸\n",
      "Topic #7: 기대, 귀신, 기분, 시대, 명작, 형사, 영화, 외국, 최고, 추석\n",
      "Topic #8: 영화, 약간, 시작, 세계, 구성, 그것, 요즘, 정말, 눈물, 한번\n",
      "Topic #9: 부분, 추천, 나름, 소리, 라면, 아주, 순간, 다큐, 보시, 오역\n",
      "Topic #10: 신파, 억지, 엄마, 드라마, 눈물, 중국, 스케일, 영화, 주제, 스토리\n",
      "Topic #11: 다시, 인간, 집중, 한번, 정도, 영웅, 영화, 시간, 추격, 시도\n",
      "Topic #12: 원작, 연기력, 다른, 영화, 올해, 자신, 요소, 효과, 문제, 폭력\n",
      "Topic #13: 마블, 노스, 결말, 어벤져스, 히어로, 이해, 시리즈, 다음, 이번, 토르\n",
      "Topic #14: 역시, 영화, 생각, 박수, 충격, 정도, 이승, 기대, 꿀잼, 사후세계\n",
      "Topic #15: 액션, 영화, 범죄, 도시, 최고, 취향, 남한, 모두, 재미, 산성\n",
      "Topic #16: 광주, 역사, 시민, 위해, 전두환, 민주화, 희생, 운동, 민주주의, 가슴\n",
      "Topic #17: 영화, 가장, 상영, 처음, 정말, 나라, 반성, 각색, 관객수, 대안\n",
      "Topic #18: 감독, 영화, 천만, 최악, 수준, 개연, 한국, 스크린, 헐리웃, 진짜\n",
      "Topic #19: 중간, 영화, 이제, 매우, 코믹, 완성, 더욱, 비교, 결론, 정말\n",
      "Topic #20: 영화, 개인, 강추, 최고, 생각, 몰입도, 볼거리, 누가, 슬픔, 재미\n",
      "Topic #21: 음악, 뮤지컬, 노래, 영화, 인생, 매력, 스톤, 마무리, 최고, 선택\n",
      "Topic #22: 사람, 이영화, 영화, 모습, 절대, 조폭, 때문, 경찰, 무서움, 걱정\n",
      "Topic #23: 영화, 여운, 후반, 혼자, 기술, 초반, 화보, 화가, 전반, 마지막\n",
      "Topic #24: 평점, 시간, 한국영, 알바, 영화, 발전, 공감, 언제, 그대로, 내용\n",
      "Topic #25: 영화, 판타지, 관람, 반전, 감성, 사람, 정말, 수가, 생각, 마지막\n",
      "Topic #26: 우리, 영화, 국민, 흥행, 대한민국, 의미, 다만, 성공, 불가, 감독\n",
      "Topic #27: 전개, 영화, 간만, 아들, 재미, 쓰레기, 눈물, 예상, 마지막, 감동\n",
      "Topic #28: 영화, 조금, 제대로, 몰입, 생각, 그냥, 분노, 한편, 잔인함, 선물\n",
      "Topic #29: 영화, 우리나라, 교훈, 스토리, 연기자, 기대, 재미, 생각, 이해, 잘못\n",
      "Topic #30: 장면, 영화, 연기, 연출, 최고, 과거, 배우, 다가, 마지막, 진짜\n",
      "Topic #31: 보고, 실망, 중반, 영화, 다음, 재미, 무엇, 번역, 동안, 스포\n",
      "Topic #32: 공포영화, 영화, 보지, 이유, 거의, 그냥, 진짜, 타임, 웃기, 어벤저스\n",
      "Topic #33: 사랑, 이야기, 현실, 역대, 남자, 영화, 역할, 어찌, 서로, 거지\n",
      "Topic #34: 기억, 조선족, 대사, 실제, 상황, 마블리, 죽음, 영화인, 연기, 만점\n",
      "Topic #35: 보고, 오늘, 그냥, 영화, 예고편, 곤지암, 긴장감, 일단, 자극, 처음\n",
      "Topic #36: 영화, 영상, 제일, 아픔, 배경, 평가, 인생, 갑자기, 자기, 스토리\n",
      "Topic #37: 윤계상, 마동석, 조연, 주인공, 연기, 전혀, 주연, 안보, 묘사, 주변\n",
      "Topic #38: 웹툰, 사실, 영화, 감정, 다소, 초딩, 내용, 간다, 무조건, 항쟁\n",
      "Topic #39: 작품, 한국, 극장, 오락, 마음, 신파극, 영화, 정도, 소문, 심장\n",
      "Topic #40: 스토리, 영화, 때문, 웃음, 펑펑, 코드, 나중, 노력, 그닥, 전형\n",
      "Topic #41: 영화, 몰입, 기도, 정도, 오히려, 화면, 인정, 실감, 살짝, 잘만\n",
      "Topic #42: 별로, 소재, 내내, 연출, 자체, 차라리, 원래, 존재, 분위기, 최근\n",
      "Topic #43: 영화, 그래픽, 지루함, 무슨, 진짜, 캐스팅, 동생, 줄거리, 스토리, 애니메이션\n",
      "Topic #44: 지금, 모든, 사람, 후회, 진실, 실화, 영화, 그때, 거리, 이하\n",
      "Topic #45: 감동, 엔딩, 진심, 디즈니, 전체, 코코, 어른, 겨울왕국, 처음, 픽사\n",
      "Topic #46: 영화로, 영화, 아쉬움, 얼마나, 개봉, 악역, 누구, 제발, 이정재, 수도\n",
      "Topic #47: 하나, 캐릭터, 하정우, 표현, 만화, 어머니, 여기, 그게, 짜임새, 행동\n",
      "Topic #48: 완전, 대박, 친구, 영화, 기대, 장르, 머리, 얼굴, 스릴, 수작\n",
      "Topic #49: 배우, 내용, 이상, 보기, 연기, 출연, 영화, 킬링타임, 리얼, 참고\n",
      "\n"
     ]
    }
   ],
   "source": [
    "#topic modeling 수행\n",
    "lda = LatentDirichletAllocation(n_components = 50, max_iter=25, \n",
    "                                topic_word_prior= 0.1, doc_topic_prior=1.0,\n",
    "                                learning_method='batch',\n",
    "                                n_jobs= -1,\n",
    "                                random_state=0)\n",
    "review_topics = lda.fit_transform(review_cv)\n",
    "print_top_words(lda,vec.get_feature_names(), 10)"
   ]
  },
  {
   "cell_type": "markdown",
   "metadata": {},
   "source": [
    "50개의 topic들을 대상으로 clustering을 수행해서 topic들이 잘 묶을 수 있는지 확인"
   ]
  },
  {
   "cell_type": "code",
   "execution_count": 21,
   "metadata": {},
   "outputs": [
    {
     "name": "stdout",
     "output_type": "stream",
     "text": [
      "topic-word distribution dimension: (50, 1000)\n",
      "Cluster label: [4 4 4 3 4 4 4 4 4 2 2 4 4 2 4 4 2 4 4 4 4 4 4 4 4 4 4 4 4 4 4 4 4 4 4 4 4\n",
      " 2 4 1 4 4 4 4 4 0 4 2 4 4]\n"
     ]
    }
   ],
   "source": [
    "from sklearn.cluster import KMeans\n",
    "\n",
    "kmeans = KMeans(n_clusters=5) #5개 클러스터로 분류\n",
    "kmeans.fit(lda.components_)\n",
    "\n",
    "print('topic-word distribution dimension:', lda.components_.shape)\n",
    "print('Cluster label:', kmeans.labels_)"
   ]
  },
  {
   "cell_type": "markdown",
   "metadata": {},
   "source": [
    "T-SNE를 이용하여 각 topic들 간의 관계를 시각화"
   ]
  },
  {
   "cell_type": "code",
   "execution_count": 22,
   "metadata": {},
   "outputs": [
    {
     "name": "stdout",
     "output_type": "stream",
     "text": [
      "TSNE dimension: (50, 2)\n"
     ]
    },
    {
     "data": {
      "text/plain": [
       "array([-15.296861 , -39.90289  , -37.609985 ,  49.19102  , -52.164654 ,\n",
       "        -8.414497 , -15.57928  , -11.724362 ,   1.5109495,   2.5873883,\n",
       "       -59.02956  ,  50.243515 , -66.458115 , -54.538612 , -16.422346 ,\n",
       "        30.576548 ,  69.73726  ,  -4.002888 , -39.174034 ,  45.472694 ,\n",
       "        17.013813 , -21.773487 ,  32.97722  ,   3.441639 , -35.254948 ,\n",
       "        26.405207 ,  15.255535 ,  18.549217 , -23.893627 ,   9.8831625,\n",
       "        55.319622 , -21.825891 ,  11.997019 , -30.098207 ,  30.140793 ,\n",
       "        24.391329 , -32.897675 ,   4.040865 , -25.433115 ,  -2.9563794,\n",
       "         1.5145319, -11.222951 , -12.10169  ,   7.3333883,   7.2696347,\n",
       "        33.792927 ,  12.837804 ,  32.59087  ,  -4.5664673,  33.163807 ],\n",
       "      dtype=float32)"
      ]
     },
     "execution_count": 22,
     "metadata": {},
     "output_type": "execute_result"
    }
   ],
   "source": [
    "from sklearn.manifold import TSNE\n",
    "tsne = TSNE(n_components=2, random_state=42)\n",
    "tsne_review = tsne.fit_transform(lda.components_)\n",
    "print('TSNE dimension:', tsne_review.shape)\n",
    "tsne_review[:,0]"
   ]
  },
  {
   "cell_type": "code",
   "execution_count": 23,
   "metadata": {},
   "outputs": [],
   "source": [
    "%matplotlib inline\n",
    "import matplotlib.pyplot as plt\n",
    "from matplotlib import font_manager, rc\n",
    "font_name = font_manager.FontProperties(fname=\"c:/Windows/Fonts/malgun.ttf\").get_name()\n",
    "rc('font', family=font_name)\n",
    "import matplotlib as mpl\n",
    "\n",
    "# 그래프에서 마이너스 폰트 깨지는 문제에 대한 대처\n",
    "mpl.rcParams['axes.unicode_minus'] = False"
   ]
  },
  {
   "cell_type": "code",
   "execution_count": 24,
   "metadata": {},
   "outputs": [
    {
     "data": {
      "image/png": "[encoded data removed]",
      "text/plain": [
       "<Figure size 432x288 with 1 Axes>"
      ]
     },
     "metadata": {
      "needs_background": "light"
     },
     "output_type": "display_data"
    },
    {
     "data": {
      "image/png": "[encoded data removed]",
      "text/plain": [
       "<Figure size 1080x720 with 1 Axes>"
      ]
     },
     "metadata": {
      "needs_background": "light"
     },
     "output_type": "display_data"
    }
   ],
   "source": [
    "colors = {0:'blue', 1:'yellow', 2:'red', 3:'green', 4:'purple'}\n",
    "x1 = tsne_review[:,0]\n",
    "x2 = tsne_review[:,1]\n",
    "plt.scatter(x1, x2)\n",
    "\n",
    "plt.figure(figsize=(15,10))\n",
    "plt.xlim(min(x1), max(x1))\n",
    "plt.ylim(min(x2), max(x2))\n",
    "for i in range(len(x1)):\n",
    "#    plt.text(X1_lsi[i], X2_lsi[i], sample_label[i],\n",
    "#            color = colors[sample_label[i]])\n",
    "    plt.text(x1[i], x2[i], kmeans.labels_[i],\n",
    "            color = colors[kmeans.labels_[i]])\n",
    "\n",
    "#for word, pos in df.iterrows():\n",
    "#    ax.annotate(word, pos, fontsize=30)\n",
    "plt.show()\n",
    "\n",
    "#아래 결과를 보면 각 topic들이 고르게 분포하고 있어, 클러스터링이 별로 의미 없음을 알 수 있음"
   ]
  },
  {
   "cell_type": "markdown",
   "metadata": {},
   "source": [
    "#### 최적의 결과를 찾기 위한 방법\n",
    "적절한 topic의 수는 perplexity 값을 이용해 찾음.<br>\n",
    "낮을 수록 좋은 모형이나, 사람의 판단과 일치하지 않을 수 있음<br>\n",
    "http://qpleple.com/perplexity-to-evaluate-topic-models/ <br>\n",
    "그 외에 alpha, beta는 앞서 설명한 바와 같이 beta=0.1로 고정하고 alpha를 50/토픽수 근처에서 찾아나감<br>\n",
    "반복횟수는 5,000번 정도면 수렴"
   ]
  },
  {
   "cell_type": "code",
   "execution_count": 25,
   "metadata": {},
   "outputs": [
    {
     "data": {
      "text/plain": [
       "583.6818103950467"
      ]
     },
     "execution_count": 25,
     "metadata": {},
     "output_type": "execute_result"
    }
   ],
   "source": [
    "lda.perplexity(review_cv)"
   ]
  },
  {
   "cell_type": "code",
   "execution_count": 26,
   "metadata": {},
   "outputs": [
    {
     "name": "stdout",
     "output_type": "stream",
     "text": [
      "Topic #0: 영화, 느낌, 관객, 얘기, 사람, 곤지암, 감동, 갈수록, 시간, 지루함\n",
      "Topic #1: 가족, 영화, 설정, 저승, 감동, 점수, 부모님, 생각, 여자, 사람\n",
      "Topic #2: 영화, 눈물, 생각, 진짜, 시나리오, 이건, 스토리, 인정, 감동, 시작\n",
      "Topic #3: 연기, 차태현, 하정우, 진짜, 김동욱, 눈물, 어머니, 주지훈, 영화, 신파\n",
      "Topic #4: 영화, 계속, 기자, 그냥, 연기, 정신, 배우, 정말, 알바, 상황\n",
      "Topic #5: 영화, 아이, 사랑, 강철, 무슨, 보고, 마음, 관람, 평가, 아주\n",
      "Topic #6: 영화, 인상, 가지, 유머, 일단, 제대로, 도대체, 재즈, 한국, 기대\n",
      "Topic #7: 공포, 영화, 귀신, 연출, 형사, 외국, 거의, 코드, 명작, 흥행\n",
      "Topic #8: 영화, 세계, 사람, 약간, 정말, 쓰레기, 그것, 실감, 감동, 구성\n",
      "Topic #9: 영화, 소리, 추천, 부분, 나름, 아들, 순간, 다큐, 연기자, 영화인\n",
      "Topic #10: 영화, 그냥, 집중, 드라마, 중국, 눈물, 감동, 생각, 감성, 만화\n",
      "Topic #11: 윤계상, 연기, 마동석, 인간, 영화, 조선족, 다시, 영웅, 배우, 역할\n",
      "Topic #12: 영화, 원작, 연기력, 생각, 요소, 올해, 실제, 감동, 효과, 초딩\n",
      "Topic #13: 마블, 노스, 어벤져스, 히어로, 캐릭터, 시리즈, 이해, 이번, 예고편, 영화\n",
      "Topic #14: 영화, 디즈니, 생각, 눈물, 동안, 자체, 자극, 박수, 정도, 취향\n",
      "Topic #15: 영화, 범죄, 도시, 감동, 실화, 배우, 캐스팅, 재미, 이후, 신파\n",
      "Topic #16: 광주, 택시, 역사, 시민, 우리, 위해, 국민, 민주화, 전두환, 진실\n",
      "Topic #17: 영화, 정말, 교훈, 연기, 반성, 나라, 배우, 스릴, 사람, 보고\n",
      "Topic #18: 영화, 수준, 관객, 최악, 감독, 전체, 개연, 천만, 배우, 역대\n",
      "Topic #19: 영화, 감동, 정말, 연기, 코믹, 기도, 완성, 예상, 죽음, 더욱\n",
      "Topic #20: 영화, 생각, 웃음, 윤계상, 개인, 개봉, 연기, 몰입도, 마동석, 슬픔\n",
      "Topic #21: 영화, 중간, 음악, 주인공, 뮤지컬, 노래, 반전, 사랑, 감동, 스톤\n",
      "Topic #22: 영화, 이영화, 사람, 제일, 조폭, 어른, 마블리, 때문, 진짜, 절대\n",
      "Topic #23: 영화, 공포영화, 초반, 후반, 배우, 연기, 혼자, 안보, 기술, 화보\n",
      "Topic #24: 영화, 보지, 시간, 스토리, 발전, 내용, 웹툰, 언제, 마지막, 정도\n",
      "\n"
     ]
    },
    {
     "data": {
      "text/plain": [
       "556.1538487000632"
      ]
     },
     "execution_count": 26,
     "metadata": {},
     "output_type": "execute_result"
    }
   ],
   "source": [
    "#topic modeling 수행\n",
    "lda = LatentDirichletAllocation(n_components = 25, max_iter=25, \n",
    "                                topic_word_prior= 0.1, doc_topic_prior=2.0,\n",
    "                                learning_method='batch',\n",
    "                                n_jobs= -1,\n",
    "                                random_state=0)\n",
    "review_topics = lda.fit_transform(review_cv)\n",
    "print_top_words(lda,vec.get_feature_names(), 10)\n",
    "lda.perplexity(review_cv)"
   ]
  },
  {
   "cell_type": "code",
   "execution_count": 27,
   "metadata": {
    "scrolled": true
   },
   "outputs": [
    {
     "name": "stdout",
     "output_type": "stream",
     "text": [
      "Topic #0: 느낌, 공포영화, 한국, 별로, 관객, 공포, 정도, 전개, 초반, 영화관\n",
      "Topic #1: 감동, 사람, 생각, 재미, 가족, 모두, 이야기, 보기, 대한, 지옥\n",
      "Topic #2: 영화, 음악, 인생, 처음, 생각, 최악, 상영, 시작, 간만, 댓글\n",
      "Topic #3: 연기, 배우, 진짜, 마동석, 윤계상, 신파, 장면, 눈물, 차태현, 액션\n",
      "Topic #4: 정말, 그냥, 다시, 가슴, 택시, 몰입, 소재, 내내, 영화로, 알바\n",
      "Topic #5: 보고, 내용, 눈물, 사랑, 마음, 수준, 현실, 아이, 기억, 한국영\n",
      "Topic #6: 광주, 기대, 중간, 우리, 웹툰, 사실, 시민, 인간, 나름, 실망\n",
      "Topic #7: 최고, 마지막, 평점, 감독, 역사, 송강호, 역시, 작품, 연출, 귀신\n",
      "Topic #8: 스토리, 원작, 한번, 정도, 완전, 천만, 주인공, 지금, 가장, 약간\n",
      "Topic #9: 시간, 마블, 하나, 이해, 부분, 추천, 노스, 다음, 결말, 영상\n",
      "\n"
     ]
    },
    {
     "data": {
      "text/plain": [
       "425.97775168150275"
      ]
     },
     "execution_count": 27,
     "metadata": {},
     "output_type": "execute_result"
    }
   ],
   "source": [
    "#topic modeling 수행\n",
    "lda = LatentDirichletAllocation(n_components = 10, max_iter=25, \n",
    "                                topic_word_prior= 0.1, doc_topic_prior=1.0,\n",
    "                                learning_method='batch',\n",
    "                                n_jobs= -1,\n",
    "                                random_state=0)\n",
    "review_topics = lda.fit_transform(review_cv)\n",
    "print_top_words(lda,vec.get_feature_names(), 10)\n",
    "lda.perplexity(review_cv)"
   ]
  },
  {
   "cell_type": "markdown",
   "metadata": {},
   "source": [
    "## Topic Modeling with Gensim"
   ]
  },
  {
   "cell_type": "code",
   "execution_count": 28,
   "metadata": {},
   "outputs": [
    {
     "name": "stdout",
     "output_type": "stream",
     "text": [
      "Collecting gensim\n",
      "  Downloading gensim-3.8.3-cp38-cp38-win_amd64.whl (24.2 MB)\n",
      "Collecting Cython==0.29.14\n",
      "  Downloading Cython-0.29.14-cp38-cp38-win_amd64.whl (1.7 MB)\n",
      "Requirement already satisfied: scipy>=0.18.1 in c:\\users\\soo hyun\\anaconda3\\lib\\site-packages (from gensim) (1.5.0)\n",
      "Requirement already satisfied: six>=1.5.0 in c:\\users\\soo hyun\\anaconda3\\lib\\site-packages (from gensim) (1.15.0)\n",
      "Requirement already satisfied: numpy>=1.11.3 in c:\\users\\soo hyun\\anaconda3\\lib\\site-packages (from gensim) (1.18.5)\n",
      "Collecting smart-open>=1.8.1\n",
      "  Downloading smart_open-3.0.0.tar.gz (113 kB)\n",
      "Requirement already satisfied: requests in c:\\users\\soo hyun\\anaconda3\\lib\\site-packages (from smart-open>=1.8.1->gensim) (2.24.0)\n",
      "Requirement already satisfied: certifi>=2017.4.17 in c:\\users\\soo hyun\\anaconda3\\lib\\site-packages (from requests->smart-open>=1.8.1->gensim) (2020.6.20)\n",
      "Requirement already satisfied: chardet<4,>=3.0.2 in c:\\users\\soo hyun\\anaconda3\\lib\\site-packages (from requests->smart-open>=1.8.1->gensim) (3.0.4)\n",
      "Requirement already satisfied: urllib3!=1.25.0,!=1.25.1,<1.26,>=1.21.1 in c:\\users\\soo hyun\\anaconda3\\lib\\site-packages (from requests->smart-open>=1.8.1->gensim) (1.25.9)\n",
      "Requirement already satisfied: idna<3,>=2.5 in c:\\users\\soo hyun\\anaconda3\\lib\\site-packages (from requests->smart-open>=1.8.1->gensim) (2.10)\n",
      "Building wheels for collected packages: smart-open\n",
      "  Building wheel for smart-open (setup.py): started\n",
      "  Building wheel for smart-open (setup.py): finished with status 'done'\n",
      "  Created wheel for smart-open: filename=smart_open-3.0.0-py3-none-any.whl size=107102 sha256=033fddc8af88102debf969223b03a05ee6c01eaa3f86f954ce02645a45d774dc\n",
      "  Stored in directory: c:\\users\\soo hyun\\appdata\\local\\pip\\cache\\wheels\\11\\73\\9a\\f91ac1f1816436b16423617c5be5db048697ff152a9c4346f2\n",
      "Successfully built smart-open\n",
      "Installing collected packages: Cython, smart-open, gensim\n",
      "  Attempting uninstall: Cython\n",
      "    Found existing installation: Cython 0.29.21\n",
      "    Uninstalling Cython-0.29.21:\n",
      "      Successfully uninstalled Cython-0.29.21\n",
      "Successfully installed Cython-0.29.14 gensim-3.8.3 smart-open-3.0.0\n",
      "Collecting pyldavis\n",
      "  Downloading pyLDAvis-2.1.2.tar.gz (1.6 MB)\n",
      "Requirement already satisfied: wheel>=0.23.0 in c:\\users\\soo hyun\\anaconda3\\lib\\site-packages (from pyldavis) (0.34.2)\n",
      "Requirement already satisfied: numpy>=1.9.2 in c:\\users\\soo hyun\\anaconda3\\lib\\site-packages (from pyldavis) (1.18.5)\n",
      "Requirement already satisfied: scipy>=0.18.0 in c:\\users\\soo hyun\\anaconda3\\lib\\site-packages (from pyldavis) (1.5.0)\n",
      "Requirement already satisfied: pandas>=0.17.0 in c:\\users\\soo hyun\\anaconda3\\lib\\site-packages (from pyldavis) (1.0.5)\n",
      "Requirement already satisfied: joblib>=0.8.4 in c:\\users\\soo hyun\\anaconda3\\lib\\site-packages (from pyldavis) (0.16.0)\n",
      "Requirement already satisfied: jinja2>=2.7.2 in c:\\users\\soo hyun\\anaconda3\\lib\\site-packages (from pyldavis) (2.11.2)\n",
      "Requirement already satisfied: numexpr in c:\\users\\soo hyun\\anaconda3\\lib\\site-packages (from pyldavis) (2.7.1)\n",
      "Requirement already satisfied: pytest in c:\\users\\soo hyun\\anaconda3\\lib\\site-packages (from pyldavis) (5.4.3)\n",
      "Requirement already satisfied: future in c:\\users\\soo hyun\\anaconda3\\lib\\site-packages (from pyldavis) (0.18.2)\n",
      "Collecting funcy\n",
      "  Downloading funcy-1.15-py2.py3-none-any.whl (32 kB)\n",
      "Requirement already satisfied: python-dateutil>=2.6.1 in c:\\users\\soo hyun\\anaconda3\\lib\\site-packages (from pandas>=0.17.0->pyldavis) (2.8.1)\n",
      "Requirement already satisfied: pytz>=2017.2 in c:\\users\\soo hyun\\anaconda3\\lib\\site-packages (from pandas>=0.17.0->pyldavis) (2020.1)\n",
      "Requirement already satisfied: MarkupSafe>=0.23 in c:\\users\\soo hyun\\anaconda3\\lib\\site-packages (from jinja2>=2.7.2->pyldavis) (1.1.1)\n",
      "Requirement already satisfied: py>=1.5.0 in c:\\users\\soo hyun\\anaconda3\\lib\\site-packages (from pytest->pyldavis) (1.9.0)\n",
      "Requirement already satisfied: packaging in c:\\users\\soo hyun\\anaconda3\\lib\\site-packages (from pytest->pyldavis) (20.4)\n",
      "Requirement already satisfied: attrs>=17.4.0 in c:\\users\\soo hyun\\anaconda3\\lib\\site-packages (from pytest->pyldavis) (19.3.0)\n",
      "Requirement already satisfied: more-itertools>=4.0.0 in c:\\users\\soo hyun\\anaconda3\\lib\\site-packages (from pytest->pyldavis) (8.4.0)\n",
      "Requirement already satisfied: pluggy<1.0,>=0.12 in c:\\users\\soo hyun\\anaconda3\\lib\\site-packages (from pytest->pyldavis) (0.13.1)\n",
      "Requirement already satisfied: wcwidth in c:\\users\\soo hyun\\anaconda3\\lib\\site-packages (from pytest->pyldavis) (0.2.5)\n",
      "Requirement already satisfied: atomicwrites>=1.0 in c:\\users\\soo hyun\\anaconda3\\lib\\site-packages (from pytest->pyldavis) (1.4.0)\n",
      "Requirement already satisfied: colorama in c:\\users\\soo hyun\\anaconda3\\lib\\site-packages (from pytest->pyldavis) (0.3.9)\n",
      "Requirement already satisfied: six>=1.5 in c:\\users\\soo hyun\\anaconda3\\lib\\site-packages (from python-dateutil>=2.6.1->pandas>=0.17.0->pyldavis) (1.15.0)\n",
      "Requirement already satisfied: pyparsing>=2.0.2 in c:\\users\\soo hyun\\anaconda3\\lib\\site-packages (from packaging->pytest->pyldavis) (2.4.7)\n",
      "Building wheels for collected packages: pyldavis\n",
      "  Building wheel for pyldavis (setup.py): started\n",
      "  Building wheel for pyldavis (setup.py): finished with status 'done'\n",
      "  Created wheel for pyldavis: filename=pyLDAvis-2.1.2-py2.py3-none-any.whl size=97716 sha256=65e3224b9a42b36ce02b51ebb2014a8919aabf142249d97c4978687d92c631db\n",
      "  Stored in directory: c:\\users\\soo hyun\\appdata\\local\\pip\\cache\\wheels\\31\\8c\\a0\\24a443892f2134e691d59c8c6c35e19821e02f85e49871f8fd\n",
      "Successfully built pyldavis\n",
      "Installing collected packages: funcy, pyldavis\n",
      "Successfully installed funcy-1.15 pyldavis-2.1.2\n"
     ]
    }
   ],
   "source": [
    "!pip install gensim\n",
    "!pip install pyldavis"
   ]
  },
  {
   "cell_type": "code",
   "execution_count": 29,
   "metadata": {},
   "outputs": [],
   "source": [
    "from sklearn.datasets import fetch_20newsgroups\n",
    "\n",
    "categories = ['alt.atheism', 'talk.religion.misc', 'comp.graphics', 'sci.space']\n",
    "\n",
    "newsgroups_train = fetch_20newsgroups(subset='train',\n",
    "#메일 내용에서 hint가 되는 부분을 삭제 - 순수하게 내용만으로\n",
    "                                      remove=('headers', 'footers', 'quotes'),\n",
    "                                      categories=categories)"
   ]
  },
  {
   "cell_type": "code",
   "execution_count": 30,
   "metadata": {},
   "outputs": [],
   "source": [
    "# 필요한 library들을 import\n",
    "from nltk.corpus import stopwords\n",
    "cachedStopWords = stopwords.words(\"english\")\n",
    "\n",
    "from nltk import word_tokenize\n",
    "from nltk.stem.porter import PorterStemmer\n",
    "import re"
   ]
  },
  {
   "cell_type": "code",
   "execution_count": 31,
   "metadata": {},
   "outputs": [],
   "source": [
    "def tokenize(text):\n",
    "    min_length = 3 #최소 단어 크기\n",
    "    # nltk의 tokenizer를 이용해서 word 추출한 후에 소문자로 변환\n",
    "    words = map(lambda word: word.lower(), word_tokenize(text))\n",
    "    #words = word_tokenize(text.lower()) #이렇게 해도 되는지 확인\n",
    "    # stopwords 제외\n",
    "    words = [word for word in words if word not in cachedStopWords]\n",
    "    # portr stemmer 적용\n",
    "    tokens = (list(map(lambda token: PorterStemmer().stem(token),words)))\n",
    "    #tokens = [PorterStemmer().stem(token) for token in words]  #이렇게 해도 되는지 확인\n",
    "    #알파벳으로 이루어진 단어들만 추출\n",
    "    p = re.compile('[a-zA-Z]+');\n",
    "    filtered_tokens = list(filter (lambda token: p.match(token) and len(token) >= min_length,tokens))\n",
    "    #filtered_tokens = [token for token in tokens if p.match(token) and len(token) >= min_length]   #이렇게 해도 되는지 확인\n",
    "    return filtered_tokens"
   ]
  },
  {
   "cell_type": "code",
   "execution_count": 32,
   "metadata": {},
   "outputs": [],
   "source": [
    "docs = [tokenize(doc) for doc in newsgroups_train.data]"
   ]
  },
  {
   "cell_type": "code",
   "execution_count": 33,
   "metadata": {},
   "outputs": [
    {
     "name": "stdout",
     "output_type": "stream",
     "text": [
      "Hi,\n",
      "\n",
      "I've noticed that if you only save a model (with all your mapping planes\n",
      "positioned carefully) to a .3DS file that when you reload it after restarting\n",
      "3DS, they are given a default position and orientation.  But if you save\n",
      "to a .PRJ file their positions/orientation are preserved.  Does anyone\n",
      "know why this information is not stored in the .3DS file?  Nothing is\n",
      "explicitly said in the manual about saving texture rules in the .PRJ file. \n",
      "I'd like to be able to read the texture rule information, does anyone have \n",
      "the format for the .PRJ file?\n",
      "\n",
      "Is the .CEL file format available from somewhere?\n",
      "\n",
      "Rych\n",
      "['notic', 'save', 'model', 'map', 'plane', 'posit', 'care', 'file', 'reload', 'restart', 'given', 'default', 'posit', 'orient', 'save', 'file', 'positions/orient', 'preserv', 'anyon', 'know', 'inform', 'store', 'file', 'noth', 'explicitli', 'said', 'manual', 'save', 'textur', 'rule', 'file', 'like', 'abl', 'read', 'textur', 'rule', 'inform', 'anyon', 'format', 'file', 'file', 'format', 'avail', 'somewher', 'rych']\n"
     ]
    }
   ],
   "source": [
    "print(newsgroups_train.data[0])\n",
    "print(docs[0])"
   ]
  },
  {
   "cell_type": "markdown",
   "metadata": {},
   "source": [
    "Gensim으로 topic modeling을 하기 위해서는 Dictionary, Corpus, Model의 3단계를 거쳐야 함"
   ]
  },
  {
   "cell_type": "code",
   "execution_count": 34,
   "metadata": {},
   "outputs": [
    {
     "name": "stdout",
     "output_type": "stream",
     "text": [
      "Number of unique words in initital documents: 19660\n",
      "Number of unique words after removing rare and common words: 5628\n"
     ]
    }
   ],
   "source": [
    "from gensim.corpora import Dictionary\n",
    "\n",
    "# Create a dictionary representation of the documents.\n",
    "dictionary = Dictionary(docs)\n",
    "print('Number of unique words in initital documents:', len(dictionary))\n",
    "\n",
    "# Filter out words that occur less than 10 documents, or more than 20% of the documents.\n",
    "dictionary.filter_extremes(no_below=3, no_above=0.5)\n",
    "print('Number of unique words after removing rare and common words:', len(dictionary))"
   ]
  },
  {
   "cell_type": "code",
   "execution_count": 35,
   "metadata": {},
   "outputs": [
    {
     "name": "stdout",
     "output_type": "stream",
     "text": [
      "Number of unique tokens: 5628\n",
      "Number of documents: 2034\n"
     ]
    }
   ],
   "source": [
    "corpus = [dictionary.doc2bow(doc) for doc in docs]\n",
    "print('Number of unique tokens: %d' % len(dictionary))\n",
    "print('Number of documents: %d' % len(corpus))"
   ]
  },
  {
   "cell_type": "code",
   "execution_count": 36,
   "metadata": {},
   "outputs": [
    {
     "name": "stdout",
     "output_type": "stream",
     "text": [
      "Wall time: 4min 28s\n"
     ]
    }
   ],
   "source": [
    "from gensim.models import LdaModel\n",
    "# Set training parameters.\n",
    "num_topics = 25\n",
    "chunksize = 500 # size of the doc looked at every pass\n",
    "passes = 20 # number of passes through documents\n",
    "iterations = 40\n",
    "eval_every = 1  # Don't evaluate model perplexity, takes too much time.\n",
    "\n",
    "# Make a index to word dictionary.\n",
    "temp = dictionary[0]  # This is only to \"load\" the dictionary.\n",
    "id2word = dictionary.id2token\n",
    "\n",
    "%time model = LdaModel(corpus=corpus, id2word=id2word, chunksize=chunksize, \\\n",
    "                       alpha='auto', eta='auto', \\\n",
    "                       iterations=iterations, num_topics=num_topics, \\\n",
    "                       passes=passes, eval_every=eval_every)"
   ]
  },
  {
   "cell_type": "code",
   "execution_count": 37,
   "metadata": {},
   "outputs": [
    {
     "name": "stdout",
     "output_type": "stream",
     "text": [
      "Requirement already satisfied: pyldavis in c:\\users\\soo hyun\\anaconda3\\lib\\site-packages (2.1.2)\n",
      "Requirement already satisfied: pandas>=0.17.0 in c:\\users\\soo hyun\\anaconda3\\lib\\site-packages (from pyldavis) (1.0.5)\n",
      "Requirement already satisfied: jinja2>=2.7.2 in c:\\users\\soo hyun\\anaconda3\\lib\\site-packages (from pyldavis) (2.11.2)\n",
      "Requirement already satisfied: pytest in c:\\users\\soo hyun\\anaconda3\\lib\\site-packages (from pyldavis) (5.4.3)\n",
      "Requirement already satisfied: funcy in c:\\users\\soo hyun\\anaconda3\\lib\\site-packages (from pyldavis) (1.15)\n",
      "Requirement already satisfied: future in c:\\users\\soo hyun\\anaconda3\\lib\\site-packages (from pyldavis) (0.18.2)\n",
      "Requirement already satisfied: numexpr in c:\\users\\soo hyun\\anaconda3\\lib\\site-packages (from pyldavis) (2.7.1)\n",
      "Requirement already satisfied: numpy>=1.9.2 in c:\\users\\soo hyun\\anaconda3\\lib\\site-packages (from pyldavis) (1.18.5)\n",
      "Requirement already satisfied: wheel>=0.23.0 in c:\\users\\soo hyun\\anaconda3\\lib\\site-packages (from pyldavis) (0.34.2)\n",
      "Requirement already satisfied: joblib>=0.8.4 in c:\\users\\soo hyun\\anaconda3\\lib\\site-packages (from pyldavis) (0.16.0)\n",
      "Requirement already satisfied: scipy>=0.18.0 in c:\\users\\soo hyun\\anaconda3\\lib\\site-packages (from pyldavis) (1.5.0)\n",
      "Requirement already satisfied: python-dateutil>=2.6.1 in c:\\users\\soo hyun\\anaconda3\\lib\\site-packages (from pandas>=0.17.0->pyldavis) (2.8.1)\n",
      "Requirement already satisfied: pytz>=2017.2 in c:\\users\\soo hyun\\anaconda3\\lib\\site-packages (from pandas>=0.17.0->pyldavis) (2020.1)\n",
      "Requirement already satisfied: MarkupSafe>=0.23 in c:\\users\\soo hyun\\anaconda3\\lib\\site-packages (from jinja2>=2.7.2->pyldavis) (1.1.1)\n",
      "Requirement already satisfied: py>=1.5.0 in c:\\users\\soo hyun\\anaconda3\\lib\\site-packages (from pytest->pyldavis) (1.9.0)\n",
      "Requirement already satisfied: packaging in c:\\users\\soo hyun\\anaconda3\\lib\\site-packages (from pytest->pyldavis) (20.4)\n",
      "Requirement already satisfied: attrs>=17.4.0 in c:\\users\\soo hyun\\anaconda3\\lib\\site-packages (from pytest->pyldavis) (19.3.0)\n",
      "Requirement already satisfied: more-itertools>=4.0.0 in c:\\users\\soo hyun\\anaconda3\\lib\\site-packages (from pytest->pyldavis) (8.4.0)\n",
      "Requirement already satisfied: pluggy<1.0,>=0.12 in c:\\users\\soo hyun\\anaconda3\\lib\\site-packages (from pytest->pyldavis) (0.13.1)\n",
      "Requirement already satisfied: wcwidth in c:\\users\\soo hyun\\anaconda3\\lib\\site-packages (from pytest->pyldavis) (0.2.5)\n",
      "Requirement already satisfied: atomicwrites>=1.0 in c:\\users\\soo hyun\\anaconda3\\lib\\site-packages (from pytest->pyldavis) (1.4.0)\n",
      "Requirement already satisfied: colorama in c:\\users\\soo hyun\\anaconda3\\lib\\site-packages (from pytest->pyldavis) (0.3.9)\n",
      "Requirement already satisfied: six>=1.5 in c:\\users\\soo hyun\\anaconda3\\lib\\site-packages (from python-dateutil>=2.6.1->pandas>=0.17.0->pyldavis) (1.15.0)\n",
      "Requirement already satisfied: pyparsing>=2.0.2 in c:\\users\\soo hyun\\anaconda3\\lib\\site-packages (from packaging->pytest->pyldavis) (2.4.7)\n"
     ]
    }
   ],
   "source": [
    "! pip install pyldavis\n",
    "import pyLDAvis.gensim\n",
    "pyLDAvis.enable_notebook()\n",
    "\n",
    "import warnings\n",
    "warnings.filterwarnings(\"ignore\", category=DeprecationWarning) "
   ]
  },
  {
   "cell_type": "code",
   "execution_count": null,
   "metadata": {},
   "outputs": [],
   "source": [
    "pyLDAvis.gensim.prepare(model, corpus, dictionary, sort=True)"
   ]
  },
  {
   "cell_type": "markdown",
   "metadata": {},
   "source": [
    "## pandas_topicmodel"
   ]
  },
  {
   "cell_type": "markdown",
   "metadata": {},
   "source": [
    "다음무비에서 추출한 영화 리뷰를 불러온다."
   ]
  },
  {
   "cell_type": "code",
   "execution_count": 103,
   "metadata": {},
   "outputs": [
    {
     "name": "stdout",
     "output_type": "stream",
     "text": [
      "리뷰 수: 14967\n",
      "리뷰영화: {'신과함께', '라라랜드', '인피니티 워', '곤지암', '범죄도시', '택시운전사', '코코'}\n"
     ]
    }
   ],
   "source": [
    "import pandas as pd\n",
    "\n",
    "movie = pd.read_csv('movie_data_new(1).csv', header = None) # header를 None으로 설정해 header가 없음을 알림\n",
    "\n",
    "print('리뷰 수:', len(movie))\n",
    "print('리뷰영화:', set(movie.iloc[:,2])) # pandas dataframe에 접근하기 위해서는 iloc를 사용. 전체행에 대해 3번째 열만 인덱싱"
   ]
  },
  {
   "cell_type": "code",
   "execution_count": 113,
   "metadata": {},
   "outputs": [
    {
     "name": "stdout",
     "output_type": "stream",
     "text": [
      "                                                   0   1       2\n",
      "0                     헐..다 죽었어....나중에 앤트맨 보다가도 깜놀...  10  인피니티 워\n",
      "1                                              충격 결말   9  인피니티 워\n",
      "2                                                응집력   8  인피니티 워\n",
      "3  개연성은 무시해라 액션을 즐겨라 스타로드가 이끌어준다 각각의 영웅들을 즐겨라 그리고...   8  인피니티 워\n",
      "4                                           내가졸라이상하네   4  인피니티 워\n",
      "5                                                 대박  10  인피니티 워\n",
      "6                           정말 지루할틈없이 넘잘만들었다 역시 대단하다   9  인피니티 워\n",
      "7                                          역시 어벤져스!!   9  인피니티 워\n",
      "8                                마지막에 누구한테 연락한거지? 궁금   9  인피니티 워\n",
      "9                                     다음 편이 궁굼해지네요^^  10  인피니티 워\n"
     ]
    }
   ],
   "source": [
    "print(movie.iloc[:10])"
   ]
  },
  {
   "cell_type": "code",
   "execution_count": 65,
   "metadata": {},
   "outputs": [],
   "source": [
    "text = movie.loc[:,0] # 전체행에 대해 1번째 열만 인덱싱 - 리뷰들만 가져옴"
   ]
  },
  {
   "cell_type": "markdown",
   "metadata": {},
   "source": [
    "#### 한글 처리를 위해서는 konlpy가 필요\n",
    "\n",
    "topic modeling은 count vector를 사용하므로 sklearn의 CountVectorizer를 사용"
   ]
  },
  {
   "cell_type": "code",
   "execution_count": 66,
   "metadata": {},
   "outputs": [],
   "source": [
    "from konlpy.tag import Okt #konlpy에서 Twitter 형태소 분석기를 import\n",
    "twitter_tag = Okt()\n",
    "\n",
    "from sklearn.feature_extraction.text import CountVectorizer\n",
    "\n",
    "vec = CountVectorizer(tokenizer=twitter_tag.nouns, #우선은 명사만 사용\n",
    "                      decode_error ='ignore', \n",
    "                      max_df=0.5, #너무 자주 나타나는 단어는 제외, 책에서는 0.15를 사용\n",
    "                      #min_df = 3, #3개 미만의 문서에서 나타난 단어는 제외, 여기서는 max_features를 1000으로 제한하므로 별 필요 없음\n",
    "                      max_features = 1000) #적당한 대상 단어 수를 선택\n",
    "review_cv = vec.fit_transform(text)"
   ]
  },
  {
   "cell_type": "code",
   "execution_count": 67,
   "metadata": {},
   "outputs": [
    {
     "data": {
      "text/plain": [
       "(14967, 1000)"
      ]
     },
     "execution_count": 67,
     "metadata": {},
     "output_type": "execute_result"
    }
   ],
   "source": [
    "review_cv.shape"
   ]
  },
  {
   "cell_type": "markdown",
   "metadata": {},
   "source": [
    "#### sklearn의 LatentDirichletAllocation을 이용하여 topic modeling 수행\n",
    "다양한 argument를 적절히 이용하는 것이 중요"
   ]
  },
  {
   "cell_type": "code",
   "execution_count": 68,
   "metadata": {},
   "outputs": [],
   "source": [
    "from sklearn.decomposition import LatentDirichletAllocation\n",
    "\n",
    "lda = LatentDirichletAllocation(n_components = 10, #추출할 topic의 수를 지정\n",
    "                                max_iter=25, #max_iter는 최종 모형에서는 5,000~10,000번 시도한다고 알려져 있음\n",
    "                                topic_word_prior= 0.1, doc_topic_prior=1.0,\n",
    "                                #topic_word_prior: beta, doc_topic_prior: alpha\n",
    "                                #일반적으로 beta는 0.1로 고정하고 alpha를 50/topic의 수 근처의 값을 시도\n",
    "                                #alpha와 beta는 낮은 값을 사용할수록 특정 토픽들이 두드러지도록 하는 효과가 있다고 합\n",
    "                                learning_method='batch', #'batch'는 'online'에 비해 더 성능이 좋고 느림, 현재는 default\n",
    "                                n_jobs= -1, #사용 processor 수, None이면 1, -1이면 모두 사용\n",
    "                                random_state=0)\n",
    "\n",
    "review_topics = lda.fit_transform(review_cv)"
   ]
  },
  {
   "cell_type": "code",
   "execution_count": 69,
   "metadata": {},
   "outputs": [
    {
     "name": "stdout",
     "output_type": "stream",
     "text": [
      "topic-word distribution dimension: (10, 1000)\n",
      "document-topic distribution dimenstion (14967, 10)\n"
     ]
    }
   ],
   "source": [
    "print('topic-word distribution dimension:', lda.components_.shape)\n",
    "print('document-topic distribution dimenstion', review_topics.shape)"
   ]
  },
  {
   "cell_type": "markdown",
   "metadata": {},
   "source": [
    "#### topic을 보기 쉽게 출력하는 함수를 작성"
   ]
  },
  {
   "cell_type": "code",
   "execution_count": 71,
   "metadata": {},
   "outputs": [],
   "source": [
    "def print_top_words(model, feature_names, n_top_words):\n",
    "    for topic_idx, topic in enumerate(model.components_):\n",
    "        print(\"Topic #%d: \" % topic_idx, end='')\n",
    "        print(\", \".join([feature_names[i] for i in topic.argsort()[:-n_top_words - 1:-1]]))\n",
    "        #print(\", \".join([feature_names[i]+'('+str(topic[i])+')' for i in topic.argsort()[:-n_top_words - 1:-1]]))\n",
    "        # 위 slicing에서 맨 뒤 -1은 역순을 의미, 역순으로 했을 때 처음부터 n_top_words까지\n",
    "    print()"
   ]
  },
  {
   "cell_type": "code",
   "execution_count": 75,
   "metadata": {},
   "outputs": [
    {
     "name": "stdout",
     "output_type": "stream",
     "text": [
      "Topic #0: 영화, 것, 돈, 중간, 감독, 처음, 끝, 소재, 이건, 연출\n",
      "Topic #1: 스토리, 그냥, 내용, 볼, 좀, 느낌, 부분, 임, 함, 도\n",
      "Topic #2: 감동, 사람, 눈물, 원작, 왜, 가족, 저, 웹툰, 나, 생각\n",
      "Topic #3: 광주, 그, 꼭, 다시, 역사, 수, 가슴, 우리, 송강호, 한번\n",
      "Topic #4: 영화, 생각, 더, 때, 만, 한국영, 이상, 이, 우리나라, 영화로\n",
      "Topic #5: 정말, 최고, 재미, 시간, 안, 하나, 별로, 역시, 추천, 중\n",
      "Topic #6: 연기, 진짜, 배우, 마동석, 윤계상, 신파, 액션, 완전, 대박, 굿\n",
      "Topic #7: 보고, 기대, 편, 마블, 또, 노스, 다음, 개, 결말, 캐릭터\n",
      "Topic #8: 점, 정도, 이, 평점, 내, 한국, 뭐, 공포영화, 영화, 수준\n",
      "Topic #9: 마지막, 장면, 음악, 인생, 사랑, 영화, 이야기, 번, 현실, 눈\n",
      "\n"
     ]
    }
   ],
   "source": [
    "print_top_words(lda,vec.get_feature_names(), 10)"
   ]
  },
  {
   "cell_type": "markdown",
   "metadata": {},
   "source": [
    "#### 한 자로 구성된 명사들은 의미파악이 어려우므로 삭제할 필요가 있음\n",
    "두 자 이상만 반환하는 함수를 작성"
   ]
  },
  {
   "cell_type": "code",
   "execution_count": 77,
   "metadata": {},
   "outputs": [
    {
     "data": {
      "text/plain": [
       "['충격', '결말']"
      ]
     },
     "execution_count": 77,
     "metadata": {},
     "output_type": "execute_result"
    }
   ],
   "source": [
    "twitter_tag.nouns(text[1])"
   ]
  },
  {
   "cell_type": "code",
   "execution_count": 78,
   "metadata": {},
   "outputs": [],
   "source": [
    "def tokenizer(str):\n",
    "    return [token for token in twitter_tag.nouns(str) if len(token) > 1]"
   ]
  },
  {
   "cell_type": "code",
   "execution_count": 79,
   "metadata": {},
   "outputs": [
    {
     "data": {
      "text/plain": [
       "['충격', '결말']"
      ]
     },
     "execution_count": 79,
     "metadata": {},
     "output_type": "execute_result"
    }
   ],
   "source": [
    "tokenizer(text[1])"
   ]
  },
  {
   "cell_type": "markdown",
   "metadata": {},
   "source": [
    "'적'과 같이 한 자로 된 단어를 제거하고 count vector 생성"
   ]
  },
  {
   "cell_type": "code",
   "execution_count": 80,
   "metadata": {},
   "outputs": [],
   "source": [
    "#count vector 새로 생성\n",
    "vec = CountVectorizer(tokenizer=tokenizer, decode_error ='ignore', \n",
    "                      max_df=0.5, max_features = 1000) #너무 자주 나타나는 단어는 제외\n",
    "review_cv = vec.fit_transform(text)"
   ]
  },
  {
   "cell_type": "code",
   "execution_count": 81,
   "metadata": {},
   "outputs": [
    {
     "name": "stdout",
     "output_type": "stream",
     "text": [
      "Topic #0: 영화, 상영, 느낌, 자극, 갈수록, 스크린, 취향, 노력, 분위기, 감동\n",
      "Topic #1: 마블, 노스, 이상, 히어로, 그래픽, 얘기, 영화, 인피니티, 점도, 폭력\n",
      "Topic #2: 송강호, 위해, 국민, 대한민국, 가슴, 엔딩, 희생, 영웅, 보시, 추격\n",
      "Topic #3: 영화, 지금, 추천, 쓰레기, 누구, 더욱, 시도, 정말, 강력, 블레어\n",
      "Topic #4: 영화, 관객, 뮤지컬, 강추, 사람, 출연, 해도, 그게, 재즈, 테러\n",
      "Topic #5: 진짜, 영화, 발전, 점수, 역시, 눈물, 각색, 최고, 간만, 처럼\n",
      "Topic #6: 한국, 사실, 대사, 중국, 차라리, 상황, 시나리오, 가지, 스케일, 영화\n",
      "Topic #7: 영화, 완전, 조폭, 경찰, 다가, 눈물, 처음, 코미디, 감동, 사람\n",
      "Topic #8: 액션, 웃음, 긴장감, 영화, 영화인, 형사, 스릴, 코믹, 연기, 과거\n",
      "Topic #9: 오늘, 범죄, 도시, 완성, 연기자, 꿀잼, 배우, 반성, 박수, 연기\n",
      "Topic #10: 평점, 반전, 얼마나, 영화, 등장, 리얼, 짜증, 감동, 훌쩍, 현재\n",
      "Topic #11: 영화, 최고, 최악, 아들, 올해, 도대체, 심장, 정말, 깡패, 불구\n",
      "Topic #12: 눈물, 영화, 설정, 무슨, 저승, 신파극, 효과, 나중, 애니, 감상\n",
      "Topic #13: 대한, 영화로, 인간, 영화, 이해, 오락, 요즘, 반드시, 감동, 감탄\n",
      "Topic #14: 장면, 스토리, 전개, 집중, 약간, 영화, 내용, 한국영, 시간, 세계관\n",
      "Topic #15: 정도, 영화, 여운, 시간, 실화, 현실, 처음, 감동, 관객수, 바탕\n",
      "Topic #16: 가족, 이야기, 기억, 보기, 노래, 디즈니, 코코, 픽사, 겨울왕국, 전형\n",
      "Topic #17: 영화, 가장, 의미, 사람, 누가, 다소, 살짝, 타임, 라라, 랜드\n",
      "Topic #18: 원작, 웹툰, 수준, 이제, 김동욱, 댓글, 진심, 기술, 인정, 신파\n",
      "Topic #19: 영화, 판타지, 마블리, 요소, 코드, 언제, 실감, 유머, 시간, 설명\n",
      "Topic #20: 모든, 실제, 제대로, 우리, 개연, 세상, 거의, 영화, 인물, 나이\n",
      "Topic #21: 감동, 만화, 혼자, 기대, 영화, 그냥, 장르, 그닥, 얼굴, 연기\n",
      "Topic #22: 생각, 영화, 예고편, 펑펑, 부모님, 우리나라, 매우, 이승, 어디, 가족영화\n",
      "Topic #23: 공포영화, 공포, 개봉, 곤지암, 세계, 정신, 화보, 화가, 그것, 잘만\n",
      "Topic #24: 영화, 그냥, 전두환, 주연, 기도, 무서움, 스포, 정말, 무조건, 배우\n",
      "Topic #25: 대박, 강철, 영화, 이번, 명작, 머리, 악당, 간다, 자기, 포인트\n",
      "Topic #26: 배우, 연기력, 영화, 영화관, 시작, 아픔, 정말, 슬픔, 처음, 어제\n",
      "Topic #27: 보고, 이건, 초반, 후반, 전혀, 영화, 여기, 생각, 재미, 학년\n",
      "Topic #28: 중간, 소재, 귀신, 한국영, 영화, 공감, 나라, 캐스팅, 남편, 웃기\n",
      "Topic #29: 신파, 몰입, 지옥, 마지막, 오히려, 영화, 분노, 눈물, 잔치, 필요\n",
      "Topic #30: 나름, 느낌, 보지, 지루함, 볼거리, 친구, 영화, 역할, 이하, 최근\n",
      "Topic #31: 조금, 재미, 영화, 중반, 이후, 무엇, 번역, 개인, 상미, 호불호\n",
      "Topic #32: 연출, 계속, 기대, 편이, 기분, 역대, 감성, 영화, 마지막, 예상\n",
      "Topic #33: 하나, 결말, 영화, 시대, 남자, 구성, 여자, 존재, 어찌, 관객\n",
      "Topic #34: 광주, 역사, 택시, 우리, 시민, 가슴, 표현, 민주화, 운전사, 기자\n",
      "Topic #35: 영화, 생각, 안보, 그냥, 현실, 사람, 비교, 감동, 전반, 내용\n",
      "Topic #36: 모두, 정말, 별로, 감정, 영화, 자신, 어른, 촬영, 갑자기, 역시\n",
      "Topic #37: 마동석, 윤계상, 연기, 조연, 조선족, 몰입도, 토르, 악역, 상상, 수도\n",
      "Topic #38: 부분, 다음, 영상, 아주, 라면, 제일, 편도, 오역, 내용, 만큼\n",
      "Topic #39: 캐릭터, 마음, 다만, 스톤, 영화, 마무리, 문제, 선택, 라이언, 슬링\n",
      "Topic #40: 음악, 사랑, 주인공, 모습, 매력, 배경, 다른, 초딩, 피아노, 정말\n",
      "Topic #41: 아이, 영화, 소리, 감동, 정말, 순간, 또한, 그날, 생각, 잔인함\n",
      "Topic #42: 작품, 다시, 사람, 천만, 이영화, 절대, 영화, 제발, 충격, 그때\n",
      "Topic #43: 영화, 억지, 자체, 내용, 한번, 드라마, 화면, 동안, 그대로, 유치\n",
      "Topic #44: 어벤져스, 관람, 영화, 후회, 생각, 시리즈, 재미, 대해, 전체, 거기\n",
      "Topic #45: 내내, 감동, 때문, 알바, 엄마, 뭔가, 진실, 영화, 마음, 좀더\n",
      "Topic #46: 감독, 영화, 극장, 흥행, 노잼, 외국, 아무, 카메라, 성공, 추천\n",
      "Topic #47: 연기, 차태현, 하정우, 이유, 어머니, 주지훈, 일단, 이정재, 동생, 김향기\n",
      "Topic #48: 영화, 아쉬움, 눈물, 교훈, 다큐, 실망, 죽음, 만점, 억지로, 거리\n",
      "Topic #49: 영화, 인생, 이해, 사람, 평가, 원래, 참고, 평론가, 가면, 크게\n",
      "\n"
     ]
    }
   ],
   "source": [
    "#topic modeling 수행\n",
    "lda = LatentDirichletAllocation(n_components = 50, max_iter=25, \n",
    "                                topic_word_prior= 0.1, doc_topic_prior=1.0,\n",
    "                                learning_method='batch',\n",
    "                                n_jobs= -1,\n",
    "                                random_state=0)\n",
    "review_topics = lda.fit_transform(review_cv)\n",
    "print_top_words(lda,vec.get_feature_names(), 10)"
   ]
  },
  {
   "cell_type": "markdown",
   "metadata": {},
   "source": [
    "50개의 topic들을 대상으로 clustering을 수행해서 topic들이 잘 묶을 수 있는지 확인"
   ]
  },
  {
   "cell_type": "code",
   "execution_count": 82,
   "metadata": {},
   "outputs": [
    {
     "name": "stdout",
     "output_type": "stream",
     "text": [
      "topic-word distribution dimension: (50, 1000)\n",
      "Cluster label: [1 2 2 1 1 2 2 1 2 2 2 1 2 2 2 1 2 1 2 2 2 2 2 2 1 2 0 2 2 2 2 2 2 2 2 1 2\n",
      " 3 2 2 2 2 4 1 2 2 1 2 2 1]\n"
     ]
    }
   ],
   "source": [
    "from sklearn.cluster import KMeans\n",
    "\n",
    "kmeans = KMeans(n_clusters=5) #5개 클러스터로 분류\n",
    "kmeans.fit(lda.components_)\n",
    "\n",
    "print('topic-word distribution dimension:', lda.components_.shape)\n",
    "print('Cluster label:', kmeans.labels_)"
   ]
  },
  {
   "cell_type": "markdown",
   "metadata": {},
   "source": [
    "T-SNE를 이용하여 각 topic들 간의 관계를 시각화"
   ]
  },
  {
   "cell_type": "code",
   "execution_count": 83,
   "metadata": {},
   "outputs": [
    {
     "name": "stdout",
     "output_type": "stream",
     "text": [
      "TSNE dimension: (50, 2)\n"
     ]
    },
    {
     "data": {
      "text/plain": [
       "array([-26.228304 ,  -9.995025 ,  46.649403 ,  -1.6325508, -27.5668   ,\n",
       "        81.689156 , -35.28797  ,   2.6156175, -11.304313 ,   4.0795746,\n",
       "       -55.775806 ,  21.656673 , -19.19056  ,  23.783792 , -67.14459  ,\n",
       "       -86.62832  , -99.21543  , -13.120061 , -67.16767  ,  -2.9208426,\n",
       "         6.628545 ,  12.393151 , -27.701046 ,  56.70328  ,  -7.2939367,\n",
       "       -27.095646 ,  16.027466 , -55.12867  , -78.64096  ,  55.112484 ,\n",
       "        25.607193 ,  48.402256 ,  29.979427 , -47.492447 , -45.201675 ,\n",
       "       -18.965967 ,  28.500086 ,  89.17913  ,  73.051025 , -37.71155  ,\n",
       "        44.51035  ,  -8.994303 , -10.97403  ,   7.922424 , -11.326307 ,\n",
       "        29.982994 , -32.869816 , -64.008064 ,   9.55746  , -36.275063 ],\n",
       "      dtype=float32)"
      ]
     },
     "execution_count": 83,
     "metadata": {},
     "output_type": "execute_result"
    }
   ],
   "source": [
    "from sklearn.manifold import TSNE\n",
    "tsne = TSNE(n_components=2, random_state=42)\n",
    "tsne_review = tsne.fit_transform(lda.components_)\n",
    "print('TSNE dimension:', tsne_review.shape)\n",
    "tsne_review[:,0]"
   ]
  },
  {
   "cell_type": "code",
   "execution_count": 84,
   "metadata": {},
   "outputs": [],
   "source": [
    "%matplotlib inline\n",
    "import matplotlib.pyplot as plt\n",
    "from matplotlib import font_manager, rc\n",
    "font_name = font_manager.FontProperties(fname=\"c:/Windows/Fonts/malgun.ttf\").get_name()\n",
    "rc('font', family=font_name)\n",
    "import matplotlib as mpl\n",
    "\n",
    "# 그래프에서 마이너스 폰트 깨지는 문제에 대한 대처\n",
    "mpl.rcParams['axes.unicode_minus'] = False"
   ]
  },
  {
   "cell_type": "code",
   "execution_count": 85,
   "metadata": {},
   "outputs": [
    {
     "data": {
      "image/png": "[encoded data removed]",
      "text/plain": [
       "<Figure size 432x288 with 1 Axes>"
      ]
     },
     "metadata": {
      "needs_background": "light"
     },
     "output_type": "display_data"
    },
    {
     "data": {
      "image/png": "[encoded data removed]",
      "text/plain": [
       "<Figure size 1080x720 with 1 Axes>"
      ]
     },
     "metadata": {
      "needs_background": "light"
     },
     "output_type": "display_data"
    }
   ],
   "source": [
    "colors = {0:'blue', 1:'yellow', 2:'red', 3:'green', 4:'purple'}\n",
    "x1 = tsne_review[:,0]\n",
    "x2 = tsne_review[:,1]\n",
    "plt.scatter(x1, x2)\n",
    "\n",
    "plt.figure(figsize=(15,10))\n",
    "plt.xlim(min(x1), max(x1))\n",
    "plt.ylim(min(x2), max(x2))\n",
    "for i in range(len(x1)):\n",
    "#    plt.text(X1_lsi[i], X2_lsi[i], sample_label[i],\n",
    "#            color = colors[sample_label[i]])\n",
    "    plt.text(x1[i], x2[i], kmeans.labels_[i],\n",
    "            color = colors[kmeans.labels_[i]])\n",
    "\n",
    "#for word, pos in df.iterrows():\n",
    "#    ax.annotate(word, pos, fontsize=30)\n",
    "plt.show()\n",
    "\n",
    "#아래 결과를 보면 각 topic들이 고르게 분포하고 있어, 클러스터링이 별로 의미 없음을 알 수 있음"
   ]
  },
  {
   "cell_type": "markdown",
   "metadata": {},
   "source": [
    "#### 최적의 결과를 찾기 위한 방법\n",
    "적절한 topic의 수는 perplexity 값을 이용해 찾음.<br>\n",
    "낮을 수록 좋은 모형이나, 사람의 판단과 일치하지 않을 수 있음<br>\n",
    "http://qpleple.com/perplexity-to-evaluate-topic-models/ <br>\n",
    "그 외에 alpha, beta는 앞서 설명한 바와 같이 beta=0.1로 고정하고 alpha를 50/토픽수 근처에서 찾아나감<br>\n",
    "반복횟수는 5,000번 정도면 수렴"
   ]
  },
  {
   "cell_type": "code",
   "execution_count": 86,
   "metadata": {},
   "outputs": [
    {
     "data": {
      "text/plain": [
       "579.2360029969906"
      ]
     },
     "execution_count": 86,
     "metadata": {},
     "output_type": "execute_result"
    }
   ],
   "source": [
    "lda.perplexity(review_cv)"
   ]
  },
  {
   "cell_type": "code",
   "execution_count": 87,
   "metadata": {},
   "outputs": [
    {
     "name": "stdout",
     "output_type": "stream",
     "text": [
      "Topic #0: 영화, 아주, 자체, 감동, 노잼, 감성, 자극, 갈수록, 취향, 어른\n",
      "Topic #1: 마블, 노스, 다음, 영화, 어벤져스, 히어로, 시리즈, 토르, 스톤, 인상\n",
      "Topic #2: 광주, 택시, 송강호, 시민, 기자, 운전사, 대한민국, 희생, 아픔, 영화\n",
      "Topic #3: 영화, 음악, 쓰레기, 정말, 누구, 스토리, 뮤지컬, 여운, 마음, 연기\n",
      "Topic #4: 영화, 관객, 느낌, 사람, 스토리, 진짜, 다만, 해도, 감동, 뮤지컬\n",
      "Topic #5: 영화, 진짜, 감동, 지루함, 눈물, 연기, 최고, 점수, 캐스팅, 역시\n",
      "Topic #6: 영화, 한국, 신파, 장면, 중국, 차라리, 상황, 가지, 시나리오, 극장\n",
      "Topic #7: 영화, 중간, 완전, 대사, 조폭, 경찰, 사람, 결말, 보고, 형사\n",
      "Topic #8: 영화, 조선족, 긴장감, 정말, 연기, 눈물, 다큐, 스릴, 동생, 분노\n",
      "Topic #9: 윤계상, 연기, 배우, 영화, 오늘, 범죄, 마동석, 도시, 연기자, 꿀잼\n",
      "Topic #10: 평점, 영화, 수준, 알바, 생각, 강철, 대해, 초반, 감동, 영화관\n",
      "Topic #11: 영화, 사랑, 인생, 최악, 최고, 올해, 악역, 자신, 마동석, 윤계상\n",
      "Topic #12: 영화, 설정, 감동, 무슨, 신파극, 눈물, 순간, 지옥, 개연, 모두\n",
      "Topic #13: 영화, 소리, 정도, 연기, 이해, 감동, 인간, 안보, 출연, 기대\n",
      "Topic #14: 영화, 집중, 약간, 생각, 엄마, 스토리, 감동, 한국영, 추천, 초딩\n",
      "Topic #15: 영화, 실화, 라면, 사람, 남자, 정도, 시간, 현실, 감동, 매력\n",
      "Topic #16: 가족, 기억, 영화, 영상, 노래, 디즈니, 명작, 코코, 역대, 이야기\n",
      "Topic #17: 영화, 가장, 사람, 의미, 다소, 생각, 충격, 선택, 내용, 사랑\n",
      "Topic #18: 영화, 연기, 차태현, 원작, 웹툰, 하정우, 김동욱, 신파, 주지훈, 배우\n",
      "Topic #19: 영화, 판타지, 감동, 마블리, 혼자, 코드, 상영, 유머, 시간, 교훈\n",
      "Topic #20: 영화, 제대로, 세상, 공감, 전혀, 번역, 실제, 보고, 모든, 후회\n",
      "Topic #21: 영화, 연기, 배우, 감동, 생각, 다른, 마동석, 재미, 정말, 그닥\n",
      "Topic #22: 영화, 생각, 예고편, 펑펑, 매우, 부모님, 화가, 감동, 보고, 재미\n",
      "Topic #23: 공포영화, 공포, 캐릭터, 만화, 어머니, 세계, 곤지암, 개봉, 정신, 저승\n",
      "Topic #24: 영화, 역사, 광주, 전두환, 민주화, 진실, 시대, 우리, 기도, 운동\n",
      "\n"
     ]
    },
    {
     "data": {
      "text/plain": [
       "553.3722509176054"
      ]
     },
     "execution_count": 87,
     "metadata": {},
     "output_type": "execute_result"
    }
   ],
   "source": [
    "#topic modeling 수행\n",
    "lda = LatentDirichletAllocation(n_components = 25, max_iter=25, \n",
    "                                topic_word_prior= 0.1, doc_topic_prior=2.0,\n",
    "                                learning_method='batch',\n",
    "                                n_jobs= -1,\n",
    "                                random_state=0)\n",
    "review_topics = lda.fit_transform(review_cv)\n",
    "print_top_words(lda,vec.get_feature_names(), 10)\n",
    "lda.perplexity(review_cv)"
   ]
  },
  {
   "cell_type": "code",
   "execution_count": 88,
   "metadata": {
    "scrolled": true
   },
   "outputs": [
    {
     "name": "stdout",
     "output_type": "stream",
     "text": [
      "Topic #0: 감동, 재미, 기대, 가족, 스토리, 내용, 별로, 웹툰, 추천, 억지\n",
      "Topic #1: 마블, 사랑, 스토리, 작품, 노스, 이야기, 다음, 모두, 결말, 영상\n",
      "Topic #2: 광주, 역사, 가슴, 우리, 송강호, 택시, 기억, 지금, 사실, 시민\n",
      "Topic #3: 영화, 원작, 음악, 스토리, 여운, 영화로, 마음, 뮤지컬, 상영, 쓰레기\n",
      "Topic #4: 생각, 사람, 그냥, 평점, 보고, 관객, 천만, 이영화, 알바, 지옥\n",
      "Topic #5: 진짜, 최고, 처음, 역시, 부분, 조금, 내용, 한국영, 이건, 영화\n",
      "Topic #6: 장면, 정도, 신파, 한국, 감독, 공포영화, 공포, 때문, 연출, 수준\n",
      "Topic #7: 시간, 보고, 중간, 영화, 다시, 한번, 인생, 완전, 이해, 최악\n",
      "Topic #8: 정말, 눈물, 마지막, 차태현, 대박, 아이, 하정우, 엄마, 초반, 계속\n",
      "Topic #9: 연기, 배우, 마동석, 윤계상, 액션, 연기력, 조연, 김동욱, 이제, 오늘\n",
      "\n"
     ]
    },
    {
     "data": {
      "text/plain": [
       "409.1952388313528"
      ]
     },
     "execution_count": 88,
     "metadata": {},
     "output_type": "execute_result"
    }
   ],
   "source": [
    "#topic modeling 수행\n",
    "lda = LatentDirichletAllocation(n_components = 10, max_iter=25, \n",
    "                                topic_word_prior= 0.1, doc_topic_prior=1.0,\n",
    "                                learning_method='batch',\n",
    "                                n_jobs= -1,\n",
    "                                random_state=0)\n",
    "review_topics = lda.fit_transform(review_cv)\n",
    "print_top_words(lda,vec.get_feature_names(), 10)\n",
    "lda.perplexity(review_cv)"
   ]
  },
  {
   "cell_type": "markdown",
   "metadata": {},
   "source": [
    "# 02. 토픽트렌드\n",
    "## TopicTrendMovie"
   ]
  },
  {
   "cell_type": "code",
   "execution_count": 114,
   "metadata": {},
   "outputs": [],
   "source": [
    "import matplotlib\n",
    "%matplotlib inline\n",
    "import pandas as pd"
   ]
  },
  {
   "cell_type": "code",
   "execution_count": 115,
   "metadata": {},
   "outputs": [],
   "source": [
    "data = pd.read_csv(\"movie_data_include_date.csv\", header=None, names=['review', 'rate', 'date', 'title']) #read data"
   ]
  },
  {
   "cell_type": "code",
   "execution_count": 120,
   "metadata": {},
   "outputs": [
    {
     "name": "stdout",
     "output_type": "stream",
     "text": [
      "49 review\n",
      "49 rate\n",
      "49 date\n",
      "49 title\n"
     ]
    }
   ],
   "source": [
    "for ix, name in enumerate(data.columns):\n",
    "    print(i,name)"
   ]
  },
  {
   "cell_type": "code",
   "execution_count": 122,
   "metadata": {},
   "outputs": [
    {
     "name": "stdout",
     "output_type": "stream",
     "text": [
      "                                              review  rate        date   title\n",
      "0                             돈 들인건 티가 나지만 보는 내내 하품만     1  2018.10.29  인피니티 워\n",
      "1       몰입할수밖에 없다. 어렵게 생각할 필요없다. 내가 전투에 참여한듯 손에 땀이남.    10  2018.10.26  인피니티 워\n",
      "2  이전 작품에 비해 더 화려하고 스케일도 커졌지만.... 전국 맛집의 음식들을 한데 ...     8  2018.10.24  인피니티 워\n",
      "3                                이 정도면 볼만하다고 할 수 있음!     8  2018.10.22  인피니티 워\n",
      "4                                               재미있다    10  2018.10.20  인피니티 워\n"
     ]
    }
   ],
   "source": [
    "print(data.head())"
   ]
  },
  {
   "cell_type": "code",
   "execution_count": 123,
   "metadata": {},
   "outputs": [
    {
     "data": {
      "text/plain": [
       "pandas.core.series.Series"
      ]
     },
     "execution_count": 123,
     "metadata": {},
     "output_type": "execute_result"
    }
   ],
   "source": [
    "data.review.shape\n",
    "type(data.review)"
   ]
  },
  {
   "cell_type": "code",
   "execution_count": 124,
   "metadata": {},
   "outputs": [],
   "source": [
    "from konlpy.tag import Okt #konlpy에서 Twitter 형태소 분석기를 import\n",
    "twitter_tag = Okt()\n",
    "\n",
    "def tokenizer(str):\n",
    "    return [token for token in twitter_tag.nouns(str) if len(token) > 1]"
   ]
  },
  {
   "cell_type": "code",
   "execution_count": 125,
   "metadata": {},
   "outputs": [],
   "source": [
    "from sklearn.feature_extraction.text import CountVectorizer\n",
    "\n",
    "vec = CountVectorizer(tokenizer=tokenizer, #우선은 명사만 사용\n",
    "                      decode_error ='ignore', \n",
    "                      max_df=0.5, #너무 자주 나타나는 단어는 제외, 책에서는 0.15를 사용\n",
    "                      #min_df = 3, #3개 미만의 문서에서 나타난 단어는 제외, 여기서는 max_features를 1000으로 제한하므로 별 필요 없음\n",
    "                      max_features = 1000) #적당한 대상 단어 수를 선택\n",
    "review_cv = vec.fit_transform(data.review)"
   ]
  },
  {
   "cell_type": "code",
   "execution_count": 126,
   "metadata": {},
   "outputs": [
    {
     "data": {
      "text/plain": [
       "(14725, 1000)"
      ]
     },
     "execution_count": 126,
     "metadata": {},
     "output_type": "execute_result"
    }
   ],
   "source": [
    "review_cv.shape"
   ]
  },
  {
   "cell_type": "code",
   "execution_count": 127,
   "metadata": {},
   "outputs": [],
   "source": [
    "from sklearn.decomposition import LatentDirichletAllocation\n",
    "\n",
    "lda = LatentDirichletAllocation(n_components = 10, #추출할 topic의 수를 지정\n",
    "                                max_iter=25, #max_iter는 최종 모형에서는 5,000~10,000번 시도한다고 알려져 있음\n",
    "                                topic_word_prior= 0.1, doc_topic_prior=1.0,\n",
    "                                #topic_word_prior: beta, doc_topic_prior: alpha\n",
    "                                #일반적으로 beta는 0.1로 고정하고 alpha를 50/topic의 수 근처의 값을 시도\n",
    "                                #alpha와 beta는 낮은 값을 사용할수록 특정 토픽들이 두드러지도록 하는 효과가 있다고 합\n",
    "                                learning_method='batch', #'batch'는 'online'에 비해 더 성능이 좋고 느림, 현재는 default\n",
    "                                n_jobs= -1, #사용 processor 수, None이면 1, -1이면 모두 사용\n",
    "                                random_state=0)\n",
    "\n",
    "review_topics = lda.fit_transform(review_cv)"
   ]
  },
  {
   "cell_type": "code",
   "execution_count": 128,
   "metadata": {},
   "outputs": [
    {
     "name": "stdout",
     "output_type": "stream",
     "text": [
      "(14725, 10)\n"
     ]
    },
    {
     "data": {
      "text/plain": [
       "numpy.ndarray"
      ]
     },
     "execution_count": 128,
     "metadata": {},
     "output_type": "execute_result"
    }
   ],
   "source": [
    "print(review_topics.shape)\n",
    "type(review_topics)"
   ]
  },
  {
   "cell_type": "code",
   "execution_count": 129,
   "metadata": {},
   "outputs": [],
   "source": [
    "def print_top_words(model, feature_names, n_top_words):\n",
    "    for topic_idx, topic in enumerate(model.components_):\n",
    "        print(\"Topic #%d: \" % topic_idx, end='')\n",
    "        print(\", \".join([feature_names[i] for i in topic.argsort()[:-n_top_words - 1:-1]]))\n",
    "        #print(\", \".join([feature_names[i]+'('+str(topic[i])+')' for i in topic.argsort()[:-n_top_words - 1:-1]]))\n",
    "        # 위 slicing에서 맨 뒤 -1은 역순을 의미, 역순으로 했을 때 처음부터 n_top_words까지\n",
    "    print()"
   ]
  },
  {
   "cell_type": "code",
   "execution_count": 130,
   "metadata": {},
   "outputs": [
    {
     "name": "stdout",
     "output_type": "stream",
     "text": [
      "Topic #0: 마지막, 기대, 내용, 마블, 스토리, 부분, 하나, 노스, 조금, 다음\n",
      "Topic #1: 감동, 최고, 가족, 음악, 인생, 사랑, 마음, 영화, 현실, 우리나라\n",
      "Topic #2: 연기, 배우, 재미, 감동, 송강호, 역시, 별로, 작품, 내내, 김동욱\n",
      "Topic #3: 영화, 원작, 웹툰, 이야기, 대한, 다른, 모든, 주인공, 영화로, 아주\n",
      "Topic #4: 시간, 그냥, 평점, 수준, 관객, 영화, 천만, 이상, 최악, 이건\n",
      "Topic #5: 생각, 진짜, 눈물, 보고, 신파, 다시, 한번, 아이, 억지, 엄마\n",
      "Topic #6: 스토리, 장면, 중간, 공포영화, 공포, 추천, 보기, 한국영, 대박, 소재\n",
      "Topic #7: 영화, 사람, 정도, 감독, 한국, 완전, 이영화, 인간, 지옥, 판타지\n",
      "Topic #8: 정말, 느낌, 처음, 액션, 차태현, 연출, 몰입, 연기력, 조연, 초반\n",
      "Topic #9: 마동석, 광주, 윤계상, 역사, 가슴, 우리, 택시, 지금, 시민, 국민\n",
      "\n"
     ]
    }
   ],
   "source": [
    "print_top_words(lda,vec.get_feature_names(), 10)"
   ]
  },
  {
   "cell_type": "code",
   "execution_count": 131,
   "metadata": {},
   "outputs": [],
   "source": [
    "trend_data = pd.DataFrame(review_topics, columns=['topic'+str(i) for i in range(1, 11)])"
   ]
  },
  {
   "cell_type": "code",
   "execution_count": 133,
   "metadata": {},
   "outputs": [
    {
     "name": "stdout",
     "output_type": "stream",
     "text": [
      "     topic1    topic2    topic3    topic4    topic5    topic6    topic7  \\\n",
      "0  0.165371  0.083333  0.166597  0.083333  0.083333  0.083333  0.084628   \n",
      "1  0.083333  0.083333  0.083333  0.083333  0.083333  0.166667  0.083333   \n",
      "2  0.235403  0.063470  0.228465  0.058863  0.058824  0.058824  0.059820   \n",
      "3  0.091232  0.090909  0.090909  0.090909  0.098539  0.091509  0.092369   \n",
      "4  0.100000  0.100000  0.100000  0.100000  0.100000  0.100000  0.100000   \n",
      "\n",
      "     topic8    topic9   topic10  \n",
      "0  0.083333  0.083333  0.083404  \n",
      "1  0.083333  0.166667  0.083333  \n",
      "2  0.058824  0.116671  0.060839  \n",
      "3  0.166402  0.096314  0.090909  \n",
      "4  0.100000  0.100000  0.100000  \n"
     ]
    }
   ],
   "source": [
    "print(trend_data.head())"
   ]
  },
  {
   "cell_type": "code",
   "execution_count": 134,
   "metadata": {},
   "outputs": [],
   "source": [
    "trend_data = pd.concat([trend_data, data.date], axis=1)"
   ]
  },
  {
   "cell_type": "code",
   "execution_count": 135,
   "metadata": {},
   "outputs": [
    {
     "data": {
      "text/plain": [
       "(14725, 11)"
      ]
     },
     "execution_count": 135,
     "metadata": {},
     "output_type": "execute_result"
    }
   ],
   "source": [
    "trend_data.shape"
   ]
  },
  {
   "cell_type": "code",
   "execution_count": 137,
   "metadata": {},
   "outputs": [
    {
     "name": "stdout",
     "output_type": "stream",
     "text": [
      "     topic1    topic2    topic3    topic4    topic5    topic6    topic7  \\\n",
      "0  0.165371  0.083333  0.166597  0.083333  0.083333  0.083333  0.084628   \n",
      "1  0.083333  0.083333  0.083333  0.083333  0.083333  0.166667  0.083333   \n",
      "2  0.235403  0.063470  0.228465  0.058863  0.058824  0.058824  0.059820   \n",
      "3  0.091232  0.090909  0.090909  0.090909  0.098539  0.091509  0.092369   \n",
      "4  0.100000  0.100000  0.100000  0.100000  0.100000  0.100000  0.100000   \n",
      "\n",
      "     topic8    topic9   topic10        date  \n",
      "0  0.083333  0.083333  0.083404  2018.10.29  \n",
      "1  0.083333  0.166667  0.083333  2018.10.26  \n",
      "2  0.058824  0.116671  0.060839  2018.10.24  \n",
      "3  0.166402  0.096314  0.090909  2018.10.22  \n",
      "4  0.100000  0.100000  0.100000  2018.10.20  \n"
     ]
    }
   ],
   "source": [
    "print(trend_data.head())"
   ]
  },
  {
   "cell_type": "code",
   "execution_count": 138,
   "metadata": {},
   "outputs": [],
   "source": [
    "trend = trend_data.groupby(['date']).mean()"
   ]
  },
  {
   "cell_type": "code",
   "execution_count": 139,
   "metadata": {},
   "outputs": [
    {
     "data": {
      "text/plain": [
       "(640, 10)"
      ]
     },
     "execution_count": 139,
     "metadata": {},
     "output_type": "execute_result"
    }
   ],
   "source": [
    "trend.shape"
   ]
  },
  {
   "cell_type": "code",
   "execution_count": 141,
   "metadata": {},
   "outputs": [
    {
     "name": "stdout",
     "output_type": "stream",
     "text": [
      "              topic1    topic2    topic3    topic4    topic5    topic6  \\\n",
      "date                                                                     \n",
      "2016.04.27  0.235321  0.059892  0.058934  0.107534  0.059967  0.118223   \n",
      "2016.05.09  0.097450  0.098989  0.083607  0.168341  0.084568  0.099190   \n",
      "2016.05.20  0.159960  0.062500  0.125214  0.188320  0.063189  0.124889   \n",
      "2016.06.04  0.083333  0.083333  0.083333  0.083333  0.083333  0.083333   \n",
      "2016.07.09  0.100000  0.100000  0.100000  0.100000  0.100000  0.100000   \n",
      "\n",
      "              topic7    topic8    topic9   topic10  \n",
      "date                                                \n",
      "2016.04.27  0.058976  0.065519  0.117942  0.117693  \n",
      "2016.05.09  0.073326  0.084062  0.132984  0.077484  \n",
      "2016.05.20  0.087894  0.062500  0.063035  0.062500  \n",
      "2016.06.04  0.083333  0.083333  0.250000  0.083333  \n",
      "2016.07.09  0.100000  0.100000  0.100000  0.100000  \n"
     ]
    }
   ],
   "source": [
    "print(trend.head())"
   ]
  },
  {
   "cell_type": "code",
   "execution_count": 142,
   "metadata": {},
   "outputs": [
    {
     "data": {
      "text/plain": [
       "640"
      ]
     },
     "execution_count": 142,
     "metadata": {},
     "output_type": "execute_result"
    }
   ],
   "source": [
    "len(set(trend_data.date))"
   ]
  },
  {
   "cell_type": "code",
   "execution_count": 143,
   "metadata": {},
   "outputs": [],
   "source": [
    "#jupyter에서 matplotlib을 사용해 만든 graph를 화면에 표시하기 위해 필요\n",
    "%matplotlib inline \n",
    "\n",
    "import matplotlib.pyplot as plt\n",
    "\n",
    "#아래는 한글을 사용할 때 깨지는 문제에 대한 해결\n",
    "from matplotlib import font_manager, rc\n",
    "font_name = font_manager.FontProperties(fname=\"c:/Windows/Fonts/malgun.ttf\").get_name()\n",
    "rc('font', family=font_name)\n",
    "\n",
    "#그래프의 축 등에서 음수를 표시할 때 minus sign이 깨지는 것 해결\n",
    "import matplotlib as mpl\n",
    "mpl.rcParams['axes.unicode_minus'] = False"
   ]
  },
  {
   "cell_type": "code",
   "execution_count": 144,
   "metadata": {},
   "outputs": [
    {
     "data": {
      "image/png": "[encoded data removed]",
      "text/plain": [
       "<Figure size 432x288 with 1 Axes>"
      ]
     },
     "metadata": {
      "needs_background": "light"
     },
     "output_type": "display_data"
    }
   ],
   "source": [
    "plt.plot(trend.index[:100], trend.topic1[:100])\n",
    "plt.show()"
   ]
  },
  {
   "cell_type": "markdown",
   "metadata": {},
   "source": [
    "# 03. 워드투벡\n",
    "## Petition_W2V_D2V"
   ]
  },
  {
   "cell_type": "code",
   "execution_count": 146,
   "metadata": {},
   "outputs": [],
   "source": [
    "import csv\n",
    "\n",
    "contents = []\n",
    "labels = []\n",
    "with open('petition_sample(3).csv', encoding='utf-8') as csvfile:\n",
    "    csvreader = csv.reader(csvfile)\n",
    "    for row in csvreader:\n",
    "        #print(row)\n",
    "        if row: #그 줄에 내용이 있는 경우에만\n",
    "            contents.append(row[0]) #청원내용을 contents 리스트에 추가\n",
    "            labels.append(row[1]) #청원 category를 labels 리스트에 추가"
   ]
  },
  {
   "cell_type": "code",
   "execution_count": 147,
   "metadata": {},
   "outputs": [
    {
     "name": "stdout",
     "output_type": "stream",
     "text": [
      "documents size: 4000\n",
      "labels: {'일자리', '미래', '육아/교육', '반려동물'}\n",
      "document sample: 만일 하시는 대통령님 및 각 부처 장관님,주무관님들 안녕하세요!!\\n전남 목포에서 자영업을 하는 사람입니다.\\n국정운영을 너무 잘해주셔서  감사하다는 인사를 먼저드리겠습니다.\\n제가 청원 드리고자 하는 사안은 아래와 같습니다.\\n그 사안은 개성공단 관련 부분입니다.\\n이 사안은 오래전 개성공단이 폐쇄 되고, 그와 관련되어 문제들이 돌출되면서 한번씩 생각해봤습니다.\\n개성공단의 상징성은 제가 부연하지 않아도 아주 잘 아실거라 생각 하고 요점만 정리하여 말씀드리겠습니다.\\n저는 개성공단을 북측에 꼭 설치 해야되나 하는 의문이 계속 들었습니다.\\n북측과 인접한 강원도의 적합한 지역에 제2의 개성공단을  설치하면 안되나 하고 말이지요.\\n공단이 설치가 된다면, 강원지역의 경제활성화와 중소기업에 돌아가는 혜택, 북측에 공단이 위치했을때\\n지리적 불안전에서 오는 위험 해소, 제2의 개성공단이라는 남북화해의 상징성 등을 두루 갖추지 않을까 싶습니다.\\n또한 요즘 처럼 대북관계의 긴장감에서 오는 불안함이 제2의 개성공단 설치로 인하여 대화의 창구를 열어\\n관계를 계속 유지해간다면 긴장감이 어느 정도 해소 되지 않을까 싶습니다.\\n이상으로 부족한 글 읽어주셔서 감사합니다.\n"
     ]
    }
   ],
   "source": [
    "print('documents size:', len(contents))\n",
    "print('labels:', set(labels))\n",
    "print('document sample:', contents[0])"
   ]
  },
  {
   "cell_type": "code",
   "execution_count": 148,
   "metadata": {},
   "outputs": [],
   "source": [
    "from sklearn.model_selection import train_test_split\n",
    "\n",
    "# split data and labels into a training and a test set\n",
    "X_train, X_test, y_train, y_test = train_test_split(contents, labels, random_state=0)"
   ]
  },
  {
   "cell_type": "code",
   "execution_count": 149,
   "metadata": {},
   "outputs": [],
   "source": [
    "from konlpy.tag import Okt #konlpy에서 Twitter 형태소 분석기를 import\n",
    "#from konlpy.tag import Twitter #konlpy에서 Twitter 형태소 분석기를 import\n",
    "twitter_tag = Okt()\n",
    "#twitter_tag = Twitter()"
   ]
  },
  {
   "cell_type": "code",
   "execution_count": 150,
   "metadata": {},
   "outputs": [],
   "source": [
    "def tokenize(doc):\n",
    "    #return list(filter (lambda token: len(token) > 1, twitter_tag.morphs(doc)))\n",
    "    return list(filter (lambda token: len(token) > 1, twitter_tag.nouns(doc)))"
   ]
  },
  {
   "cell_type": "code",
   "execution_count": 151,
   "metadata": {},
   "outputs": [
    {
     "name": "stdout",
     "output_type": "stream",
     "text": [
      "['문재인', '대통령', '국정', '책임', '수고', '항상', '마음속', '응원', '지지', '저', '대기업', '통신사', '협력', '업체', '외주', '노동자', '우리', '문재인', '정부', '서민', '위', '사람', '먼저', '국정', '철학', '부합', '진정', '현실', '좀더', '면', '보고', '우선', '제', '생업', '일자리', '수입', '구조', '말씀', '저', '통신', '공사', '관련', '일', '외주', '노동자', '생활', '년', '가장', '아이', '명', '이일', '아이', '물런', '한번', '안정', '고정', '수입', '우리나라', '통신사', '대기업', '구조', '이', '협력', '업체', '지역구', '어서', '모든', '설치', '시공', '설비', '관련', '장일', '그', '영세', '협력', '업체', '대부분', '외주', '일용직', '노동자', '능직', '이', '의', '관점', '그', '일', '생업', '것', '고정', '여제', '대부분', '건', '얼마', '정액', '제', '수입', '불', '안정', '있을떄', '못']\n"
     ]
    }
   ],
   "source": [
    "print(twitter_tag.nouns(X_train[1])[:100])"
   ]
  },
  {
   "cell_type": "code",
   "execution_count": 152,
   "metadata": {},
   "outputs": [
    {
     "name": "stdout",
     "output_type": "stream",
     "text": [
      "['문재인', '대통령', '님', ',', '국정', '을', '책임', '지느라', '수고', '가', '많습니다', '항상', '마음속', '으로', '응원', '하고', '지지', '합니다', '\\\\', 'n', '저', '는', '대기업', '통신사', '들', '의', '협력', '업체', '에서', '일을하는', '외주', '노동자', '입니다', '\\\\', 'n', '우리', '문재인', '정부', '가', '서민', '을', '위', '하고', '사람', '이', '먼저', '이다', '라는', '국정', '철학', '에', '부합', '하고자', '한다면', '진정', '현실', '을', '\\\\', 'n', '좀더', '면', '면', '희', '들여다', '보고', '아셔야', '합니다', '안타깝습니다', '\\\\', 'n', '우선', ',', '제', '가', '생업', '으로', '하고있는', '일자리', '수입', '원', '구조', '부터', '말씀', '드리겠습니다', '\\\\', 'n', '저', '는', '통신', '공사', '관련', '일', '을', '하고', '있는', '외주', '노동자', '생활', '을', '근']\n"
     ]
    }
   ],
   "source": [
    "print(twitter_tag.morphs(X_train[1])[:100])"
   ]
  },
  {
   "cell_type": "code",
   "execution_count": 153,
   "metadata": {},
   "outputs": [
    {
     "name": "stdout",
     "output_type": "stream",
     "text": [
      "['문재인', '대통령', '국정', '책임', '수고', '항상', '마음속', '응원', '지지', '대기업', '통신사', '협력', '업체', '외주', '노동자', '우리', '문재인', '정부', '서민', '사람', '먼저', '국정', '철학', '부합', '진정', '현실', '좀더', '보고', '우선', '생업', '일자리', '수입', '구조', '말씀', '통신', '공사', '관련', '외주', '노동자', '생활', '가장', '아이', '이일', '아이', '물런', '한번', '안정', '고정', '수입', '우리나라', '통신사', '대기업', '구조', '협력', '업체', '지역구', '어서', '모든', '설치', '시공', '설비', '관련', '장일', '영세', '협력', '업체', '대부분', '외주', '일용직', '노동자', '능직', '관점', '생업', '고정', '여제', '대부분', '얼마', '정액', '수입', '안정', '있을떄', '실정', '그것', '이일', '종사', '사람', '전국', '적지', '그간', '대기업', '협력', '업체', '갑질', '둘째', '간다', '해도', '임금', '지급', '대기업', '먼저']\n"
     ]
    }
   ],
   "source": [
    "print(tokenize(X_train[1])[:100])"
   ]
  },
  {
   "cell_type": "code",
   "execution_count": 154,
   "metadata": {},
   "outputs": [],
   "source": [
    "train_texts = [tokenize(text) for text in X_train]\n",
    "test_texts = [tokenize(text) for text in X_test]"
   ]
  },
  {
   "cell_type": "code",
   "execution_count": 155,
   "metadata": {},
   "outputs": [
    {
     "name": "stdout",
     "output_type": "stream",
     "text": [
      "train text counts: 3000 , test text counts: 1000\n",
      "train text sample 문재인 대통령님, 국정을 책임 지느라 수고가 많습니다 항상 마음속으로 응원하고 지지합니다\\n저는 대기업 통신사들의 협력업체 에서 일을하는 외주 노동자 입니다\\n우리 문재인 정부가 서민을 위하고 사람이 먼저이다 라는 국정철학에  부합 하고자 한다면 진정 현실을\\n좀더 면면희 들여다 보고 아셔야 합니다  안타깝습니다\\n우선, 제가 생업으로 하고있는 일자리 수입원 구조부터 말씀 드리겠습니다\\n저는 통신공사 관련일을 하고 있는 외주 노동자 생활을 근 20여년 해오고 있는 가장 입니다\\n아이가 3명이고 이일을 해서 아이들을 키우고 있습니다\\n물런 단한번도 안정적 이고 고정적인 수입이 없었습니다  그러면 우리나라 통신사 대기업들의 구조를\\n보면 이들은 협력업체를 지역구에 두어서 모든 설치 시공 설비 관련 현장일을 시키고 있습니다\\n그 영세한 협력업체들은 대부분 외주 일용직 노동자 들을 (기능직 이죠) 저의관점 에서는\\n그 일을 생업으로 하는 것이 고정급여제가 아니고 대부분 한건당 얼마의 정액제 입니다\\n그러다 보니 수입은 불안정 하고 일이 있을떄는 하고 없으면 못하고 그런실정 입니다\\n그것까지 탓을 할수는 없다는것은 알고 있습니다\\n이일에 종사하는 사람들이 전국에 적지 않습니다,\\n그간 대기업들의 협력업체들 에게 갑질이니, 머니 그런것은 둘째로 치고 넘어 간다고 해도\\n임금 지급은 당연히 대기업 에서 먼저 물어야 하는데  온갇 이유를 들어 일을한지 월수로는 3개월 인데도\\n미비한것이 있다고 하여, 한푼도 지급하지 않고 있는 이런 행태를 과연\\n누가 진정 단한사람도 알고나 있는지요\\n대기업협력사 들은 고양이 목에 방울거는 형태라 말한마디도 못하고  그 영세한 협력업체들은\\n대기업들 에서 정산이 안되었다고 하며 돈을 지급하지 않고\\n그러면 그 노동자 들은 어떻겠습니까?\\n그런 오랜 악습이 수십년 동안 진행 되다가 지금은 다소 개선이 된줄알고 있는데 예전보다는 나아졌는데\\n이들 대기업들의 해묵은 악습은 또다시 명절을 앞두고 있는 지금 이시점에 벌어지고 있습니다\\n하물며 정부 발주공사를 대기업이 진행하는 지금\\n그런 공사를 진행하는것에 수많은 인력 자재 물품 기타등 용역이 소비대면서 벌어지는 것에  얼마나\\n담당부서자는 파학 이라도 하고 있는지 너무나 안타깝네요\\n대기업들 직원들 급여 한두달 지급 하지않는다면 난리가 나겠죠>??\\n그런데 우리 일용직 노동자 들은 한두달은 돈이 안나왔다 하면 그냥 끝입니다\\n가장 일선에서 가장 힘들고 열악한 조견 환경에서 힘든일을 하고 있는 현장 노동자 들의 처우개선은\\n바라지도 않습니다\\n다만 일한것에 대해서 최소한 전액은 지급 못하더라도 이들이 생활은 유지할수 있게금\\n어느정도 돈을 풀어 주어야 생활이되고 가족이 그돈으로 먹고살고\\n소비를하고, 그래야 하는것 아닌가요\\n대기업 에서는 정부발주 사업을 대신하여 하는 주사업자 이면 자신들이 먼저 자재비 임금등을 지급 하면서\\n진행하는 것이 상식 아닙니까?\\n그런데 요건이나 구비서류등을 미비한것이 있다는 온갇 이유를 들어 한푼도 지급하지 않으니\\n영세한 협력업체들은 자재비 경비 노무비 급여등을 한두달 어떻게 감당 하나요?\\n단순하게 물품구입 이라면 덜하겠지만 정부에서 시설공사를 통한  설비 장비 설치 공사를 통한 일이면\\n그에 수반되는 여러가지 구매대금 용역 인건비 경비 등에 대한것과 그것에 종사하는 노동자들의 임금도\\n최소한 어떻게 지급이 되고 있는지 관심이라도 표현 해주면\\n이런 대기업들이 이따위로 하겠습니까?\\n대기업 자신들은 혁신이니 원가절감이니 하면서 그 협력업체들은 몇번을 가고 또가고 반복을 해서 마쳐야 하는\\n상황을 만들어 놓고 자신들의 비용이 나가는 것이 아니기에 강요와 닥달만 하지\\n이들을 도와주어 어떻게 하면 협력사와 종사자들 에게 도움을 줄수있을까 고민하는\\n대기업 담당자 들은 단한명도 없습니다\\n최소한 정부예산 으로 정부 발주사업 이면. 이런 대기업 들의 횡포는 견제하고 감독을 할수있어야 하는것\\n아닙니까,.?  우리 노동자 들이 생존문재 임금에 대해서 관심을 가져 주시기를 간곡희 부탁드립니다\\n이런 악습의 관행이 어디 통신사 들 뿐입니까?\\n열이면 열 백이면 그중 거의 대부분 이런 악습의 관행을 이어가고 있습니다, 다른 업종도\\n그러면 그 종사자들의 수입은 불안정 하고 수입이 없으니 소비는 당연희 없고 그래도 일은 해야겠으니\\n속티 터지고 부당하고 억울해도 속을 태워 가면서 위험하고 힘든일을 해오던 일이라\\n참아내며 하고 있습니다,\\n다음주면 추석 명절 입니다,. 환경부 에서 발주한  공사를 하는 대기업 협력업체 에서 일하는 사람으로서\\n환경부가 대기업 에게 공사비를 지급 안하면 대기업이 사업원청 이니\\n대기업 에서 추석명절을 앞두고 있는데도 전혀 지급을 하지 않는다고 하면 외 환경부는\\n대기업들만 이런 공사를 선정 합니까, 이런 문재포함 해서 사업을 할수있는 역량이 되니 맡긴것 아닌가요,.\\n너무나 부당하고 속상 합니다 협력업체 들에게는 원성을 내고 큰소리를 내보아도 대기업 들이\\n결재를 하지않고 있어서 자기들도 가진돈을 다풀어서 돈이없다,\\n그런데도 그  대기업들은 추석명절에는 직원들 에게는 급여와 보너서 선물꾸러미는 주겠죠.\\n공사비는 이익은 대기업이 다 빼먹고  힘들고 어려운 일을 하는 협력업체들은 그 부스러기 주워 먹으려\\n끽소리도 못하고 그곳에 종사해서 생업을 이어가는 노동자 들은 누구를 원망하고 한탄 해야 합니까,.\\n정말 담당 공무원의 무능과 관심부족을 질타 할수밖에 없습니다,\\n하여, 바라건데 환경부 가 주관하고 있는 전기 자동차 사업관련 싸이클을 한번 점검 해주시고\\n그에 종사하는 여러가지 업체 자재 장비 공사업 노동자 이들의 처우개선을 바라지도 않습니다\\n다면  이들이 일한것에 대해서는 매달 일한만큼은 임금이 지급 될수 있도록 제도나 환경을 개선 해주기를\\n부탁 드립니다,\\n외냐, 최소한 민자공사도 아니고 정부 부처 발주공사 이면,  최소한 그에 수반대는 것에 자재 장비 임금등에\\n대해서는 그사업자가 책임을 질수있는 업체를 선정하고 그에 책임을 확인하는 이행하는것을 감독하는\\n공무원이 있다면 얼마나 많은 사람들이  편해 지겠습니까\\n이런 일들이 비일비재 하겠지만, 어떤 정부도 어느 공무원도 누구도 관심조차 없는 이런 행태를 파학하고\\n조금 이라도 개선의 여지가 있는지 관심을 가져 주시고 고쳐 주시면\\n사람이 먼저이다, 국정철학에 매우 진정 더 따뜻한 더운 가슴으로 문재인 정부가 온전하게 다가 오리라 믿습니다\\n제발 바라건데 노동자 들의 임금문재는 민자공사든 관급 공사든 어떤 식으로든 정부가 강력하게 선도하여\\n이런 오래된 악습과 폐해를 지금 이라도 조사를 하고 수정을 하여\\n사람이 먼저이다 라는 문재인 정부 철학에 부합되게 관심을 가져 주시고 감독을 부탁 드립니다\\n마지막으로 환경부 는 지금 발주한 공사에 대해서는  수급 사업자 에게는 그에 종사하는 노동자 들의\\n임금을 지급될수 있게 관리 감독을 해주시기를 간곡희 바랍니다,\n",
      "tokenized result ['문재인', '대통령', '국정', '책임', '수고', '항상', '마음속', '응원', '지지', '대기업', '통신사', '협력', '업체', '외주', '노동자', '우리', '문재인', '정부', '서민', '사람', '먼저', '국정', '철학', '부합', '진정', '현실', '좀더', '보고', '우선', '생업', '일자리', '수입', '구조', '말씀', '통신', '공사', '관련', '외주', '노동자', '생활', '가장', '아이', '이일', '아이', '물런', '한번', '안정', '고정', '수입', '우리나라', '통신사', '대기업', '구조', '협력', '업체', '지역구', '어서', '모든', '설치', '시공', '설비', '관련', '장일', '영세', '협력', '업체', '대부분', '외주', '일용직', '노동자', '능직', '관점', '생업', '고정', '여제', '대부분', '얼마', '정액', '수입', '안정', '있을떄', '실정', '그것', '이일', '종사', '사람', '전국', '적지', '그간', '대기업', '협력', '업체', '갑질', '둘째', '간다', '해도', '임금', '지급', '대기업', '먼저', '물어', '온갇', '이유', '한지', '수로', '개월', '지급', '행태', '과연', '누가', '진정', '사람', '대기업', '협력', '고양이', '방울', '형태', '한마디', '영세', '협력', '업체', '대기업', '정산', '지급', '노동자', '악습', '십년', '동안', '진행', '지금', '다소', '개선', '예전', '대기업', '해묵', '악습', '명절', '지금', '시점', '하물며', '정부', '발주', '공사', '대기업', '진행', '지금', '공사', '진행', '인력', '자재', '물품', '기타', '용역', '소비', '대면', '얼마나', '담당', '부서', '파학', '대기업', '직원', '급여', '지급', '난리', '우리', '일용직', '노동자', '그냥', '가장', '일선', '가장', '조견', '환경', '현장', '노동자', '처우', '개선', '바라지', '다만', '대해', '최소한', '전액', '지급', '생활', '유지', '정도', '주어', '생활', '가족', '소비', '래야', '대기업', '정부', '발주', '사업', '대신', '사업자', '이면', '자신', '먼저', '자재', '임금', '지급', '진행', '상식', '요건', '구비', '서류', '온갇', '이유', '지급', '영세', '협력', '업체', '자재', '경비', '노무', '급여', '감당', '하나요', '물품', '구입', '라면', '정부', '시설', '공사', '통한', '설비', '장비', '설치', '공사', '통한', '일이', '수반', '여러가지', '구매', '대금', '용역', '인건비', '경비', '그것', '종사', '노동자', '임금', '최소한', '지급', '관심', '표현', '대기업', '대기업', '자신', '혁신', '원가', '절감', '협력', '업체', '몇번', '반복', '상황', '자신', '비용', '강요', '닥달', '협력', '사자', '도움', '고민', '대기업', '담당자', '명도', '최소한', '정부', '예산', '정부', '발주', '사업', '이면', '대기업', '횡포', '견제', '감독', '우리', '노동자', '생존', '임금', '대해', '관심', '시기', '간곡', '악습', '관행', '어디', '통신사', '이면', '백이', '거의', '대부분', '악습', '관행', '어가', '다른', '업종', '사자', '수입', '안정', '수입', '소비', '연희', '가면', '일이', '다음주', '추석', '명절', '환경부', '발주', '공사', '대기업', '협력', '업체', '사람', '환경부', '대기업', '사비', '지급', '대기업', '사업', '대기업', '추석', '명절', '전혀', '지급', '환경부', '대기업', '공사', '선정', '포함', '사업', '역량', '협력', '업체', '원성', '큰소리', '보아', '대기업', '결재', '자기', '대기업', '추석', '명절', '직원', '급여', '보너', '선물', '꾸러미', '사비', '이익', '대기업', '협력', '업체', '부스러기', '끽소리', '종사', '생업', '어가', '노동자', '누구', '한탄', '정말', '담당', '공무원', '무능', '관심', '부족', '질타', '환경부', '주관', '전기', '자동차', '사업', '관련', '싸이클', '한번', '점검', '해주시', '종사', '여러가지', '업체', '자재', '장비', '사업', '노동자', '처우', '개선', '바라지', '대해', '매달', '만큼', '임금', '지급', '제도', '환경', '개선', '부탁', '최소한', '공사', '정부', '부처', '발주', '공사', '이면', '최소한', '반대', '자재', '장비', '임금', '대해', '사업자', '책임', '업체', '선정', '책임', '확인', '이행', '감독', '공무원', '얼마나', '사람', '비일비재', '정부', '공무원', '누구', '관심', '행태', '파학', '조금', '개선', '여지', '관심', '주시', '주시', '사람', '먼저', '국정', '철학', '매우', '진정', '가슴', '문재인', '정부', '온전', '다가', '오리', '제발', '노동자', '임금', '재는', '공사', '공사', '정부', '선도', '악습', '폐해', '지금', '조사', '수정', '사람', '먼저', '문재인', '정부', '철학', '부합', '관심', '주시', '감독', '부탁', '마지막', '환경부', '지금', '발주', '공사', '대해', '수급', '사업자', '종사', '노동자', '임금', '지급', '관리', '감독', '해주시', '간곡']\n",
      "test text sample 안녕하세요. 저희는 일학습병행제라는 제도를 하고 있는 20살 직장인 또는 대학생입니다. 저희는 고등학교에서 일학습병행제로 취업하여 2016년도에 시작해 2018년도에 완료하는 과정이였습니다. 그런데 갑작스럽게 바뀐 일학습병행제 법률로 인해 더이상 일학습병행제 제도를 실시할 수 없게 되었습니다.  한 업체에서 1년이상을 하지 못하여 폐지가 될 상황입니다. 당장 이번 11월 중순이 1년과정이 끝나는 시기인데 그 이후가 되면 완전히 저희는 강제적으로 일학습병행제를 끝낼 수 밖에 없습니다. 저희가 지금껏 쌓아올린 1년이란 시간을 허비하지 않도록 도와주세요. 어린 나이 고3 나이에 먼 타지역에서부터 올라와 직장과 대학교를 오가면서 직접 돈을 벌고 일찍 혼자 사회 생활을 해오면서  힘들지만 2년이란 목표만 채우자라는 마음가짐으로 버텨왔습니다. 하지만 이제 그 노력들이 물거품이 되려합니다. 대통령님 도와주세요 .. 제발 저를 포함한 일학습병행제 친구들이 이번 일학습병행제를 무사히 마무리 할 수 있도록 도와주세요. 1년이란 시간만 기다려주세요 부탁드리겠습니다 저희 미래에 가장 큰 터닝포인트가 될 것입니다.\n",
      "tokenized result ['청소년', '울타리', '죄책감', '양심', '범죄자', '반듯이', '폐지']\n"
     ]
    }
   ],
   "source": [
    "print('train text counts:', len(train_texts), ', test text counts:', len(test_texts))\n",
    "print(\"train text sample\", X_train[1])\n",
    "print(\"tokenized result\", train_texts[1])\n",
    "print(\"test text sample\", X_test[0])\n",
    "print(\"tokenized result\", test_texts[1])"
   ]
  },
  {
   "cell_type": "markdown",
   "metadata": {},
   "source": [
    "## Word2Vec"
   ]
  },
  {
   "cell_type": "markdown",
   "metadata": {},
   "source": [
    "Word2Vec으로 무엇을 할 수 있을까?"
   ]
  },
  {
   "cell_type": "code",
   "execution_count": 156,
   "metadata": {},
   "outputs": [
    {
     "name": "stdout",
     "output_type": "stream",
     "text": [
      "[==================================================] 100.0% 128.1/128.1MB downloaded\n"
     ]
    }
   ],
   "source": [
    "import gensim.downloader as api\n",
    "\n",
    "word_vectors = api.load(\"glove-wiki-gigaword-100\")  # load pre-trained word-vectors from gensim-data"
   ]
  },
  {
   "cell_type": "code",
   "execution_count": 157,
   "metadata": {},
   "outputs": [
    {
     "name": "stdout",
     "output_type": "stream",
     "text": [
      "queen: 0.7699\n"
     ]
    }
   ],
   "source": [
    "result = word_vectors.most_similar(positive=['woman', 'king'], negative=['man'])\n",
    "print(\"{}: {:.4f}\".format(*result[0]))"
   ]
  },
  {
   "cell_type": "code",
   "execution_count": 160,
   "metadata": {},
   "outputs": [
    {
     "data": {
      "text/plain": [
       "[('queen', 0.896455705165863),\n",
       " ('monarch', 0.8495979309082031),\n",
       " ('throne', 0.8447030782699585),\n",
       " ('princess', 0.8371669054031372),\n",
       " ('elizabeth', 0.8356794714927673),\n",
       " ('daughter', 0.8348595499992371),\n",
       " ('prince', 0.8230059742927551),\n",
       " ('mother', 0.8154449462890625),\n",
       " ('margaret', 0.8147734999656677),\n",
       " ('father', 0.8100854158401489)]"
      ]
     },
     "execution_count": 160,
     "metadata": {},
     "output_type": "execute_result"
    }
   ],
   "source": [
    "result"
   ]
  },
  {
   "cell_type": "code",
   "execution_count": 161,
   "metadata": {},
   "outputs": [
    {
     "name": "stdout",
     "output_type": "stream",
     "text": [
      "queen: 0.8965\n"
     ]
    }
   ],
   "source": [
    "result = word_vectors.most_similar_cosmul(positive=['woman', 'king'], negative=['man'])\n",
    "print(\"{}: {:.4f}\".format(*result[0]))"
   ]
  },
  {
   "cell_type": "code",
   "execution_count": 162,
   "metadata": {},
   "outputs": [
    {
     "name": "stdout",
     "output_type": "stream",
     "text": [
      "cereal\n"
     ]
    },
    {
     "name": "stderr",
     "output_type": "stream",
     "text": [
      "C:\\Users\\soo hyun\\anaconda3\\lib\\site-packages\\gensim\\models\\keyedvectors.py:877: FutureWarning: arrays to stack must be passed as a \"sequence\" type such as list or tuple. Support for non-sequence iterables such as generators is deprecated as of NumPy 1.16 and will raise an error in the future.\n",
      "  vectors = vstack(self.word_vec(word, use_norm=True) for word in used_words).astype(REAL)\n"
     ]
    }
   ],
   "source": [
    "print(word_vectors.doesnt_match(\"breakfast cereal dinner lunch\".split()))"
   ]
  },
  {
   "cell_type": "code",
   "execution_count": 163,
   "metadata": {},
   "outputs": [
    {
     "name": "stdout",
     "output_type": "stream",
     "text": [
      "Collecting pyemd\n",
      "  Downloading pyemd-0.5.1.tar.gz (91 kB)\n",
      "Requirement already satisfied: numpy<2.0.0,>=1.9.0 in c:\\users\\soo hyun\\anaconda3\\lib\\site-packages (from pyemd) (1.18.5)\n",
      "Building wheels for collected packages: pyemd\n",
      "  Building wheel for pyemd (setup.py): started\n",
      "  Building wheel for pyemd (setup.py): finished with status 'error'\n",
      "  Running setup.py clean for pyemd\n",
      "Failed to build pyemd\n",
      "Installing collected packages: pyemd\n",
      "    Running setup.py install for pyemd: started\n",
      "    Running setup.py install for pyemd: finished with status 'error'\n",
      "True\n"
     ]
    },
    {
     "name": "stderr",
     "output_type": "stream",
     "text": [
      "  ERROR: Command errored out with exit status 1:\n",
      "   command: 'C:\\Users\\soo hyun\\anaconda3\\python.exe' -u -c 'import sys, setuptools, tokenize; sys.argv[0] = '\"'\"'C:\\\\Users\\\\soo hyun\\\\AppData\\\\Local\\\\Temp\\\\pip-install-9857s4qa\\\\pyemd\\\\setup.py'\"'\"'; __file__='\"'\"'C:\\\\Users\\\\soo hyun\\\\AppData\\\\Local\\\\Temp\\\\pip-install-9857s4qa\\\\pyemd\\\\setup.py'\"'\"';f=getattr(tokenize, '\"'\"'open'\"'\"', open)(__file__);code=f.read().replace('\"'\"'\\r\\n'\"'\"', '\"'\"'\\n'\"'\"');f.close();exec(compile(code, __file__, '\"'\"'exec'\"'\"'))' bdist_wheel -d 'C:\\Users\\soo hyun\\AppData\\Local\\Temp\\pip-wheel-k5m7q7c9'\n",
      "       cwd: C:\\Users\\soo hyun\\AppData\\Local\\Temp\\pip-install-9857s4qa\\pyemd\\\n",
      "  Complete output (11 lines):\n",
      "  running bdist_wheel\n",
      "  running build\n",
      "  running build_py\n",
      "  creating build\n",
      "  creating build\\lib.win-amd64-3.8\n",
      "  creating build\\lib.win-amd64-3.8\\pyemd\n",
      "  copying pyemd\\__about__.py -> build\\lib.win-amd64-3.8\\pyemd\n",
      "  copying pyemd\\__init__.py -> build\\lib.win-amd64-3.8\\pyemd\n",
      "  running build_ext\n",
      "  building 'pyemd.emd' extension\n",
      "  error: Microsoft Visual C++ 14.0 is required. Get it with \"Build Tools for Visual Studio\": https://visualstudio.microsoft.com/downloads/\n",
      "  ----------------------------------------\n",
      "  ERROR: Failed building wheel for pyemd\n",
      "    ERROR: Command errored out with exit status 1:\n",
      "     command: 'C:\\Users\\soo hyun\\anaconda3\\python.exe' -u -c 'import sys, setuptools, tokenize; sys.argv[0] = '\"'\"'C:\\\\Users\\\\soo hyun\\\\AppData\\\\Local\\\\Temp\\\\pip-install-9857s4qa\\\\pyemd\\\\setup.py'\"'\"'; __file__='\"'\"'C:\\\\Users\\\\soo hyun\\\\AppData\\\\Local\\\\Temp\\\\pip-install-9857s4qa\\\\pyemd\\\\setup.py'\"'\"';f=getattr(tokenize, '\"'\"'open'\"'\"', open)(__file__);code=f.read().replace('\"'\"'\\r\\n'\"'\"', '\"'\"'\\n'\"'\"');f.close();exec(compile(code, __file__, '\"'\"'exec'\"'\"'))' install --record 'C:\\Users\\soo hyun\\AppData\\Local\\Temp\\pip-record-li9e0rgo\\install-record.txt' --single-version-externally-managed --compile --install-headers 'C:\\Users\\soo hyun\\anaconda3\\Include\\pyemd'\n",
      "         cwd: C:\\Users\\soo hyun\\AppData\\Local\\Temp\\pip-install-9857s4qa\\pyemd\\\n",
      "    Complete output (11 lines):\n",
      "    running install\n",
      "    running build\n",
      "    running build_py\n",
      "    creating build\n",
      "    creating build\\lib.win-amd64-3.8\n",
      "    creating build\\lib.win-amd64-3.8\\pyemd\n",
      "    copying pyemd\\__about__.py -> build\\lib.win-amd64-3.8\\pyemd\n",
      "    copying pyemd\\__init__.py -> build\\lib.win-amd64-3.8\\pyemd\n",
      "    running build_ext\n",
      "    building 'pyemd.emd' extension\n",
      "    error: Microsoft Visual C++ 14.0 is required. Get it with \"Build Tools for Visual Studio\": https://visualstudio.microsoft.com/downloads/\n",
      "    ----------------------------------------\n",
      "ERROR: Command errored out with exit status 1: 'C:\\Users\\soo hyun\\anaconda3\\python.exe' -u -c 'import sys, setuptools, tokenize; sys.argv[0] = '\"'\"'C:\\\\Users\\\\soo hyun\\\\AppData\\\\Local\\\\Temp\\\\pip-install-9857s4qa\\\\pyemd\\\\setup.py'\"'\"'; __file__='\"'\"'C:\\\\Users\\\\soo hyun\\\\AppData\\\\Local\\\\Temp\\\\pip-install-9857s4qa\\\\pyemd\\\\setup.py'\"'\"';f=getattr(tokenize, '\"'\"'open'\"'\"', open)(__file__);code=f.read().replace('\"'\"'\\r\\n'\"'\"', '\"'\"'\\n'\"'\"');f.close();exec(compile(code, __file__, '\"'\"'exec'\"'\"'))' install --record 'C:\\Users\\soo hyun\\AppData\\Local\\Temp\\pip-record-li9e0rgo\\install-record.txt' --single-version-externally-managed --compile --install-headers 'C:\\Users\\soo hyun\\anaconda3\\Include\\pyemd' Check the logs for full command output.\n"
     ]
    }
   ],
   "source": [
    "!pip install pyemd\n",
    "\n",
    "similarity = word_vectors.similarity('woman', 'man')\n",
    "print(similarity > 0.8)"
   ]
  },
  {
   "cell_type": "code",
   "execution_count": 164,
   "metadata": {},
   "outputs": [
    {
     "name": "stdout",
     "output_type": "stream",
     "text": [
      "dog: 0.8798\n"
     ]
    }
   ],
   "source": [
    "result = word_vectors.similar_by_word(\"cat\")\n",
    "print(\"{}: {:.4f}\".format(*result[0]))"
   ]
  },
  {
   "cell_type": "code",
   "execution_count": null,
   "metadata": {},
   "outputs": [],
   "source": [
    "sentence_obama = 'Obama speaks to the media in Illinois'.lower().split()\n",
    "sentence_president = 'The president greets the press in Chicago'.lower().split()\n",
    "\n",
    "similarity = word_vectors.wmdistance(sentence_obama, sentence_president)\n",
    "print(\"{:.4f}\".format(similarity))"
   ]
  },
  {
   "cell_type": "code",
   "execution_count": 166,
   "metadata": {},
   "outputs": [
    {
     "name": "stdout",
     "output_type": "stream",
     "text": [
      "0.0\n"
     ]
    }
   ],
   "source": [
    "distance = word_vectors.distance(\"media\", \"media\")\n",
    "print(\"{:.1f}\".format(distance))"
   ]
  },
  {
   "cell_type": "code",
   "execution_count": 167,
   "metadata": {},
   "outputs": [
    {
     "name": "stdout",
     "output_type": "stream",
     "text": [
      "0.7067\n"
     ]
    }
   ],
   "source": [
    "sim = word_vectors.n_similarity(['sushi', 'shop'], ['japanese', 'restaurant'])\n",
    "print(\"{:.4f}\".format(sim))"
   ]
  },
  {
   "cell_type": "code",
   "execution_count": 168,
   "metadata": {},
   "outputs": [
    {
     "name": "stdout",
     "output_type": "stream",
     "text": [
      "(100,)\n"
     ]
    }
   ],
   "source": [
    "vector = word_vectors['computer']  # numpy vector of a word\n",
    "print(vector.shape)"
   ]
  },
  {
   "cell_type": "code",
   "execution_count": 169,
   "metadata": {},
   "outputs": [
    {
     "name": "stdout",
     "output_type": "stream",
     "text": [
      "(100,)\n"
     ]
    }
   ],
   "source": [
    "vector = word_vectors.wv.word_vec('office', use_norm=True)\n",
    "print(vector.shape)"
   ]
  },
  {
   "cell_type": "markdown",
   "metadata": {},
   "source": [
    "Word2Vec으로 직접 학습해보자"
   ]
  },
  {
   "cell_type": "code",
   "execution_count": 170,
   "metadata": {},
   "outputs": [],
   "source": [
    "#train\n",
    "from gensim.models import word2vec\n",
    "\n",
    "wv_model_ko = word2vec.Word2Vec(train_texts)\n",
    "wv_model_ko.init_sims(replace=True)\n",
    "\n",
    "wv_model_ko.save('petition_sample_w2v.model')"
   ]
  },
  {
   "cell_type": "code",
   "execution_count": 171,
   "metadata": {},
   "outputs": [
    {
     "name": "stdout",
     "output_type": "stream",
     "text": [
      "[('소년법', 0.9951703548431396), ('악용', 0.9948495626449585), ('폐지', 0.9926279783248901), ('소년', 0.9878897070884705), ('범죄', 0.9846632480621338), ('테두리', 0.9836496114730835), ('성인', 0.9833707213401794), ('미성년', 0.9761254787445068), ('용서', 0.972411036491394), ('피해자', 0.9713164567947388)]\n"
     ]
    }
   ],
   "source": [
    "#유사한 단어 추출\n",
    "print(wv_model_ko.wv.most_similar('청소년'))"
   ]
  },
  {
   "cell_type": "code",
   "execution_count": 172,
   "metadata": {},
   "outputs": [
    {
     "name": "stdout",
     "output_type": "stream",
     "text": [
      "['저희', '학습', '병행', '제라', '제도', '직장인', '대학생', '저희', '고등학교', '학습', '병행', '제로', '취업', '시작', '완료', '과정', '학습', '병행', '법률', '이상', '학습', '병행', '제도', '실시', '업체', '폐지', '상황', '당장', '이번', '중순', '시기', '이후', '저희', '강제', '학습', '병행', '저희', '지금껏', '시간', '나이', '나이', '지역', '직장', '대학교', '오가면', '직접', '일찍', '혼자', '사회', '생활', '목표', '마음가짐', '이제', '노력', '거품', '대통령', '제발', '포함', '학습', '병행', '친구', '이번', '학습', '병행', '마무리', '시간', '저희', '미래', '가장', '터닝', '포인트']\n"
     ]
    },
    {
     "name": "stderr",
     "output_type": "stream",
     "text": [
      "C:\\Users\\soo hyun\\anaconda3\\lib\\site-packages\\gensim\\models\\keyedvectors.py:877: FutureWarning: arrays to stack must be passed as a \"sequence\" type such as list or tuple. Support for non-sequence iterables such as generators is deprecated as of NumPy 1.16 and will raise an error in the future.\n",
      "  vectors = vstack(self.word_vec(word, use_norm=True) for word in used_words).astype(REAL)\n"
     ]
    },
    {
     "data": {
      "text/plain": [
       "'대통령'"
      ]
     },
     "execution_count": 172,
     "metadata": {},
     "output_type": "execute_result"
    }
   ],
   "source": [
    "# 다른 단어들과 가장 거리가 먼 단어\n",
    "print(test_texts[0])\n",
    "wv_model_ko.wv.doesnt_match(test_texts[0])"
   ]
  },
  {
   "cell_type": "markdown",
   "metadata": {},
   "source": [
    "## Doc2Vec"
   ]
  },
  {
   "cell_type": "code",
   "execution_count": 173,
   "metadata": {},
   "outputs": [],
   "source": [
    "from gensim.models.doc2vec import Doc2Vec, TaggedDocument\n",
    "\n",
    "tagged_data = [TaggedDocument(doc, [i]) for i, doc in enumerate(train_texts)]\n",
    "dv_model = Doc2Vec(tagged_data)"
   ]
  },
  {
   "cell_type": "code",
   "execution_count": 174,
   "metadata": {},
   "outputs": [],
   "source": [
    "dv_train = [dv_model.infer_vector(doc) for doc in train_texts]\n",
    "dv_test = [dv_model.infer_vector(doc) for doc in test_texts]"
   ]
  },
  {
   "cell_type": "code",
   "execution_count": 175,
   "metadata": {},
   "outputs": [
    {
     "data": {
      "text/plain": [
       "3000"
      ]
     },
     "execution_count": 175,
     "metadata": {},
     "output_type": "execute_result"
    }
   ],
   "source": [
    "len(dv_train)"
   ]
  },
  {
   "cell_type": "code",
   "execution_count": 176,
   "metadata": {},
   "outputs": [
    {
     "data": {
      "text/plain": [
       "array([-0.03231131,  0.03338436,  0.01152686,  0.00440312, -0.01394957,\n",
       "       -0.01853555,  0.02308786, -0.0006188 , -0.01250095,  0.00100537,\n",
       "        0.00881854, -0.01272337, -0.01103382,  0.03352343, -0.00310035,\n",
       "        0.04082499, -0.04397612,  0.00272922,  0.01067165, -0.01473957,\n",
       "       -0.01025413,  0.01469194, -0.02050976, -0.01530816, -0.04830897,\n",
       "       -0.03757297, -0.00524206,  0.00225444, -0.01254397, -0.02740696,\n",
       "        0.00197559, -0.00706914, -0.01333867, -0.01246298, -0.03987002,\n",
       "       -0.02806319, -0.00519512,  0.0123176 ,  0.00710583,  0.00223154,\n",
       "        0.01118659,  0.01233587, -0.0079668 ,  0.00516024, -0.0119346 ,\n",
       "        0.00742452,  0.0068448 , -0.03337765,  0.02792227,  0.01743729,\n",
       "        0.01472645,  0.02507341, -0.01710917, -0.01241721,  0.00561565,\n",
       "        0.00036091,  0.01427187,  0.00624426, -0.01432232, -0.01326447,\n",
       "        0.00733306,  0.00925819, -0.00086152,  0.0324468 , -0.00391639,\n",
       "       -0.01540476,  0.00114901, -0.01549077,  0.01620086,  0.02567008,\n",
       "       -0.01815199,  0.00375118,  0.01149866, -0.00746287,  0.03463652,\n",
       "        0.00452967, -0.00792209,  0.00505254, -0.01419285,  0.0229735 ,\n",
       "       -0.00386023,  0.00431655, -0.0201061 , -0.00146837, -0.0081352 ,\n",
       "        0.01396284, -0.00082374, -0.00044053,  0.04909794,  0.01035334,\n",
       "        0.0188838 , -0.00712615, -0.02001305, -0.00268182, -0.02191874,\n",
       "       -0.00753486, -0.01704876, -0.02559561, -0.02526799,  0.01025901],\n",
       "      dtype=float32)"
      ]
     },
     "execution_count": 176,
     "metadata": {},
     "output_type": "execute_result"
    }
   ],
   "source": [
    "dv_train[0]"
   ]
  },
  {
   "cell_type": "code",
   "execution_count": 177,
   "metadata": {},
   "outputs": [
    {
     "name": "stdout",
     "output_type": "stream",
     "text": [
      "Train set score: 0.685\n",
      "Test set score: 0.639\n"
     ]
    }
   ],
   "source": [
    "from sklearn.linear_model import LogisticRegression \n",
    "\n",
    "clf = LogisticRegression() #분류기 선언\n",
    "clf.fit(dv_train, y_train) # train data를 이용하여 분류기를 학습\n",
    "print('Train set score: {:.3f}'.format(clf.score(dv_train, y_train))) # train data에 대한 예측정확도 \n",
    "print('Test set score: {:.3f}'.format(clf.score(dv_test, y_test))) # test data에 대한 예측정확도"
   ]
  },
  {
   "cell_type": "code",
   "execution_count": 178,
   "metadata": {},
   "outputs": [
    {
     "name": "stdout",
     "output_type": "stream",
     "text": [
      "Train set score: 0.718\n",
      "Test set score: 0.657\n"
     ]
    },
    {
     "name": "stderr",
     "output_type": "stream",
     "text": [
      "C:\\Users\\soo hyun\\anaconda3\\lib\\site-packages\\sklearn\\linear_model\\_logistic.py:762: ConvergenceWarning: lbfgs failed to converge (status=1):\n",
      "STOP: TOTAL NO. of ITERATIONS REACHED LIMIT.\n",
      "\n",
      "Increase the number of iterations (max_iter) or scale the data as shown in:\n",
      "    https://scikit-learn.org/stable/modules/preprocessing.html\n",
      "Please also refer to the documentation for alternative solver options:\n",
      "    https://scikit-learn.org/stable/modules/linear_model.html#logistic-regression\n",
      "  n_iter_i = _check_optimize_result(\n"
     ]
    }
   ],
   "source": [
    "from sklearn.preprocessing import StandardScaler\n",
    "\n",
    "scaler = StandardScaler()\n",
    "sc_train = scaler.fit_transform(dv_train)\n",
    "sc_test = scaler.transform(dv_test)\n",
    "\n",
    "clf.fit(sc_train, y_train) # train data를 이용하여 분류기를 학습\n",
    "print('Train set score: {:.3f}'.format(clf.score(sc_train, y_train))) # train data에 대한 예측정확도 \n",
    "print('Test set score: {:.3f}'.format(clf.score(sc_test, y_test))) # test data에 대한 예측정확도"
   ]
  },
  {
   "cell_type": "code",
   "execution_count": 179,
   "metadata": {},
   "outputs": [
    {
     "data": {
      "text/plain": [
       "[(624, 0.9981637597084045),\n",
       " (2662, 0.9964050054550171),\n",
       " (947, 0.9943066835403442),\n",
       " (1491, 0.9932825565338135),\n",
       " (96, 0.9931917190551758),\n",
       " (903, 0.9904451370239258),\n",
       " (246, 0.9901315569877625),\n",
       " (2358, 0.9900680780410767),\n",
       " (1803, 0.9898505210876465),\n",
       " (2016, 0.9897720813751221)]"
      ]
     },
     "execution_count": 179,
     "metadata": {},
     "output_type": "execute_result"
    }
   ],
   "source": [
    "dv_model.docvecs.most_similar(1)"
   ]
  },
  {
   "cell_type": "code",
   "execution_count": 180,
   "metadata": {},
   "outputs": [
    {
     "data": {
      "text/plain": [
       "'인천 연수구에 위치한 해외투자기업과 손잡고 있는 한라그룹 만도 와 독일 헬라 사가 합작하여 만든 회사입니다. 8년정도 된 회사가 엄청난 발전을 하였습니다. 누군가의 의해서.. 그 누군가가 과연\\\\n어떤 사람들 일까요..? 100% 비정규직으로 구성된\\\\n생산직과 생산관리,  품질 부서의 노동자들입니다.\\\\n2~30대 젊은 노동자들이 악덕기업 불법기업 만도헬라\\\\n정규직 사람들에게 직접적인 업무지시, 폭언, 괄시와 멸시, 무시, 성희롱을 일삼고 근무를 해왔습니다.\\\\n더이상 비정규직 노동자들은 참지못해 이듬해 2월에\\\\n노동조합을 결성하였습니다. 노동조합을 설립하자마자 원청회사인 만도헬라에서는 노조탄압과 협박을 하고 도급계약해지와 불안정한 알바고용,\\\\n원청직원들의 대체생산을 하였습니다. 대한민국의 청년들이 일하는 글로벌기업 공장에서 이게 왠말입니까.. 매년 오르고있는 매출액은 누구의 고생에서 나왔을까요? 비정규직 노동자들입니다.\\\\n1년365일중 340일을 출근하는 노동자들도 있습니다.\\\\n그렇게 12시간 주야2교대를 근무해야 가져가는 연봉은 4천만원대.. 정규직은 가방끈이 길다고 주 5일제 8시간 탄력근무제를 적용하여 초봉 5800만원\\\\n이게 말이됩니까? 해도해도 너무한거 같습니다.\\\\n문재인 대통령님께서 비정규직 제로화를 공약으로 내걸었습니다. 하지만 바뀐것이 뭐가 있습니까? 아무것도 없습니다. 공공기관만 신경쓰시고 민간기업은 관심조차 없어보입니다.\\\\n공약으로 내걸었던 비정규직 철폐에 힘써주시기 부탁드립니다!'"
      ]
     },
     "execution_count": 180,
     "metadata": {},
     "output_type": "execute_result"
    }
   ],
   "source": [
    "X_train[947]"
   ]
  },
  {
   "cell_type": "code",
   "execution_count": 181,
   "metadata": {},
   "outputs": [
    {
     "data": {
      "text/plain": [
       "'문재인 대통령님, 국정을 책임 지느라 수고가 많습니다 항상 마음속으로 응원하고 지지합니다\\\\n저는 대기업 통신사들의 협력업체 에서 일을하는 외주 노동자 입니다\\\\n우리 문재인 정부가 서민을 위하고 사람이 먼저이다 라는 국정철학에  부합 하고자 한다면 진정 현실을\\\\n좀더 면면희 들여다 보고 아셔야 합니다  안타깝습니다\\\\n우선, 제가 생업으로 하고있는 일자리 수입원 구조부터 말씀 드리겠습니다\\\\n저는 통신공사 관련일을 하고 있는 외주 노동자 생활을 근 20여년 해오고 있는 가장 입니다\\\\n아이가 3명이고 이일을 해서 아이들을 키우고 있습니다\\\\n물런 단한번도 안정적 이고 고정적인 수입이 없었습니다  그러면 우리나라 통신사 대기업들의 구조를\\\\n보면 이들은 협력업체를 지역구에 두어서 모든 설치 시공 설비 관련 현장일을 시키고 있습니다\\\\n그 영세한 협력업체들은 대부분 외주 일용직 노동자 들을 (기능직 이죠) 저의관점 에서는\\\\n그 일을 생업으로 하는 것이 고정급여제가 아니고 대부분 한건당 얼마의 정액제 입니다\\\\n그러다 보니 수입은 불안정 하고 일이 있을떄는 하고 없으면 못하고 그런실정 입니다\\\\n그것까지 탓을 할수는 없다는것은 알고 있습니다\\\\n이일에 종사하는 사람들이 전국에 적지 않습니다,\\\\n그간 대기업들의 협력업체들 에게 갑질이니, 머니 그런것은 둘째로 치고 넘어 간다고 해도\\\\n임금 지급은 당연히 대기업 에서 먼저 물어야 하는데  온갇 이유를 들어 일을한지 월수로는 3개월 인데도\\\\n미비한것이 있다고 하여, 한푼도 지급하지 않고 있는 이런 행태를 과연\\\\n누가 진정 단한사람도 알고나 있는지요\\\\n대기업협력사 들은 고양이 목에 방울거는 형태라 말한마디도 못하고  그 영세한 협력업체들은\\\\n대기업들 에서 정산이 안되었다고 하며 돈을 지급하지 않고\\\\n그러면 그 노동자 들은 어떻겠습니까?\\\\n그런 오랜 악습이 수십년 동안 진행 되다가 지금은 다소 개선이 된줄알고 있는데 예전보다는 나아졌는데\\\\n이들 대기업들의 해묵은 악습은 또다시 명절을 앞두고 있는 지금 이시점에 벌어지고 있습니다\\\\n하물며 정부 발주공사를 대기업이 진행하는 지금\\\\n그런 공사를 진행하는것에 수많은 인력 자재 물품 기타등 용역이 소비대면서 벌어지는 것에  얼마나\\\\n담당부서자는 파학 이라도 하고 있는지 너무나 안타깝네요\\\\n대기업들 직원들 급여 한두달 지급 하지않는다면 난리가 나겠죠>??\\\\n그런데 우리 일용직 노동자 들은 한두달은 돈이 안나왔다 하면 그냥 끝입니다\\\\n가장 일선에서 가장 힘들고 열악한 조견 환경에서 힘든일을 하고 있는 현장 노동자 들의 처우개선은\\\\n바라지도 않습니다\\\\n다만 일한것에 대해서 최소한 전액은 지급 못하더라도 이들이 생활은 유지할수 있게금\\\\n어느정도 돈을 풀어 주어야 생활이되고 가족이 그돈으로 먹고살고\\\\n소비를하고, 그래야 하는것 아닌가요\\\\n대기업 에서는 정부발주 사업을 대신하여 하는 주사업자 이면 자신들이 먼저 자재비 임금등을 지급 하면서\\\\n진행하는 것이 상식 아닙니까?\\\\n그런데 요건이나 구비서류등을 미비한것이 있다는 온갇 이유를 들어 한푼도 지급하지 않으니\\\\n영세한 협력업체들은 자재비 경비 노무비 급여등을 한두달 어떻게 감당 하나요?\\\\n단순하게 물품구입 이라면 덜하겠지만 정부에서 시설공사를 통한  설비 장비 설치 공사를 통한 일이면\\\\n그에 수반되는 여러가지 구매대금 용역 인건비 경비 등에 대한것과 그것에 종사하는 노동자들의 임금도\\\\n최소한 어떻게 지급이 되고 있는지 관심이라도 표현 해주면\\\\n이런 대기업들이 이따위로 하겠습니까?\\\\n대기업 자신들은 혁신이니 원가절감이니 하면서 그 협력업체들은 몇번을 가고 또가고 반복을 해서 마쳐야 하는\\\\n상황을 만들어 놓고 자신들의 비용이 나가는 것이 아니기에 강요와 닥달만 하지\\\\n이들을 도와주어 어떻게 하면 협력사와 종사자들 에게 도움을 줄수있을까 고민하는\\\\n대기업 담당자 들은 단한명도 없습니다\\\\n최소한 정부예산 으로 정부 발주사업 이면. 이런 대기업 들의 횡포는 견제하고 감독을 할수있어야 하는것\\\\n아닙니까,.?  우리 노동자 들이 생존문재 임금에 대해서 관심을 가져 주시기를 간곡희 부탁드립니다\\\\n이런 악습의 관행이 어디 통신사 들 뿐입니까?\\\\n열이면 열 백이면 그중 거의 대부분 이런 악습의 관행을 이어가고 있습니다, 다른 업종도\\\\n그러면 그 종사자들의 수입은 불안정 하고 수입이 없으니 소비는 당연희 없고 그래도 일은 해야겠으니\\\\n속티 터지고 부당하고 억울해도 속을 태워 가면서 위험하고 힘든일을 해오던 일이라\\\\n참아내며 하고 있습니다,\\\\n다음주면 추석 명절 입니다,. 환경부 에서 발주한  공사를 하는 대기업 협력업체 에서 일하는 사람으로서\\\\n환경부가 대기업 에게 공사비를 지급 안하면 대기업이 사업원청 이니\\\\n대기업 에서 추석명절을 앞두고 있는데도 전혀 지급을 하지 않는다고 하면 외 환경부는\\\\n대기업들만 이런 공사를 선정 합니까, 이런 문재포함 해서 사업을 할수있는 역량이 되니 맡긴것 아닌가요,.\\\\n너무나 부당하고 속상 합니다 협력업체 들에게는 원성을 내고 큰소리를 내보아도 대기업 들이\\\\n결재를 하지않고 있어서 자기들도 가진돈을 다풀어서 돈이없다,\\\\n그런데도 그  대기업들은 추석명절에는 직원들 에게는 급여와 보너서 선물꾸러미는 주겠죠.\\\\n공사비는 이익은 대기업이 다 빼먹고  힘들고 어려운 일을 하는 협력업체들은 그 부스러기 주워 먹으려\\\\n끽소리도 못하고 그곳에 종사해서 생업을 이어가는 노동자 들은 누구를 원망하고 한탄 해야 합니까,.\\\\n정말 담당 공무원의 무능과 관심부족을 질타 할수밖에 없습니다,\\\\n하여, 바라건데 환경부 가 주관하고 있는 전기 자동차 사업관련 싸이클을 한번 점검 해주시고\\\\n그에 종사하는 여러가지 업체 자재 장비 공사업 노동자 이들의 처우개선을 바라지도 않습니다\\\\n다면  이들이 일한것에 대해서는 매달 일한만큼은 임금이 지급 될수 있도록 제도나 환경을 개선 해주기를\\\\n부탁 드립니다,\\\\n외냐, 최소한 민자공사도 아니고 정부 부처 발주공사 이면,  최소한 그에 수반대는 것에 자재 장비 임금등에\\\\n대해서는 그사업자가 책임을 질수있는 업체를 선정하고 그에 책임을 확인하는 이행하는것을 감독하는\\\\n공무원이 있다면 얼마나 많은 사람들이  편해 지겠습니까\\\\n이런 일들이 비일비재 하겠지만, 어떤 정부도 어느 공무원도 누구도 관심조차 없는 이런 행태를 파학하고\\\\n조금 이라도 개선의 여지가 있는지 관심을 가져 주시고 고쳐 주시면\\\\n사람이 먼저이다, 국정철학에 매우 진정 더 따뜻한 더운 가슴으로 문재인 정부가 온전하게 다가 오리라 믿습니다\\\\n제발 바라건데 노동자 들의 임금문재는 민자공사든 관급 공사든 어떤 식으로든 정부가 강력하게 선도하여\\\\n이런 오래된 악습과 폐해를 지금 이라도 조사를 하고 수정을 하여\\\\n사람이 먼저이다 라는 문재인 정부 철학에 부합되게 관심을 가져 주시고 감독을 부탁 드립니다\\\\n마지막으로 환경부 는 지금 발주한 공사에 대해서는  수급 사업자 에게는 그에 종사하는 노동자 들의\\\\n임금을 지급될수 있게 관리 감독을 해주시기를 간곡희 바랍니다,'"
      ]
     },
     "execution_count": 181,
     "metadata": {},
     "output_type": "execute_result"
    }
   ],
   "source": [
    "X_train[1]"
   ]
  },
  {
   "cell_type": "markdown",
   "metadata": {},
   "source": [
    "# 04. keras RNN 기반 문서 분류\n",
    "## keras embedding을 이용한 문서 분류\n",
    "### 영화리뷰 데이터 대상"
   ]
  },
  {
   "cell_type": "code",
   "execution_count": 187,
   "metadata": {},
   "outputs": [
    {
     "name": "stdout",
     "output_type": "stream",
     "text": [
      "Reviews count: 2000\n",
      "Length of the first review: 4043\n",
      "Labels: {'neg', 'pos'}\n"
     ]
    }
   ],
   "source": [
    "from nltk.corpus import movie_reviews\n",
    "fileids = movie_reviews.fileids() #movie review data에서 file id를 가져옴\n",
    "reviews = [movie_reviews.raw(fileid) for fileid in fileids] #file id를 이용해 raw text file을 가져옴\n",
    "categories = [movie_reviews.categories(fileid)[0] for fileid in fileids] \n",
    "#file id를 이용해 label로 사용할 category 즉 positive와 negative 정보를 순서대로 가져옴\n",
    "\n",
    "print('Reviews count:', len(reviews))\n",
    "print('Length of the first review:', len(reviews[0]))\n",
    "print('Labels:', set(categories))"
   ]
  },
  {
   "cell_type": "code",
   "execution_count": 190,
   "metadata": {},
   "outputs": [
    {
     "name": "stdout",
     "output_type": "stream",
     "text": [
      "Collecting keras\n",
      "  Downloading Keras-2.4.3-py2.py3-none-any.whl (36 kB)\n",
      "Requirement already satisfied: pyyaml in c:\\users\\soo hyun\\anaconda3\\lib\\site-packages (from keras) (5.3.1)\n",
      "Requirement already satisfied: numpy>=1.9.1 in c:\\users\\soo hyun\\anaconda3\\lib\\site-packages (from keras) (1.18.5)\n",
      "Requirement already satisfied: h5py in c:\\users\\soo hyun\\anaconda3\\lib\\site-packages (from keras) (2.10.0)\n",
      "Requirement already satisfied: scipy>=0.14 in c:\\users\\soo hyun\\anaconda3\\lib\\site-packages (from keras) (1.5.0)\n",
      "Requirement already satisfied: six in c:\\users\\soo hyun\\anaconda3\\lib\\site-packages (from h5py->keras) (1.15.0)\n",
      "Installing collected packages: keras\n",
      "Successfully installed keras-2.4.3\n"
     ]
    }
   ],
   "source": [
    "!pip install keras"
   ]
  },
  {
   "cell_type": "code",
   "execution_count": 192,
   "metadata": {},
   "outputs": [
    {
     "name": "stdout",
     "output_type": "stream",
     "text": [
      "Collecting tensorflow\n",
      "  Downloading tensorflow-2.3.1-cp38-cp38-win_amd64.whl (342.5 MB)\n",
      "Collecting tensorboard<3,>=2.3.0\n",
      "  Downloading tensorboard-2.3.0-py3-none-any.whl (6.8 MB)\n",
      "Collecting keras-preprocessing<1.2,>=1.1.1\n",
      "  Downloading Keras_Preprocessing-1.1.2-py2.py3-none-any.whl (42 kB)\n",
      "Collecting grpcio>=1.8.6\n",
      "  Downloading grpcio-1.33.2-cp38-cp38-win_amd64.whl (2.7 MB)\n",
      "Collecting tensorflow-estimator<2.4.0,>=2.3.0\n",
      "  Downloading tensorflow_estimator-2.3.0-py2.py3-none-any.whl (459 kB)\n",
      "Requirement already satisfied: h5py<2.11.0,>=2.10.0 in c:\\users\\soo hyun\\anaconda3\\lib\\site-packages (from tensorflow) (2.10.0)\n",
      "Collecting absl-py>=0.7.0\n",
      "  Downloading absl_py-0.11.0-py3-none-any.whl (127 kB)\n",
      "Requirement already satisfied: wrapt>=1.11.1 in c:\\users\\soo hyun\\anaconda3\\lib\\site-packages (from tensorflow) (1.11.2)\n",
      "Collecting termcolor>=1.1.0\n",
      "  Downloading termcolor-1.1.0.tar.gz (3.9 kB)\n",
      "Collecting opt-einsum>=2.3.2\n",
      "  Downloading opt_einsum-3.3.0-py3-none-any.whl (65 kB)\n",
      "Requirement already satisfied: wheel>=0.26 in c:\\users\\soo hyun\\anaconda3\\lib\\site-packages (from tensorflow) (0.34.2)\n",
      "Requirement already satisfied: six>=1.12.0 in c:\\users\\soo hyun\\anaconda3\\lib\\site-packages (from tensorflow) (1.15.0)\n",
      "Requirement already satisfied: numpy<1.19.0,>=1.16.0 in c:\\users\\soo hyun\\anaconda3\\lib\\site-packages (from tensorflow) (1.18.5)\n",
      "Collecting google-pasta>=0.1.8\n",
      "  Downloading google_pasta-0.2.0-py3-none-any.whl (57 kB)\n",
      "Collecting astunparse==1.6.3\n",
      "  Downloading astunparse-1.6.3-py2.py3-none-any.whl (12 kB)\n",
      "Requirement already satisfied: protobuf>=3.9.2 in c:\\users\\soo hyun\\anaconda3\\lib\\site-packages (from tensorflow) (3.13.0)\n",
      "Collecting gast==0.3.3\n",
      "  Downloading gast-0.3.3-py2.py3-none-any.whl (9.7 kB)\n",
      "Requirement already satisfied: setuptools>=41.0.0 in c:\\users\\soo hyun\\anaconda3\\lib\\site-packages (from tensorboard<3,>=2.3.0->tensorflow) (49.2.0.post20200714)\n",
      "Collecting google-auth-oauthlib<0.5,>=0.4.1\n",
      "  Downloading google_auth_oauthlib-0.4.2-py2.py3-none-any.whl (18 kB)\n",
      "Collecting markdown>=2.6.8\n",
      "  Downloading Markdown-3.3.3-py3-none-any.whl (96 kB)\n",
      "Collecting google-auth<2,>=1.6.3\n",
      "  Downloading google_auth-1.23.0-py2.py3-none-any.whl (114 kB)\n",
      "Requirement already satisfied: requests<3,>=2.21.0 in c:\\users\\soo hyun\\anaconda3\\lib\\site-packages (from tensorboard<3,>=2.3.0->tensorflow) (2.24.0)\n",
      "Collecting tensorboard-plugin-wit>=1.6.0\n",
      "  Downloading tensorboard_plugin_wit-1.7.0-py3-none-any.whl (779 kB)\n",
      "Requirement already satisfied: werkzeug>=0.11.15 in c:\\users\\soo hyun\\anaconda3\\lib\\site-packages (from tensorboard<3,>=2.3.0->tensorflow) (1.0.1)\n",
      "Requirement already satisfied: requests-oauthlib>=0.7.0 in c:\\users\\soo hyun\\anaconda3\\lib\\site-packages (from google-auth-oauthlib<0.5,>=0.4.1->tensorboard<3,>=2.3.0->tensorflow) (1.3.0)\n",
      "Collecting cachetools<5.0,>=2.0.0\n",
      "  Downloading cachetools-4.1.1-py3-none-any.whl (10 kB)\n",
      "Collecting rsa<5,>=3.1.4; python_version >= \"3.5\"\n",
      "  Downloading rsa-4.6-py3-none-any.whl (47 kB)\n",
      "Collecting pyasn1-modules>=0.2.1\n",
      "  Downloading pyasn1_modules-0.2.8-py2.py3-none-any.whl (155 kB)\n",
      "Requirement already satisfied: certifi>=2017.4.17 in c:\\users\\soo hyun\\anaconda3\\lib\\site-packages (from requests<3,>=2.21.0->tensorboard<3,>=2.3.0->tensorflow) (2020.6.20)\n",
      "Requirement already satisfied: urllib3!=1.25.0,!=1.25.1,<1.26,>=1.21.1 in c:\\users\\soo hyun\\anaconda3\\lib\\site-packages (from requests<3,>=2.21.0->tensorboard<3,>=2.3.0->tensorflow) (1.25.9)\n",
      "Requirement already satisfied: idna<3,>=2.5 in c:\\users\\soo hyun\\anaconda3\\lib\\site-packages (from requests<3,>=2.21.0->tensorboard<3,>=2.3.0->tensorflow) (2.10)\n",
      "Requirement already satisfied: chardet<4,>=3.0.2 in c:\\users\\soo hyun\\anaconda3\\lib\\site-packages (from requests<3,>=2.21.0->tensorboard<3,>=2.3.0->tensorflow) (3.0.4)\n",
      "Requirement already satisfied: oauthlib>=3.0.0 in c:\\users\\soo hyun\\anaconda3\\lib\\site-packages (from requests-oauthlib>=0.7.0->google-auth-oauthlib<0.5,>=0.4.1->tensorboard<3,>=2.3.0->tensorflow) (3.1.0)\n",
      "Collecting pyasn1>=0.1.3\n",
      "  Downloading pyasn1-0.4.8-py2.py3-none-any.whl (77 kB)\n",
      "Building wheels for collected packages: termcolor\n",
      "  Building wheel for termcolor (setup.py): started\n",
      "  Building wheel for termcolor (setup.py): finished with status 'done'\n",
      "  Created wheel for termcolor: filename=termcolor-1.1.0-py3-none-any.whl size=4835 sha256=ca9bf79384bcb8f81312239a8878959ee4eadc91c6321498b8388ad8ac1a8651\n",
      "  Stored in directory: c:\\users\\soo hyun\\appdata\\local\\pip\\cache\\wheels\\a0\\16\\9c\\5473df82468f958445479c59e784896fa24f4a5fc024b0f501\n",
      "Successfully built termcolor\n",
      "Installing collected packages: cachetools, pyasn1, rsa, pyasn1-modules, google-auth, google-auth-oauthlib, markdown, absl-py, tensorboard-plugin-wit, grpcio, tensorboard, keras-preprocessing, tensorflow-estimator, termcolor, opt-einsum, google-pasta, astunparse, gast, tensorflow\n",
      "Successfully installed absl-py-0.11.0 astunparse-1.6.3 cachetools-4.1.1 gast-0.3.3 google-auth-1.23.0 google-auth-oauthlib-0.4.2 google-pasta-0.2.0 grpcio-1.33.2 keras-preprocessing-1.1.2 markdown-3.3.3 opt-einsum-3.3.0 pyasn1-0.4.8 pyasn1-modules-0.2.8 rsa-4.6 tensorboard-2.3.0 tensorboard-plugin-wit-1.7.0 tensorflow-2.3.1 tensorflow-estimator-2.3.0 termcolor-1.1.0\n"
     ]
    }
   ],
   "source": [
    "!pip install tensorflow"
   ]
  },
  {
   "cell_type": "code",
   "execution_count": 193,
   "metadata": {},
   "outputs": [
    {
     "name": "stdout",
     "output_type": "stream",
     "text": [
      "num of tokens: 43296\n"
     ]
    }
   ],
   "source": [
    "from keras.preprocessing.text import Tokenizer\n",
    "\n",
    "max_words = 10000\n",
    "\n",
    "tokenizer = Tokenizer(num_words=max_words)\n",
    "tokenizer.fit_on_texts(reviews)\n",
    "\n",
    "X = tokenizer.texts_to_sequences(reviews)\n",
    "# 일반적으로 0이면 unknown, 즉 전체단어의 수가 10000개 - num_words가 넘을 경우, index가 10000-1(for unknown)을 넘어가는 단어는 0으로 처리함\n",
    "#onehot_train = tokenizer.texts_to_matrix(X_train, mode='binary')\n",
    "\n",
    "print('num of tokens:', len(tokenizer.word_index))"
   ]
  },
  {
   "cell_type": "code",
   "execution_count": 194,
   "metadata": {},
   "outputs": [
    {
     "data": {
      "text/plain": [
       "(2000, 10000)"
      ]
     },
     "execution_count": 194,
     "metadata": {},
     "output_type": "execute_result"
    }
   ],
   "source": [
    "bow = tokenizer.texts_to_matrix(reviews, mode='binary')\n",
    "bow.shape"
   ]
  },
  {
   "cell_type": "code",
   "execution_count": 195,
   "metadata": {},
   "outputs": [
    {
     "name": "stdout",
     "output_type": "stream",
     "text": [
      "[  38    1  328   52   20  769   52   20   52   20    2    4  910  114\n",
      "   52   20 5277    4 1386  171    8  632    3   63    4    9    6  321\n",
      "   25 1957  143   18 2926  120  301  254    5 9489    2   15  150  143\n",
      "    3  102   16   44   35    9   91    6  256  103    1  164 2851  100\n",
      "    3  100  208   18   72  259    4 4077   42   82    2   94   45    6\n",
      "   14  247  954  353   37  613  294   14  133  801    5 3146   16    9\n",
      "  138    5  257    5 3146    9  308  313   64  369  493  226    3   75\n",
      "   36   86  171  439 2795   46   56 1747    7    1 5675   25   92    1\n",
      " 1280  204    6    8    1 4078    3   18  158 5676   19 1711   38   14\n",
      "   39   62  175 4079   63    4    9   40   21    1  268   84  212   39\n",
      "   35    4    1   82    8  197  442    5   86    2   98  251    4  261\n",
      "   16    9  137  248    1   86    1   15   35    8   43  439   18  618\n",
      "    1 1486  311   11  121   38   14    6    8   34  167  245   86  276\n",
      "    8    1  161    6   55    9   56  141   36   20  284    1  801    5\n",
      " 2016  169  145    4 2329   18  570  963 7840  426  221   28 3863   12\n",
      "   41 1430  226  457    1   26    6   50 1684 3592 1123   62   72    9\n",
      "   52   20  101 3024   33    3   62  120  118   27   36   20   75   62\n",
      "   92  437    5   83    9  100    3  100  208   96   41  665  132  316\n",
      "  114 3288 1044 2440   55   35    4    1  159  149    7    1   26  682\n",
      "    1  929  874   14   15  221   28   64  123    3    9   42  491    3\n",
      "    9  336   52 8856   69    2  271  875  948  301 6461   26    7  128\n",
      " 1102   16   18  618    1 2852 1325    8 1729    9   55    2  289  431\n",
      "   11   98 1326   68   86   43  261    1  209   20  271   61   12    1\n",
      "   63  204  187 2594   50  675    5   22  388    1 2109  164   74    8\n",
      "   17  197    7  258 1034   57    7    2  113 5278   16  106  954 5279\n",
      "  130   40    5   27 1543   33  181  457    1  339   15    3  175   32\n",
      "   34  621   33 1526  898    1   15  116 1993   85    9  116 2476   37\n",
      " 1471    9 1358    3    9  648  271 7098   12   63    4   64  400    2\n",
      "  271  690  324    3 1994    5   35    4    1    8  770  141    9  657\n",
      "    3   21    1   84   14    6   25    2  295   46  948 1649  731   37\n",
      "   50    5  177    8   84   85  371    6  682 6792    8    1  521    6\n",
      "  137 1132   11    1  440    9   71 3210  460   76  174  714    3   32\n",
      "   69 1487   19    1 7443  193  194 1045 2853    9 3980 4204  504   28\n",
      "    2 2214    4 7099 1003  640 1211  302 1446 1315  314 1211  302    1\n",
      " 2518 1853  302    1 2518 7100  749  302  341 4203  302  302 8855  302\n",
      "  302    1  485 1853  302 4341    4 3864 1022  302]\n"
     ]
    }
   ],
   "source": [
    "from keras import preprocessing\n",
    "\n",
    "maxlen = 500\n",
    "\n",
    "X = preprocessing.sequence.pad_sequences(X, maxlen=maxlen, truncating='pre')\n",
    "print(X[0])"
   ]
  },
  {
   "cell_type": "code",
   "execution_count": 222,
   "metadata": {},
   "outputs": [
    {
     "name": "stdout",
     "output_type": "stream",
     "text": [
      "[1 1 1 1 1 1 1 1 1 1]\n"
     ]
    }
   ],
   "source": [
    "import numpy\n",
    "label_dict = {'pos':0, 'neg':1}\n",
    "y = [label_dict[c] for c in categories]\n",
    "y = numpy.array(y) \n",
    "print(y[:10])"
   ]
  },
  {
   "cell_type": "code",
   "execution_count": 223,
   "metadata": {},
   "outputs": [
    {
     "name": "stdout",
     "output_type": "stream",
     "text": [
      "Train set count: 1600\n",
      "Test set count: 400\n",
      "Test samples: [1 0 0 1 0 0 1 1 1 1 0 0 1 1 0 1 1 0 0 0]\n"
     ]
    }
   ],
   "source": [
    "from sklearn.model_selection import train_test_split #sklearn에서 제공하는 split 함수를 사용\n",
    "X_train, X_test, y_train, y_test = train_test_split(X, y, test_size=0.2, random_state=10)\n",
    "# sklearn의 train_test_split 함수는 먼저 data set을 shuffle하고 주어진 비율에 따라 train set과 test set을 나눠 줌\n",
    "# 위에서는 reviews를 X_train과 X_test로 8:2의 비율로 나누고, categories를 y_train과 y_test로 나눔\n",
    "# 이 때 X와 y의 순서는 동일하게 유지해서 각 입력값과 label이 정확하게 match되도록 함\n",
    "# random_state는 shuffle에서의 seed 값으로, 지정한 경우 항상 동일한 결과로 shuffle이 됨\n",
    "\n",
    "print('Train set count:', len(X_train))\n",
    "print('Test set count:', len(X_test))\n",
    "print('Test samples:', y_test[:20])"
   ]
  },
  {
   "cell_type": "code",
   "execution_count": 224,
   "metadata": {},
   "outputs": [
    {
     "name": "stdout",
     "output_type": "stream",
     "text": [
      "Model: \"sequential_11\"\n",
      "_________________________________________________________________\n",
      "Layer (type)                 Output Shape              Param #   \n",
      "=================================================================\n",
      "embedding_11 (Embedding)     (None, 500, 32)           320000    \n",
      "_________________________________________________________________\n",
      "flatten_10 (Flatten)         (None, 16000)             0         \n",
      "_________________________________________________________________\n",
      "dense_11 (Dense)             (None, 1)                 16001     \n",
      "=================================================================\n",
      "Total params: 336,001\n",
      "Trainable params: 336,001\n",
      "Non-trainable params: 0\n",
      "_________________________________________________________________\n",
      "Epoch 1/30\n",
      "5/5 [==============================] - 1s 252ms/step - loss: 0.6941 - acc: 0.5078 - val_loss: 0.6925 - val_acc: 0.5250\n",
      "Epoch 2/30\n",
      "5/5 [==============================] - 0s 97ms/step - loss: 0.6406 - acc: 0.9164 - val_loss: 0.6915 - val_acc: 0.5281\n",
      "Epoch 3/30\n",
      "5/5 [==============================] - 0s 76ms/step - loss: 0.5988 - acc: 0.9508 - val_loss: 0.6901 - val_acc: 0.5406\n",
      "Epoch 4/30\n",
      "5/5 [==============================] - 0s 75ms/step - loss: 0.5529 - acc: 0.9641 - val_loss: 0.6879 - val_acc: 0.5188\n",
      "Epoch 5/30\n",
      "5/5 [==============================] - 0s 89ms/step - loss: 0.5050 - acc: 0.9766 - val_loss: 0.6852 - val_acc: 0.5500\n",
      "Epoch 6/30\n",
      "5/5 [==============================] - 0s 80ms/step - loss: 0.4534 - acc: 0.9945 - val_loss: 0.6816 - val_acc: 0.5656\n",
      "Epoch 7/30\n",
      "5/5 [==============================] - 0s 93ms/step - loss: 0.4014 - acc: 0.9922 - val_loss: 0.6773 - val_acc: 0.5781\n",
      "Epoch 8/30\n",
      "5/5 [==============================] - 0s 82ms/step - loss: 0.3503 - acc: 0.9961 - val_loss: 0.6720 - val_acc: 0.5906\n",
      "Epoch 9/30\n",
      "5/5 [==============================] - 0s 95ms/step - loss: 0.3014 - acc: 0.9961 - val_loss: 0.6660 - val_acc: 0.6000\n",
      "Epoch 10/30\n",
      "5/5 [==============================] - 0s 81ms/step - loss: 0.2565 - acc: 0.9992 - val_loss: 0.6598 - val_acc: 0.6187\n",
      "Epoch 11/30\n",
      "5/5 [==============================] - 0s 83ms/step - loss: 0.2162 - acc: 0.9984 - val_loss: 0.6531 - val_acc: 0.6281\n",
      "Epoch 12/30\n",
      "5/5 [==============================] - 0s 90ms/step - loss: 0.1809 - acc: 0.9984 - val_loss: 0.6465 - val_acc: 0.6219\n",
      "Epoch 13/30\n",
      "5/5 [==============================] - 0s 87ms/step - loss: 0.1497 - acc: 1.0000 - val_loss: 0.6402 - val_acc: 0.6313\n",
      "Epoch 14/30\n",
      "5/5 [==============================] - 0s 99ms/step - loss: 0.1232 - acc: 1.0000 - val_loss: 0.6336 - val_acc: 0.6469\n",
      "Epoch 15/30\n",
      "5/5 [==============================] - 0s 92ms/step - loss: 0.1009 - acc: 1.0000 - val_loss: 0.6273 - val_acc: 0.6531\n",
      "Epoch 16/30\n",
      "5/5 [==============================] - 1s 114ms/step - loss: 0.0821 - acc: 1.0000 - val_loss: 0.6217 - val_acc: 0.6625\n",
      "Epoch 17/30\n",
      "5/5 [==============================] - 0s 91ms/step - loss: 0.0666 - acc: 1.0000 - val_loss: 0.6160 - val_acc: 0.6719\n",
      "Epoch 18/30\n",
      "5/5 [==============================] - 0s 91ms/step - loss: 0.0538 - acc: 1.0000 - val_loss: 0.6116 - val_acc: 0.6719\n",
      "Epoch 19/30\n",
      "5/5 [==============================] - 1s 100ms/step - loss: 0.0436 - acc: 1.0000 - val_loss: 0.6059 - val_acc: 0.6719\n",
      "Epoch 20/30\n",
      "5/5 [==============================] - 0s 99ms/step - loss: 0.0348 - acc: 1.0000 - val_loss: 0.6020 - val_acc: 0.6562\n",
      "Epoch 21/30\n",
      "5/5 [==============================] - 0s 84ms/step - loss: 0.0279 - acc: 1.0000 - val_loss: 0.5977 - val_acc: 0.6625\n",
      "Epoch 22/30\n",
      "5/5 [==============================] - 1s 108ms/step - loss: 0.0223 - acc: 1.0000 - val_loss: 0.5947 - val_acc: 0.6594\n",
      "Epoch 23/30\n",
      "5/5 [==============================] - 0s 96ms/step - loss: 0.0178 - acc: 1.0000 - val_loss: 0.5908 - val_acc: 0.6750\n",
      "Epoch 24/30\n",
      "5/5 [==============================] - 0s 90ms/step - loss: 0.0142 - acc: 1.0000 - val_loss: 0.5884 - val_acc: 0.6781\n",
      "Epoch 25/30\n",
      "5/5 [==============================] - 0s 95ms/step - loss: 0.0112 - acc: 1.0000 - val_loss: 0.5844 - val_acc: 0.6719\n",
      "Epoch 26/30\n",
      "5/5 [==============================] - 0s 87ms/step - loss: 0.0089 - acc: 1.0000 - val_loss: 0.5836 - val_acc: 0.6687\n",
      "Epoch 27/30\n",
      "5/5 [==============================] - 0s 82ms/step - loss: 0.0071 - acc: 1.0000 - val_loss: 0.5800 - val_acc: 0.6844\n",
      "Epoch 28/30\n",
      "5/5 [==============================] - 1s 130ms/step - loss: 0.0056 - acc: 1.0000 - val_loss: 0.5811 - val_acc: 0.6844\n",
      "Epoch 29/30\n",
      "5/5 [==============================] - 0s 87ms/step - loss: 0.0045 - acc: 1.0000 - val_loss: 0.5788 - val_acc: 0.6687\n",
      "Epoch 30/30\n",
      "5/5 [==============================] - 1s 100ms/step - loss: 0.0035 - acc: 1.0000 - val_loss: 0.5760 - val_acc: 0.6875\n"
     ]
    }
   ],
   "source": [
    "from keras.models import Sequential\n",
    "from keras.layers import Flatten, Dense, Embedding\n",
    "\n",
    "model = Sequential()\n",
    "model.add(Embedding(max_words, 32, input_length=maxlen))\n",
    "model.add(Flatten())\n",
    "model.add(Dense(1, activation='sigmoid'))\n",
    "model.compile(optimizer='rmsprop', loss='binary_crossentropy', metrics=['acc'])\n",
    "model.summary()\n",
    "\n",
    "history = model.fit(X_train, y_train, \n",
    "                    epochs=30,\n",
    "                    batch_size=256,\n",
    "                    validation_split=0.2)"
   ]
  },
  {
   "cell_type": "code",
   "execution_count": 225,
   "metadata": {},
   "outputs": [
    {
     "data": {
      "image/png": "[encoded data removed]",
      "text/plain": [
       "<Figure size 432x288 with 1 Axes>"
      ]
     },
     "metadata": {
      "needs_background": "light"
     },
     "output_type": "display_data"
    }
   ],
   "source": [
    "%matplotlib inline\n",
    "import matplotlib.pyplot as plt\n",
    "\n",
    "history_dict = history.history\n",
    "loss = history_dict['loss']\n",
    "val_loss = history_dict['val_loss']\n",
    "\n",
    "epochs = range(1, len(loss) + 1)\n",
    "\n",
    "plt.plot(epochs, loss, 'bo', label='Training loss')\n",
    "plt.plot(epochs, val_loss, 'r', label='Validation loss')\n",
    "plt.title('Training and validation loss')\n",
    "plt.xlabel('Epochs')\n",
    "plt.ylabel('Loss')\n",
    "plt.legend()\n",
    "\n",
    "plt.show()"
   ]
  },
  {
   "cell_type": "code",
   "execution_count": 226,
   "metadata": {},
   "outputs": [
    {
     "name": "stdout",
     "output_type": "stream",
     "text": [
      "13/13 [==============================] - 0s 4ms/step - loss: 0.5365 - acc: 0.7250\n",
      "[0.5364832878112793, 0.7250000238418579]\n"
     ]
    }
   ],
   "source": [
    "score = model.evaluate(X_test, y_test)\n",
    "print(score)"
   ]
  },
  {
   "cell_type": "code",
   "execution_count": 227,
   "metadata": {},
   "outputs": [
    {
     "name": "stdout",
     "output_type": "stream",
     "text": [
      "Model: \"sequential_12\"\n",
      "_________________________________________________________________\n",
      "Layer (type)                 Output Shape              Param #   \n",
      "=================================================================\n",
      "embedding_12 (Embedding)     (None, None, 32)          320000    \n",
      "_________________________________________________________________\n",
      "lstm_1 (LSTM)                (None, 32)                8320      \n",
      "_________________________________________________________________\n",
      "dense_12 (Dense)             (None, 1)                 33        \n",
      "=================================================================\n",
      "Total params: 328,353\n",
      "Trainable params: 328,353\n",
      "Non-trainable params: 0\n",
      "_________________________________________________________________\n"
     ]
    }
   ],
   "source": [
    "from keras.layers import SimpleRNN, LSTM\n",
    "\n",
    "model = Sequential()\n",
    "model.add(Embedding(max_words, 32))\n",
    "#model.add(SimpleRNN(32))\n",
    "model.add(LSTM(32))\n",
    "model.add(Dense(1, activation='sigmoid'))\n",
    "model.summary()"
   ]
  },
  {
   "cell_type": "code",
   "execution_count": 228,
   "metadata": {},
   "outputs": [
    {
     "name": "stdout",
     "output_type": "stream",
     "text": [
      "Epoch 1/30\n",
      "5/5 [==============================] - 9s 2s/step - loss: 0.6930 - acc: 0.5102 - val_loss: 0.6920 - val_acc: 0.5344\n",
      "Epoch 2/30\n",
      "5/5 [==============================] - 5s 1s/step - loss: 0.6865 - acc: 0.6992 - val_loss: 0.6885 - val_acc: 0.6062\n",
      "Epoch 3/30\n",
      "5/5 [==============================] - 6s 1s/step - loss: 0.6594 - acc: 0.8047 - val_loss: 0.6392 - val_acc: 0.6344\n",
      "Epoch 4/30\n",
      "5/5 [==============================] - 5s 1s/step - loss: 0.5849 - acc: 0.7695 - val_loss: 0.5713 - val_acc: 0.7031\n",
      "Epoch 5/30\n",
      "5/5 [==============================] - 5s 960ms/step - loss: 0.5711 - acc: 0.8164 - val_loss: 0.5800 - val_acc: 0.7156\n",
      "Epoch 6/30\n",
      "5/5 [==============================] - 5s 945ms/step - loss: 0.5261 - acc: 0.8055 - val_loss: 0.5766 - val_acc: 0.7625\n",
      "Epoch 7/30\n",
      "5/5 [==============================] - 5s 1s/step - loss: 0.4358 - acc: 0.8852 - val_loss: 0.5707 - val_acc: 0.7531\n",
      "Epoch 8/30\n",
      "5/5 [==============================] - 5s 1s/step - loss: 0.4207 - acc: 0.8836 - val_loss: 0.5100 - val_acc: 0.7812\n",
      "Epoch 9/30\n",
      "5/5 [==============================] - 5s 1s/step - loss: 0.3525 - acc: 0.8953 - val_loss: 0.5566 - val_acc: 0.7812\n",
      "Epoch 10/30\n",
      "5/5 [==============================] - 5s 1s/step - loss: 0.3106 - acc: 0.9625 - val_loss: 0.5132 - val_acc: 0.7437\n",
      "Epoch 11/30\n",
      "5/5 [==============================] - 5s 1s/step - loss: 0.3147 - acc: 0.9156 - val_loss: 0.4965 - val_acc: 0.7625\n",
      "Epoch 12/30\n",
      "5/5 [==============================] - 5s 1s/step - loss: 0.3193 - acc: 0.8867 - val_loss: 0.5515 - val_acc: 0.7500\n",
      "Epoch 13/30\n",
      "5/5 [==============================] - 5s 1s/step - loss: 0.2612 - acc: 0.9711 - val_loss: 0.4572 - val_acc: 0.7906\n",
      "Epoch 14/30\n",
      "5/5 [==============================] - 6s 1s/step - loss: 0.2014 - acc: 0.9727 - val_loss: 0.5155 - val_acc: 0.7437\n",
      "Epoch 15/30\n",
      "5/5 [==============================] - 5s 1s/step - loss: 0.1476 - acc: 0.9805 - val_loss: 0.5189 - val_acc: 0.7500\n",
      "Epoch 16/30\n",
      "5/5 [==============================] - 6s 1s/step - loss: 0.1568 - acc: 0.9727 - val_loss: 0.6030 - val_acc: 0.7219\n",
      "Epoch 17/30\n",
      "5/5 [==============================] - 5s 1s/step - loss: 0.3478 - acc: 0.8789 - val_loss: 0.5164 - val_acc: 0.7469\n",
      "Epoch 18/30\n",
      "5/5 [==============================] - 6s 1s/step - loss: 0.1263 - acc: 0.9844 - val_loss: 0.5734 - val_acc: 0.7594\n",
      "Epoch 19/30\n",
      "5/5 [==============================] - 6s 1s/step - loss: 0.1059 - acc: 0.9859 - val_loss: 0.5289 - val_acc: 0.7688\n",
      "Epoch 20/30\n",
      "5/5 [==============================] - 5s 986ms/step - loss: 0.0933 - acc: 0.9898 - val_loss: 0.4421 - val_acc: 0.8031\n",
      "Epoch 21/30\n",
      "5/5 [==============================] - 6s 1s/step - loss: 0.0847 - acc: 0.9937 - val_loss: 0.6221 - val_acc: 0.7188\n",
      "Epoch 22/30\n",
      "5/5 [==============================] - 6s 1s/step - loss: 0.2817 - acc: 0.9312 - val_loss: 0.5022 - val_acc: 0.7688\n",
      "Epoch 23/30\n",
      "5/5 [==============================] - 6s 1s/step - loss: 0.1386 - acc: 0.9930 - val_loss: 0.4598 - val_acc: 0.7969\n",
      "Epoch 24/30\n",
      "5/5 [==============================] - 6s 1s/step - loss: 0.0558 - acc: 0.9984 - val_loss: 0.5886 - val_acc: 0.7531\n",
      "Epoch 25/30\n",
      "5/5 [==============================] - 6s 1s/step - loss: 0.0492 - acc: 0.9969 - val_loss: 0.5848 - val_acc: 0.7625\n",
      "Epoch 26/30\n",
      "5/5 [==============================] - 6s 1s/step - loss: 0.0432 - acc: 0.9984 - val_loss: 0.6143 - val_acc: 0.7625\n",
      "Epoch 27/30\n",
      "5/5 [==============================] - 6s 1s/step - loss: 0.0386 - acc: 0.9984 - val_loss: 0.6230 - val_acc: 0.6969\n",
      "Epoch 28/30\n",
      "5/5 [==============================] - 6s 1s/step - loss: 0.0591 - acc: 0.9945 - val_loss: 0.6367 - val_acc: 0.7688\n",
      "Epoch 29/30\n",
      "5/5 [==============================] - 6s 1s/step - loss: 0.0336 - acc: 0.9992 - val_loss: 0.6213 - val_acc: 0.7781\n",
      "Epoch 30/30\n",
      "5/5 [==============================] - 6s 1s/step - loss: 0.0418 - acc: 0.9969 - val_loss: 0.5470 - val_acc: 0.8062\n"
     ]
    }
   ],
   "source": [
    "model.compile(optimizer='rmsprop', loss='binary_crossentropy', metrics=['acc'])\n",
    "\n",
    "history = model.fit(X_train, y_train, \n",
    "                    epochs=30,\n",
    "                    batch_size=256,\n",
    "                    validation_split=0.2)"
   ]
  },
  {
   "cell_type": "code",
   "execution_count": 229,
   "metadata": {},
   "outputs": [
    {
     "data": {
      "image/png": "[encoded data removed]",
      "text/plain": [
       "<Figure size 432x288 with 1 Axes>"
      ]
     },
     "metadata": {
      "needs_background": "light"
     },
     "output_type": "display_data"
    }
   ],
   "source": [
    "history_dict = history.history\n",
    "loss = history_dict['loss']\n",
    "val_loss = history_dict['val_loss']\n",
    "\n",
    "epochs = range(1, len(loss) + 1)\n",
    "\n",
    "plt.plot(epochs, loss, 'bo', label='Training loss')\n",
    "plt.plot(epochs, val_loss, 'r', label='Validation loss')\n",
    "plt.title('Training and validation loss')\n",
    "plt.xlabel('Epochs')\n",
    "plt.ylabel('Loss')\n",
    "plt.legend()\n",
    "\n",
    "plt.show()"
   ]
  },
  {
   "cell_type": "code",
   "execution_count": 230,
   "metadata": {},
   "outputs": [
    {
     "data": {
      "image/png": "[encoded data removed]",
      "text/plain": [
       "<Figure size 432x288 with 1 Axes>"
      ]
     },
     "metadata": {
      "needs_background": "light"
     },
     "output_type": "display_data"
    }
   ],
   "source": [
    "history_dict = history.history\n",
    "acc = history_dict['acc']\n",
    "val_acc = history_dict['val_acc']\n",
    "\n",
    "epochs = range(1, len(acc) + 1)\n",
    "\n",
    "plt.plot(epochs, acc, 'bo', label='Training acc')\n",
    "plt.plot(epochs, val_acc, 'r', label='Validation acc')\n",
    "plt.title('Training and validation acc')\n",
    "plt.xlabel('Epochs')\n",
    "plt.ylabel('Accuracy')\n",
    "plt.legend()\n",
    "\n",
    "plt.show()"
   ]
  },
  {
   "cell_type": "code",
   "execution_count": 231,
   "metadata": {},
   "outputs": [
    {
     "name": "stdout",
     "output_type": "stream",
     "text": [
      "13/13 [==============================] - 2s 190ms/step - loss: 0.5560 - acc: 0.7875\n",
      "[0.5560495853424072, 0.7875000238418579]\n"
     ]
    }
   ],
   "source": [
    "score = model.evaluate(X_test, y_test)\n",
    "print(score)"
   ]
  },
  {
   "cell_type": "markdown",
   "metadata": {},
   "source": [
    "#### 문제점: train set의 크기가 너무 작다\n",
    "해결방안: train set을 충분히 늘리거나, pre-trained embedding vector를 사용"
   ]
  },
  {
   "cell_type": "markdown",
   "metadata": {},
   "source": [
    "## pre-trained embedding을 사용\n",
    "GloVe: https://nlp.stanford.edu/projects/glove <br>\n",
    "다운 받아서 datasets 폴더 안에 압축을 풀고 그 중에서 glove.6B.100d.txt를 사용<br>\n",
    "\n",
    "파일 안의 모양: 단어 + 단어의 100차원 vector 집합으로 이루어져 있음<br>\n",
    "\n",
    "예) the -0.038194 -0.24487 0.72812 -0.39961 0.083172 0.043953 -0.39141 0.3344 -0.57545 0.087459 0.28787 -0.06731 0.30906 -0.26384 -0.13231 -0.20757 0.33395 -0.33848 -0.31743 -0.48336 0.1464 -0.37304 0.34577 0.052041 0.44946 -0.46971 0.02628 -0.54155 -0.15518 -0.14107 -0.039722 0.28277 0.14393 0.23464 -0.31021 0.086173 0.20397 0.52624 0.17164 -0.082378 -0.71787 -0.41531 0.20335 -0.12763 0.41367 0.55187 0.57908 -0.33477 -0.36559 -0.54857 -0.062892 0.26584 0.30205 0.99775 -0.80481 -3.0243 0.01254 -0.36942 2.2167 0.72201 -0.24978 0.92136 0.034514 0.46745 1.1079 -0.19358 -0.074575 0.23353 -0.052062 -0.22044 0.057162 -0.15806 -0.30798 -0.41625 0.37972 0.15006 -0.53212 -0.2055 -1.2526 0.071624 0.70565 0.49744 -0.42063 0.26148 -1.538 -0.30223 -0.073438 -0.28312 0.37104 -0.25217 0.016215 -0.017099 -0.38984 0.87424 -0.72569 -0.51058 -0.52028 -0.1459 0.8278 0.27062\n",
    "\n",
    "한 라인은 하나의 단어와 그 단어의 vector로 이루어져 있으므로, 각 라인에 대해 첫 token을 word로, 나머지 100 token을 vector로 변환하면 됨 "
   ]
  },
  {
   "cell_type": "code",
   "execution_count": 337,
   "metadata": {},
   "outputs": [
    {
     "name": "stdout",
     "output_type": "stream",
     "text": [
      "Num of word vectors: 400000\n"
     ]
    }
   ],
   "source": [
    "glove_dir = './datasets/'\n",
    "import os\n",
    "import numpy as np\n",
    "\n",
    "embeddings_index = {}\n",
    "f = open(os.path.join(glove_dir, 'glove.6B.100d.txt'), encoding='utf8')\n",
    "for line in f:\n",
    "    values = line.split()\n",
    "    word = values[0]\n",
    "    coefs = np.asarray(values[1:], dtype='float32')\n",
    "    embeddings_index[word] = coefs\n",
    "f.close()\n",
    "\n",
    "print('Num of word vectors:', len(embeddings_index))"
   ]
  },
  {
   "cell_type": "code",
   "execution_count": 338,
   "metadata": {},
   "outputs": [
    {
     "data": {
      "text/plain": [
       "43296"
      ]
     },
     "execution_count": 338,
     "metadata": {},
     "output_type": "execute_result"
    }
   ],
   "source": [
    "# 처음 데이터를 생성할 때 사용한 tokenizer에서 word_index를 추출\n",
    "# 이 word_index에 맞게 glove로부터 해당하는 word vector를 가져옴\n",
    "word_index = tokenizer.word_index\n",
    "len(word_index)"
   ]
  },
  {
   "cell_type": "code",
   "execution_count": 339,
   "metadata": {},
   "outputs": [],
   "source": [
    "#embedding matrix를 생성: word_index에서 max_words 만큼의 단어에 대해 glove의 embeddings_index를 추출하여 matrix 생성\n",
    "#추출한 matrix는 embedding 층의 weight로 고정해서 사용함\n",
    "\n",
    "embedding_dim = 100 # glove의 vector dimension\n",
    "embedding_matrix = np.zeros((max_words, embedding_dim))\n",
    "for word, i in word_index.items():\n",
    "    if i < max_words:\n",
    "        embedding_vector = embeddings_index.get(word)\n",
    "        if embedding_vector is not None:\n",
    "            embedding_matrix[i] = embedding_vector"
   ]
  },
  {
   "cell_type": "code",
   "execution_count": 340,
   "metadata": {},
   "outputs": [],
   "source": [
    "from keras.models import Sequential\n",
    "from keras.layers import Flatten, Dense, Embedding\n",
    "from keras.layers import SimpleRNN, LSTM\n",
    "\n",
    "model = Sequential()\n",
    "model.add(Embedding(max_words, embedding_dim))\n",
    "#model.add(SimpleRNN(32))\n",
    "model.add(LSTM(32))\n",
    "model.add(Dense(1, activation='sigmoid'))"
   ]
  },
  {
   "cell_type": "code",
   "execution_count": 341,
   "metadata": {},
   "outputs": [
    {
     "name": "stdout",
     "output_type": "stream",
     "text": [
      "Model: \"sequential_15\"\n",
      "_________________________________________________________________\n",
      "Layer (type)                 Output Shape              Param #   \n",
      "=================================================================\n",
      "embedding_15 (Embedding)     (None, None, 100)         1000000   \n",
      "_________________________________________________________________\n",
      "lstm_4 (LSTM)                (None, 32)                17024     \n",
      "_________________________________________________________________\n",
      "dense_15 (Dense)             (None, 1)                 33        \n",
      "=================================================================\n",
      "Total params: 1,017,057\n",
      "Trainable params: 17,057\n",
      "Non-trainable params: 1,000,000\n",
      "_________________________________________________________________\n"
     ]
    }
   ],
   "source": [
    "model.layers[0].set_weights([embedding_matrix])\n",
    "model.layers[0].trainable = False #값을 고정\n",
    "model.summary()"
   ]
  },
  {
   "cell_type": "code",
   "execution_count": 342,
   "metadata": {},
   "outputs": [
    {
     "name": "stdout",
     "output_type": "stream",
     "text": [
      "Epoch 1/30\n",
      "5/5 [==============================] - 9s 2s/step - loss: 0.7059 - acc: 0.5078 - val_loss: 0.6922 - val_acc: 0.5031\n",
      "Epoch 2/30\n",
      "5/5 [==============================] - 6s 1s/step - loss: 0.6734 - acc: 0.5898 - val_loss: 0.6825 - val_acc: 0.5750\n",
      "Epoch 3/30\n",
      "5/5 [==============================] - 6s 1s/step - loss: 0.6661 - acc: 0.5891 - val_loss: 0.6710 - val_acc: 0.5906\n",
      "Epoch 4/30\n",
      "5/5 [==============================] - 6s 1s/step - loss: 0.6493 - acc: 0.6297 - val_loss: 0.6619 - val_acc: 0.5969\n",
      "Epoch 5/30\n",
      "5/5 [==============================] - 6s 1s/step - loss: 0.6258 - acc: 0.6539 - val_loss: 0.6270 - val_acc: 0.6531\n",
      "Epoch 6/30\n",
      "5/5 [==============================] - 6s 1s/step - loss: 0.6320 - acc: 0.6375 - val_loss: 0.6112 - val_acc: 0.6750\n",
      "Epoch 7/30\n",
      "5/5 [==============================] - 6s 1s/step - loss: 0.6132 - acc: 0.6477 - val_loss: 0.6480 - val_acc: 0.6250\n",
      "Epoch 8/30\n",
      "5/5 [==============================] - 6s 1s/step - loss: 0.6197 - acc: 0.6453 - val_loss: 0.6520 - val_acc: 0.6250\n",
      "Epoch 9/30\n",
      "5/5 [==============================] - 6s 1s/step - loss: 0.5949 - acc: 0.7008 - val_loss: 0.6390 - val_acc: 0.6500\n",
      "Epoch 10/30\n",
      "5/5 [==============================] - 6s 1s/step - loss: 0.5845 - acc: 0.7055 - val_loss: 0.6253 - val_acc: 0.6594\n",
      "Epoch 11/30\n",
      "5/5 [==============================] - 5s 1s/step - loss: 0.5582 - acc: 0.7156 - val_loss: 0.5896 - val_acc: 0.6906\n",
      "Epoch 12/30\n",
      "5/5 [==============================] - 5s 1s/step - loss: 0.5143 - acc: 0.7609 - val_loss: 0.5864 - val_acc: 0.6781\n",
      "Epoch 13/30\n",
      "5/5 [==============================] - 5s 1s/step - loss: 0.5101 - acc: 0.7570 - val_loss: 0.5753 - val_acc: 0.7219\n",
      "Epoch 14/30\n",
      "5/5 [==============================] - 5s 1s/step - loss: 0.5180 - acc: 0.7359 - val_loss: 0.6046 - val_acc: 0.6594\n",
      "Epoch 15/30\n",
      "5/5 [==============================] - 5s 1s/step - loss: 0.4903 - acc: 0.7648 - val_loss: 0.5620 - val_acc: 0.7500\n",
      "Epoch 16/30\n",
      "5/5 [==============================] - 5s 1s/step - loss: 0.4538 - acc: 0.7875 - val_loss: 0.5459 - val_acc: 0.7563\n",
      "Epoch 17/30\n",
      "5/5 [==============================] - 5s 1s/step - loss: 0.4379 - acc: 0.7984 - val_loss: 0.5437 - val_acc: 0.7531\n",
      "Epoch 18/30\n",
      "5/5 [==============================] - 6s 1s/step - loss: 0.4048 - acc: 0.8078 - val_loss: 0.5363 - val_acc: 0.7594\n",
      "Epoch 19/30\n",
      "5/5 [==============================] - 6s 1s/step - loss: 0.3825 - acc: 0.8336 - val_loss: 0.5312 - val_acc: 0.7719\n",
      "Epoch 20/30\n",
      "5/5 [==============================] - 5s 1s/step - loss: 0.3582 - acc: 0.8469 - val_loss: 0.5346 - val_acc: 0.7750\n",
      "Epoch 21/30\n",
      "5/5 [==============================] - 5s 1s/step - loss: 0.3321 - acc: 0.8664 - val_loss: 0.5525 - val_acc: 0.7625\n",
      "Epoch 22/30\n",
      "5/5 [==============================] - 6s 1s/step - loss: 0.3042 - acc: 0.8789 - val_loss: 0.5576 - val_acc: 0.7406\n",
      "Epoch 23/30\n",
      "5/5 [==============================] - 7s 1s/step - loss: 0.2793 - acc: 0.8977 - val_loss: 0.5346 - val_acc: 0.7625\n",
      "Epoch 24/30\n",
      "5/5 [==============================] - 6s 1s/step - loss: 0.3253 - acc: 0.8602 - val_loss: 0.5719 - val_acc: 0.7281\n",
      "Epoch 25/30\n",
      "5/5 [==============================] - 6s 1s/step - loss: 0.3195 - acc: 0.8789 - val_loss: 0.5704 - val_acc: 0.7188\n",
      "Epoch 26/30\n",
      "5/5 [==============================] - 6s 1s/step - loss: 0.2582 - acc: 0.9000 - val_loss: 0.6164 - val_acc: 0.7500\n",
      "Epoch 27/30\n",
      "5/5 [==============================] - 6s 1s/step - loss: 0.2423 - acc: 0.9016 - val_loss: 0.5751 - val_acc: 0.7469\n",
      "Epoch 28/30\n",
      "5/5 [==============================] - 6s 1s/step - loss: 0.2202 - acc: 0.9242 - val_loss: 0.5713 - val_acc: 0.7625\n",
      "Epoch 29/30\n",
      "5/5 [==============================] - 6s 1s/step - loss: 0.1862 - acc: 0.9344 - val_loss: 0.6281 - val_acc: 0.7594\n",
      "Epoch 30/30\n",
      "5/5 [==============================] - 6s 1s/step - loss: 0.1627 - acc: 0.9391 - val_loss: 0.6117 - val_acc: 0.7781\n"
     ]
    }
   ],
   "source": [
    "from keras import optimizers\n",
    "#rmsprop = optimizers.RMSprop(lr=0.0001, rho=0.9, epsilon=None, decay=0.0) #default lr은 0.001\n",
    "#rmsprop = optimizers.RMSprop(lr=0.005) #default lr은 0.001\n",
    "adam = optimizers.Adam(lr=0.005) #default lr은 0.001\n",
    "\n",
    "# pre-train이 되어 있으므로 적은 수의 test set으로도 학습이 가능\n",
    "model.compile(optimizer=adam, loss='binary_crossentropy', metrics=['acc'])\n",
    "\n",
    "history = model.fit(X_train, y_train, \n",
    "                    epochs=30,\n",
    "                    batch_size=256,\n",
    "                    validation_split=0.2) \n",
    "#model.save_weights('pre_trained_glove_model.h5')"
   ]
  },
  {
   "cell_type": "code",
   "execution_count": 343,
   "metadata": {},
   "outputs": [
    {
     "data": {
      "image/png": "[encoded data removed]",
      "text/plain": [
       "<Figure size 432x288 with 1 Axes>"
      ]
     },
     "metadata": {
      "needs_background": "light"
     },
     "output_type": "display_data"
    }
   ],
   "source": [
    "history_dict = history.history\n",
    "acc = history_dict['acc']\n",
    "val_acc = history_dict['val_acc']\n",
    "\n",
    "epochs = range(1, len(acc) + 1)\n",
    "\n",
    "plt.plot(epochs, acc, 'bo', label='Training acc')\n",
    "plt.plot(epochs, val_acc, 'r', label='Validation acc')\n",
    "plt.title('Training and validation acc')\n",
    "plt.xlabel('Epochs')\n",
    "plt.ylabel('Accuracy')\n",
    "plt.legend()\n",
    "\n",
    "plt.show()"
   ]
  },
  {
   "cell_type": "code",
   "execution_count": 344,
   "metadata": {},
   "outputs": [
    {
     "name": "stdout",
     "output_type": "stream",
     "text": [
      "13/13 [==============================] - 3s 196ms/step - loss: 0.6021 - acc: 0.7525\n",
      "[0.6021198034286499, 0.7524999976158142]\n"
     ]
    }
   ],
   "source": [
    "score = model.evaluate(X_test, y_test)\n",
    "print(score)"
   ]
  },
  {
   "cell_type": "markdown",
   "metadata": {},
   "source": [
    "### glove를 사용하지 않으면서 좀 더 정교한 모형을 사용하여 학습\n",
    "optimizer를 정교하게 조정하고, regularizer를 추가"
   ]
  },
  {
   "cell_type": "code",
   "execution_count": 345,
   "metadata": {},
   "outputs": [
    {
     "name": "stdout",
     "output_type": "stream",
     "text": [
      "Model: \"sequential_16\"\n",
      "_________________________________________________________________\n",
      "Layer (type)                 Output Shape              Param #   \n",
      "=================================================================\n",
      "embedding_16 (Embedding)     (None, None, 32)          320000    \n",
      "_________________________________________________________________\n",
      "lstm_5 (LSTM)                (None, 32)                8320      \n",
      "_________________________________________________________________\n",
      "dense_16 (Dense)             (None, 1)                 33        \n",
      "=================================================================\n",
      "Total params: 328,353\n",
      "Trainable params: 328,353\n",
      "Non-trainable params: 0\n",
      "_________________________________________________________________\n"
     ]
    }
   ],
   "source": [
    "from keras.layers import SimpleRNN, LSTM\n",
    "from keras import regularizers\n",
    "\n",
    "model = Sequential()\n",
    "model.add(Embedding(max_words, 32))\n",
    "#model.add(SimpleRNN(32))\n",
    "model.add(LSTM(32))\n",
    "#model.add(Dense(32, kernel_regularizer=regularizers.l2(0.01)))\n",
    "model.add(Dense(1, activation='sigmoid', kernel_regularizer=regularizers.l2(0.1))) #0.01을 먼저 시도했음\n",
    "\n",
    "model.summary()"
   ]
  },
  {
   "cell_type": "code",
   "execution_count": 346,
   "metadata": {},
   "outputs": [
    {
     "name": "stdout",
     "output_type": "stream",
     "text": [
      "Epoch 1/30\n",
      "5/5 [==============================] - 13s 3s/step - loss: 0.8299 - acc: 0.5203 - val_loss: 0.7942 - val_acc: 0.5813\n",
      "Epoch 2/30\n",
      "5/5 [==============================] - 7s 1s/step - loss: 0.8335 - acc: 0.6109 - val_loss: 0.7628 - val_acc: 0.5844\n",
      "Epoch 3/30\n",
      "5/5 [==============================] - 7s 1s/step - loss: 0.6653 - acc: 0.7914 - val_loss: 0.8067 - val_acc: 0.5094\n",
      "Epoch 4/30\n",
      "5/5 [==============================] - 7s 1s/step - loss: 0.5762 - acc: 0.8398 - val_loss: 0.7843 - val_acc: 0.6062\n",
      "Epoch 5/30\n",
      "5/5 [==============================] - 7s 1s/step - loss: 0.4769 - acc: 0.8773 - val_loss: 0.7276 - val_acc: 0.6750\n",
      "Epoch 6/30\n",
      "5/5 [==============================] - 7s 1s/step - loss: 0.4398 - acc: 0.8789 - val_loss: 0.6799 - val_acc: 0.7000\n",
      "Epoch 7/30\n",
      "5/5 [==============================] - 8s 2s/step - loss: 0.3084 - acc: 0.9578 - val_loss: 0.7823 - val_acc: 0.6219\n",
      "Epoch 8/30\n",
      "5/5 [==============================] - 8s 2s/step - loss: 0.2954 - acc: 0.9594 - val_loss: 0.7678 - val_acc: 0.6844\n",
      "Epoch 9/30\n",
      "5/5 [==============================] - 8s 2s/step - loss: 0.2146 - acc: 0.9859 - val_loss: 0.7356 - val_acc: 0.6938\n",
      "Epoch 10/30\n",
      "5/5 [==============================] - 8s 2s/step - loss: 0.2067 - acc: 0.9914 - val_loss: 0.7742 - val_acc: 0.7000\n",
      "Epoch 11/30\n",
      "5/5 [==============================] - 7s 1s/step - loss: 0.3329 - acc: 0.9234 - val_loss: 0.7497 - val_acc: 0.6656\n",
      "Epoch 12/30\n",
      "5/5 [==============================] - 8s 2s/step - loss: 0.2178 - acc: 0.9844 - val_loss: 0.7802 - val_acc: 0.6938\n",
      "Epoch 13/30\n",
      "5/5 [==============================] - 8s 2s/step - loss: 0.1916 - acc: 0.9883 - val_loss: 0.7662 - val_acc: 0.6844\n",
      "Epoch 14/30\n",
      "5/5 [==============================] - 7s 1s/step - loss: 0.1555 - acc: 0.9984 - val_loss: 0.8144 - val_acc: 0.6969\n",
      "Epoch 15/30\n",
      "5/5 [==============================] - 7s 1s/step - loss: 0.1452 - acc: 0.9992 - val_loss: 0.7719 - val_acc: 0.7281\n",
      "Epoch 16/30\n",
      "5/5 [==============================] - 7s 1s/step - loss: 0.1370 - acc: 0.9992 - val_loss: 0.7825 - val_acc: 0.7250\n",
      "Epoch 17/30\n",
      "5/5 [==============================] - 7s 1s/step - loss: 0.1303 - acc: 0.9992 - val_loss: 0.8100 - val_acc: 0.7281\n",
      "Epoch 18/30\n",
      "5/5 [==============================] - 7s 1s/step - loss: 0.1747 - acc: 0.9773 - val_loss: 0.8301 - val_acc: 0.5906\n",
      "Epoch 19/30\n",
      "5/5 [==============================] - 8s 2s/step - loss: 0.2680 - acc: 0.9414 - val_loss: 0.7747 - val_acc: 0.6781\n",
      "Epoch 20/30\n",
      "5/5 [==============================] - 7s 1s/step - loss: 0.1334 - acc: 1.0000 - val_loss: 0.7884 - val_acc: 0.7094\n",
      "Epoch 21/30\n",
      "5/5 [==============================] - 7s 1s/step - loss: 0.1206 - acc: 1.0000 - val_loss: 0.8380 - val_acc: 0.7219\n",
      "Epoch 22/30\n",
      "5/5 [==============================] - 8s 2s/step - loss: 0.2309 - acc: 0.9594 - val_loss: 0.7803 - val_acc: 0.6406\n",
      "Epoch 23/30\n",
      "5/5 [==============================] - 7s 1s/step - loss: 0.1526 - acc: 0.9937 - val_loss: 0.8087 - val_acc: 0.6625\n",
      "Epoch 24/30\n",
      "5/5 [==============================] - 7s 1s/step - loss: 0.1247 - acc: 1.0000 - val_loss: 0.7967 - val_acc: 0.6969\n",
      "Epoch 25/30\n",
      "5/5 [==============================] - 8s 2s/step - loss: 0.1169 - acc: 1.0000 - val_loss: 0.8201 - val_acc: 0.7000\n",
      "Epoch 26/30\n",
      "5/5 [==============================] - 7s 1s/step - loss: 0.1510 - acc: 0.9844 - val_loss: 0.7746 - val_acc: 0.6938\n",
      "Epoch 27/30\n",
      "5/5 [==============================] - 7s 1s/step - loss: 0.1189 - acc: 0.9977 - val_loss: 0.8437 - val_acc: 0.6781\n",
      "Epoch 28/30\n",
      "5/5 [==============================] - 7s 1s/step - loss: 0.1065 - acc: 1.0000 - val_loss: 0.8713 - val_acc: 0.6812\n",
      "Epoch 29/30\n",
      "5/5 [==============================] - 7s 1s/step - loss: 0.1032 - acc: 1.0000 - val_loss: 0.8728 - val_acc: 0.7031\n",
      "Epoch 30/30\n",
      "5/5 [==============================] - 8s 2s/step - loss: 0.1005 - acc: 1.0000 - val_loss: 0.8951 - val_acc: 0.7063\n"
     ]
    }
   ],
   "source": [
    "from keras import optimizers\n",
    "#adam = optimizers.Adam(lr=0.005) #default lr은 0.001\n",
    "rmsprop = optimizers.RMSprop(lr=0.005) #default lr은 0.001\n",
    "\n",
    "model.compile(optimizer=rmsprop, loss='binary_crossentropy', metrics=['acc']) \n",
    "#lr 조절 없고 l2=0.01일 때 test 0.775 나옴\n",
    "\n",
    "history = model.fit(X_train, y_train, \n",
    "                    epochs=30,\n",
    "                    batch_size=256,\n",
    "                    validation_split=0.2) "
   ]
  },
  {
   "cell_type": "code",
   "execution_count": 347,
   "metadata": {},
   "outputs": [
    {
     "name": "stdout",
     "output_type": "stream",
     "text": [
      "13/13 [==============================] - 2s 183ms/step - loss: 0.7780 - acc: 0.7500\n",
      "[0.7779614329338074, 0.75]\n"
     ]
    }
   ],
   "source": [
    "score = model.evaluate(X_test, y_test)\n",
    "print(score)"
   ]
  }
 ],
 "metadata": {
  "kernelspec": {
   "display_name": "Python 3",
   "language": "python",
   "name": "python3"
  },
  "language_info": {
   "codemirror_mode": {
    "name": "ipython",
    "version": 3
   },
   "file_extension": ".py",
   "mimetype": "text/x-python",
   "name": "python",
   "nbconvert_exporter": "python",
   "pygments_lexer": "ipython3",
   "version": "3.8.3"
  }
 },
 "nbformat": 4,
 "nbformat_minor": 4
}
